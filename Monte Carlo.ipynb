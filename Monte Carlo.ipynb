{
 "cells": [
  {
   "cell_type": "code",
   "execution_count": 1,
   "metadata": {},
   "outputs": [],
   "source": [
    "import numpy as np\n",
    "import pandas as pd\n",
    "\n",
    "import matplotlib.pyplot as plt\n",
    "\n",
    "import random"
   ]
  },
  {
   "cell_type": "code",
   "execution_count": 2,
   "metadata": {},
   "outputs": [],
   "source": [
    "basedir = r\"Khadija/\""
   ]
  },
  {
   "cell_type": "markdown",
   "metadata": {},
   "source": [
    "<b style = \"font-size:2em\"> Functions </b>"
   ]
  },
  {
   "cell_type": "code",
   "execution_count": 3,
   "metadata": {},
   "outputs": [],
   "source": [
    "def getRandom (rang):\n",
    "    \"\"\" Random index Generator Function\n",
    "\n",
    "            params:\n",
    "                rang (tuple) - range\n",
    "    \"\"\"\n",
    "\n",
    "    r_min, r_max = rang\n",
    "    result = random.randint(r_min, r_max)\n",
    "#     print(result)\n",
    "    return result\n",
    "\n",
    "def doMonteCarlo (array, realizations):\n",
    "    \"\"\"Random value sampling \n",
    "         \n",
    "         params:\n",
    "             array (ndarray) - array of properties\n",
    "             l (int)         - number of realizations\n",
    "    \"\"\"\n",
    "    up = len(array)\n",
    "    ls = []\n",
    "    for i in range(realizations):\n",
    "        index = getRandom ((0,up))\n",
    "        ls.append(array[index - 1])\n",
    "        \n",
    "    return np.array(ls)\n",
    "\n",
    "def getSTOIIP(GRV, NTG, poro, Sw, Bo):\n",
    "    \"\"\"Function to calculate STOIIP (Stock Tank Oil In Place) in STB\n",
    "            params:\n",
    "                GRV  (float64)- Gross Rock Volume in acre-ft\n",
    "                NTG           - Net to Gross Ratio\n",
    "                poro (ndarray)- 1D array of porosity realizations using MonteCarlo simulation\n",
    "                Sw   (ndarray)- 1D array of Sw realizations using MonteCarlo simulation\n",
    "                Bo   (float64)- Oil Formation Volume Factor (rb/stb)\n",
    "    \"\"\"\n",
    "    STOIIP = GRV * NTG * poro * (1 - Sw) / Bo\n",
    "    \n",
    "    return 7758 * STOIIP"
   ]
  },
  {
   "cell_type": "markdown",
   "metadata": {},
   "source": [
    "## Load Data and Pre-Process"
   ]
  },
  {
   "cell_type": "code",
   "execution_count": 4,
   "metadata": {},
   "outputs": [],
   "source": [
    "well1 = pd.read_csv(basedir + \"well1.csv\")\n",
    "well2 = pd.read_csv(basedir + \"well2.csv\")\n",
    "well3 = pd.read_csv(basedir + \"well3.csv\")\n",
    "well4 = pd.read_csv(basedir + \"well4.csv\")\n",
    "well5 = pd.read_csv(basedir + \"well5.csv\")\n",
    "well6 = pd.read_csv(basedir + \"well6.csv\")"
   ]
  },
  {
   "cell_type": "code",
   "execution_count": 5,
   "metadata": {},
   "outputs": [],
   "source": [
    "well1 = well1[well1['Porosity'].notnull()]\n",
    "well2 = well2[well2['Porosity'].notnull()]\n",
    "well3 = well3[well3['Porosity'].notnull()]\n",
    "well4 = well4[well4['Porosity'].notnull()]\n",
    "well5 = well5[well5['Porosity'].notnull()]\n",
    "well6 = well6[well6['Porosity'].notnull()]"
   ]
  },
  {
   "cell_type": "code",
   "execution_count": 6,
   "metadata": {},
   "outputs": [],
   "source": [
    "porosity_south = np.concatenate([well1['Porosity'], well2['Porosity'], well3['Porosity'], \n",
    "                           well4['Porosity']])\n",
    "Sw_south       = np.concatenate([well1['Saturation '], well2['Saturation '], well3['Saturation '], \n",
    "                           well4['Saturation ']])\n",
    "\n",
    "porosity_north = np.concatenate([well5['Porosity'], well6['Porosity']])\n",
    "                          \n",
    "Sw_north      = np.concatenate([well5['Saturation '], well6['Saturation ']])\n"
   ]
  },
  {
   "cell_type": "code",
   "execution_count": 7,
   "metadata": {},
   "outputs": [
    {
     "data": {
      "text/plain": [
       "0      0.187236\n",
       "1      0.212030\n",
       "2      0.220514\n",
       "3      0.268247\n",
       "4      0.277016\n",
       "         ...   \n",
       "805    0.247879\n",
       "806    0.239394\n",
       "807    0.232121\n",
       "808    0.229305\n",
       "809    0.228515\n",
       "Name: Porosity, Length: 808, dtype: float64"
      ]
     },
     "execution_count": 7,
     "metadata": {},
     "output_type": "execute_result"
    }
   ],
   "source": [
    "well1['Porosity']"
   ]
  },
  {
   "cell_type": "code",
   "execution_count": 8,
   "metadata": {},
   "outputs": [
    {
     "data": {
      "text/plain": [
       "0.356692"
      ]
     },
     "execution_count": 8,
     "metadata": {},
     "output_type": "execute_result"
    }
   ],
   "source": [
    "max(porosity_south)"
   ]
  },
  {
   "cell_type": "code",
   "execution_count": 9,
   "metadata": {},
   "outputs": [
    {
     "data": {
      "text/plain": [
       "Text(0.5, 1.0, 'North Block Sw Distribution')"
      ]
     },
     "execution_count": 9,
     "metadata": {},
     "output_type": "execute_result"
    },
    {
     "data": {
      "image/png": "[encoded data removed]",
      "text/plain": [
       "<Figure size 720x720 with 4 Axes>"
      ]
     },
     "metadata": {
      "needs_background": "light"
     },
     "output_type": "display_data"
    }
   ],
   "source": [
    "fig = plt.figure (figsize=(10,10))\n",
    "\n",
    "ax1 = fig.add_subplot(221)\n",
    "ax1.hist(porosity_south, edgecolor = 'black', bins = 20)\n",
    "ax1.set_title(\"South Block Porosity Distribution\")\n",
    "\n",
    "ax2 = fig.add_subplot(222)\n",
    "ax2.hist(Sw_south, edgecolor = 'black', bins = 20)\n",
    "ax2.set_title(\"South Block Sw Distribution\")\n",
    "\n",
    "ax3 = fig.add_subplot(223)\n",
    "ax3.hist(porosity_north, edgecolor = 'black', bins = 20)\n",
    "ax3.set_title(\"North Block Sw Distribution\")\n",
    "\n",
    "ax4 = fig.add_subplot(224)\n",
    "ax4.hist(Sw_north, edgecolor = 'black', bins = 20)\n",
    "ax4.set_title(\"North Block Sw Distribution\")"
   ]
  },
  {
   "cell_type": "markdown",
   "metadata": {},
   "source": [
    "## Monte-Carlo Simulation"
   ]
  },
  {
   "cell_type": "markdown",
   "metadata": {},
   "source": [
    "### 2 - Defining STOIIP Input Parameters"
   ]
  },
  {
   "cell_type": "code",
   "execution_count": 10,
   "metadata": {},
   "outputs": [],
   "source": [
    "NTG_South = 0.75\n",
    "NTG_North = 0.38\n",
    "\n",
    "Bo = 1.323\n",
    "\n",
    "GRV_South = 0.0008472357230624649 * 10**9\n",
    "GRV_North  = 0.00019273594871023391121  * 10**9"
   ]
  },
  {
   "cell_type": "markdown",
   "metadata": {},
   "source": [
    "### 3 - Calculation and Visualization of STOIIP"
   ]
  },
  {
   "cell_type": "code",
   "execution_count": 11,
   "metadata": {},
   "outputs": [],
   "source": [
    "from matplotlib.ticker import FormatStrFormatter\n",
    "from scipy.stats import norm"
   ]
  },
  {
   "cell_type": "code",
   "execution_count": 28,
   "metadata": {},
   "outputs": [],
   "source": [
    "def visualize (STOIIP):\n",
    "    fig = plt.figure(figsize=(10, 4))\n",
    "    \n",
    "    \n",
    "    \n",
    "    ax1 = fig.add_subplot(1,2,1)\n",
    "    ax1.hist(STOIIP, edgecolor = 'black', bins = 20, color = \"#4f4e4c\")\n",
    "    ax1.set_title (\"STOIIP (PDF)\")\n",
    "    ax1.grid(True)\n",
    "    xlabels = ['{:,.0f}'.format(x) + 'M' for x in ax1.get_xticks()/1000000]\n",
    "#     ax1.set_xticklabels(xlabels.astype(int))\n",
    "    ax1.set_xticklabels(xlabels)\n",
    "    \n",
    "    \n",
    "    ax2 = fig.add_subplot(1,2,2)\n",
    "    counts, bins, bars = ax2.hist(STOIIP, edgecolor = 'black', color = '#ff6608', bins = 20, cumulative=True, density = True)\n",
    "    ax2.grid(True)\n",
    "    ax2.invert_xaxis()\n",
    "    xlabels2 = ['{:,.0f}'.format(x) + 'M' for x in ax2.get_xticks()/1000000]\n",
    "    ax2.set_xticklabels(xlabels2)\n",
    "    \n",
    "    bins = np.delete(bins, -1)\n",
    "    ax2.plot(bins, (1 - counts), ls = '--', lw = '2.5', c = '#2d08ff')\n",
    "    ax2.set_title (\"STOIIP (CDF)\")\n"
   ]
  },
  {
   "cell_type": "code",
   "execution_count": 29,
   "metadata": {},
   "outputs": [
    {
     "name": "stdout",
     "output_type": "stream",
     "text": [
      "South Block STOIIP\n"
     ]
    },
    {
     "data": {
      "image/png": "[encoded data removed]",
      "text/plain": [
       "<Figure size 720x288 with 2 Axes>"
      ]
     },
     "metadata": {
      "needs_background": "light"
     },
     "output_type": "display_data"
    }
   ],
   "source": [
    "STOIIP_South = getSTOIIP(GRV_South, NTG_South, porosity_south, Sw_south, Bo)\n",
    "visualize(STOIIP_South)\n",
    "print('South Block STOIIP')"
   ]
  },
  {
   "cell_type": "code",
   "execution_count": 15,
   "metadata": {},
   "outputs": [],
   "source": [
    "mu_South, sigma_South = norm.fit(STOIIP_South)"
   ]
  },
  {
   "cell_type": "code",
   "execution_count": 16,
   "metadata": {},
   "outputs": [
    {
     "name": "stdout",
     "output_type": "stream",
     "text": [
      "South Block STOIIP stats\n",
      "------------------------\n",
      "P90:537.9189579311774 MMSTB\n",
      "P50:767.5273777021231 MMSTB\n",
      "P10:997.1357974730687 MMSTB\n"
     ]
    }
   ],
   "source": [
    "print(\"South Block STOIIP stats\")\n",
    "print(\"------------------------\")\n",
    "print(\"P90:{} MMSTB\".format(norm.ppf(0.10, loc = mu_South, scale = sigma_South)/10**6))\n",
    "print(\"P50:{} MMSTB\".format(norm.ppf(0.50, loc = mu_South, scale = sigma_South)/10**6))\n",
    "print(\"P10:{} MMSTB\".format(norm.ppf(0.90, loc = mu_South, scale = sigma_South)/10**6))"
   ]
  },
  {
   "cell_type": "code",
   "execution_count": 30,
   "metadata": {},
   "outputs": [
    {
     "name": "stdout",
     "output_type": "stream",
     "text": [
      "North Block STOIIP\n"
     ]
    },
    {
     "data": {
      "image/png": "[encoded data removed]",
      "text/plain": [
       "<Figure size 720x288 with 2 Axes>"
      ]
     },
     "metadata": {
      "needs_background": "light"
     },
     "output_type": "display_data"
    }
   ],
   "source": [
    "STOIIP_North = getSTOIIP(GRV_North, NTG_North, porosity_north, Sw_north, Bo)\n",
    "visualize(STOIIP_North)\n",
    "print(\"North Block STOIIP\")"
   ]
  },
  {
   "cell_type": "code",
   "execution_count": 18,
   "metadata": {},
   "outputs": [],
   "source": [
    "mu_North, sigma_North = norm.fit(STOIIP_North)"
   ]
  },
  {
   "cell_type": "code",
   "execution_count": 19,
   "metadata": {},
   "outputs": [
    {
     "name": "stdout",
     "output_type": "stream",
     "text": [
      "North Block STOIIP stats\n",
      "------------------------\n",
      "P90:42.77968373618102 MMSTB\n",
      "P50:72.17720096991536 MMSTB\n",
      "P10:101.5747182036497 MMSTB\n"
     ]
    }
   ],
   "source": [
    "print(\"North Block STOIIP stats\")\n",
    "print(\"------------------------\")\n",
    "print(\"P90:{} MMSTB\".format(norm.ppf(0.10, loc = mu_North, scale = sigma_North)/10**6))\n",
    "print(\"P50:{} MMSTB\".format(norm.ppf(0.50, loc = mu_North, scale = sigma_North)/10**6))\n",
    "print(\"P10:{} MMSTB\".format(norm.ppf(0.90, loc = mu_North, scale = sigma_North)/10**6))"
   ]
  }
 ],
 "metadata": {
  "kernelspec": {
   "display_name": "Stdlog",
   "language": "python",
   "name": "stdlog"
  },
  "language_info": {
   "codemirror_mode": {
    "name": "ipython",
    "version": 3
   },
   "file_extension": ".py",
   "mimetype": "text/x-python",
   "name": "python",
   "nbconvert_exporter": "python",
   "pygments_lexer": "ipython3",
   "version": "3.6.8"
  }
 },
 "nbformat": 4,
 "nbformat_minor": 4
}
