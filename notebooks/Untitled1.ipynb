{
 "cells": [
  {
   "cell_type": "code",
   "execution_count": 2,
   "metadata": {},
   "outputs": [],
   "source": [
    "import numpy as np\n",
    "import pandas as pd\n",
    "import matplotlib.pyplot as plt"
   ]
  },
  {
   "cell_type": "code",
   "execution_count": 3,
   "metadata": {},
   "outputs": [],
   "source": [
    "index  = ['tophole', 'bottomhole']"
   ]
  },
  {
   "cell_type": "code",
   "execution_count": 4,
   "metadata": {},
   "outputs": [],
   "source": [
    "X4 = {\n",
    "    'MD' : [0, 12998],\n",
    "    'TVD': [-78, 11622.3],\n",
    "    'E'  : [690.5, 372],\n",
    "    'N'  : [142.7, 987.5]\n",
    "}\n",
    "\n",
    "X3 = {\n",
    "    'MD' : [0, 12134],\n",
    "    'TVD': [-78, 10969.3],\n",
    "    'E'  : [691.5, 656.3],\n",
    "    'N'  : [140.3, 267.7]\n",
    "}\n",
    "\n",
    "X5 = {\n",
    "    'MD' : [0, 11799],\n",
    "    'TVD': [-78, 11116],\n",
    "    'E'  : [692.9, 397.6],\n",
    "    'N'  : [143.7, 797.8]\n",
    "}\n",
    "\n",
    "X6 = {\n",
    "    'MD' : [0, 11552],\n",
    "    'TVD': [-130, 10975],\n",
    "    'E'  : [688.1, 562.4],\n",
    "    'N'  : [141.8, 707.4]\n",
    "}\n",
    "\n"
   ]
  },
  {
   "cell_type": "code",
   "execution_count": 5,
   "metadata": {},
   "outputs": [],
   "source": [
    "X3_directional = pd.DataFrame(X3, index = index)\n",
    "X4_directional = pd.DataFrame(X4, index = index)\n",
    "X5_directional = pd.DataFrame(X5, index = index)\n",
    "X6_directional = pd.DataFrame(X6, index = index)"
   ]
  },
  {
   "cell_type": "code",
   "execution_count": 10,
   "metadata": {},
   "outputs": [
    {
     "data": {
      "text/html": [
       "<div>\n",
       "<style scoped>\n",
       "    .dataframe tbody tr th:only-of-type {\n",
       "        vertical-align: middle;\n",
       "    }\n",
       "\n",
       "    .dataframe tbody tr th {\n",
       "        vertical-align: top;\n",
       "    }\n",
       "\n",
       "    .dataframe thead th {\n",
       "        text-align: right;\n",
       "    }\n",
       "</style>\n",
       "<table border=\"1\" class=\"dataframe\">\n",
       "  <thead>\n",
       "    <tr style=\"text-align: right;\">\n",
       "      <th></th>\n",
       "      <th>MD</th>\n",
       "      <th>TVD</th>\n",
       "      <th>E</th>\n",
       "      <th>N</th>\n",
       "    </tr>\n",
       "  </thead>\n",
       "  <tbody>\n",
       "    <tr>\n",
       "      <td>tophole</td>\n",
       "      <td>0</td>\n",
       "      <td>-78.0</td>\n",
       "      <td>691.5</td>\n",
       "      <td>140.3</td>\n",
       "    </tr>\n",
       "    <tr>\n",
       "      <td>bottomhole</td>\n",
       "      <td>12134</td>\n",
       "      <td>10969.3</td>\n",
       "      <td>656.3</td>\n",
       "      <td>267.7</td>\n",
       "    </tr>\n",
       "  </tbody>\n",
       "</table>\n",
       "</div>"
      ],
      "text/plain": [
       "               MD      TVD      E      N\n",
       "tophole         0    -78.0  691.5  140.3\n",
       "bottomhole  12134  10969.3  656.3  267.7"
      ]
     },
     "execution_count": 10,
     "metadata": {},
     "output_type": "execute_result"
    }
   ],
   "source": [
    "X3_directional"
   ]
  },
  {
   "cell_type": "code",
   "execution_count": 6,
   "metadata": {},
   "outputs": [],
   "source": [
    "X3_por = np.random.rand(50, 1).flatten()\n",
    "X4_por = np.random.rand(50, 1).flatten()\n",
    "X5_por = np.random.rand(50, 1).flatten()\n",
    "X6_por = np.random.rand(50, 1).flatten()"
   ]
  },
  {
   "cell_type": "code",
   "execution_count": 7,
   "metadata": {},
   "outputs": [],
   "source": [
    "X3_data = {\n",
    "    'DEPTH': np.arange(10000, 10050),\n",
    "    'Por'  : X3_por\n",
    "}\n",
    "\n",
    "X4_data = {\n",
    "    'DEPTH': np.arange(10110, 10160),\n",
    "    'Por'  : X4_por\n",
    "}\n",
    "\n",
    "X5_data = {\n",
    "    'DEPTH': np.arange(10060, 10110),\n",
    "    'Por'  : X5_por\n",
    "}\n",
    "\n",
    "X6_data = {\n",
    "    'DEPTH': np.arange(10020, 10070),\n",
    "    'Por'  : X6_por\n",
    "}"
   ]
  },
  {
   "cell_type": "code",
   "execution_count": 8,
   "metadata": {},
   "outputs": [],
   "source": [
    "X3_df = pd.DataFrame(X3_data)\n",
    "X4_df = pd.DataFrame(X4_data)\n",
    "X5_df = pd.DataFrame(X5_data)\n",
    "X6_df = pd.DataFrame(X6_data)"
   ]
  }
 ],
 "metadata": {
  "kernelspec": {
   "display_name": "Stdlog",
   "language": "python",
   "name": "stdlog"
  },
  "language_info": {
   "codemirror_mode": {
    "name": "ipython",
    "version": 3
   },
   "file_extension": ".py",
   "mimetype": "text/x-python",
   "name": "python",
   "nbconvert_exporter": "python",
   "pygments_lexer": "ipython3",
   "version": "3.6.8"
  }
 },
 "nbformat": 4,
 "nbformat_minor": 2
}
