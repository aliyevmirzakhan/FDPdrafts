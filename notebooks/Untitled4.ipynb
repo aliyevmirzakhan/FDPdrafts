{
 "cells": [
  {
   "cell_type": "code",
   "execution_count": 90,
   "metadata": {},
   "outputs": [],
   "source": [
    "import gempy as gp\n",
    "import numpy as np\n",
    "import matplotlib.pyplot as plt"
   ]
  },
  {
   "cell_type": "code",
   "execution_count": 91,
   "metadata": {},
   "outputs": [],
   "source": [
    "geomodel = gp.create_model(\"X-field\")"
   ]
  },
  {
   "cell_type": "code",
   "execution_count": 92,
   "metadata": {},
   "outputs": [],
   "source": [
    "basedir = 'model_input/'"
   ]
  },
  {
   "cell_type": "code",
   "execution_count": 98,
   "metadata": {},
   "outputs": [
    {
     "name": "stdout",
     "output_type": "stream",
     "text": [
      "Active grids: ['regular']\n"
     ]
    },
    {
     "data": {
      "text/plain": [
       "X-field  2019-10-26 12:53"
      ]
     },
     "execution_count": 98,
     "metadata": {},
     "output_type": "execute_result"
    }
   ],
   "source": [
    "gp.init_data(geomodel, [5000., 20000.,2500.,12500.,9000.,12000.], [50,50,50],\n",
    "            path_i = basedir + 'welloc.csv',\n",
    "            path_o = basedir + 'orientations.csv',\n",
    "            default_values=True)"
   ]
  },
  {
   "cell_type": "code",
   "execution_count": 99,
   "metadata": {},
   "outputs": [
    {
     "data": {
      "text/html": [
       "<div>\n",
       "<style scoped>\n",
       "    .dataframe tbody tr th:only-of-type {\n",
       "        vertical-align: middle;\n",
       "    }\n",
       "\n",
       "    .dataframe tbody tr th {\n",
       "        vertical-align: top;\n",
       "    }\n",
       "\n",
       "    .dataframe thead th {\n",
       "        text-align: right;\n",
       "    }\n",
       "</style>\n",
       "<table border=\"1\" class=\"dataframe\">\n",
       "  <thead>\n",
       "    <tr style=\"text-align: right;\">\n",
       "      <th></th>\n",
       "      <th>X</th>\n",
       "      <th>Y</th>\n",
       "      <th>Z</th>\n",
       "      <th>X_r</th>\n",
       "      <th>Y_r</th>\n",
       "      <th>Z_r</th>\n",
       "      <th>surface</th>\n",
       "      <th>series</th>\n",
       "      <th>id</th>\n",
       "      <th>order_series</th>\n",
       "      <th>smooth</th>\n",
       "    </tr>\n",
       "  </thead>\n",
       "  <tbody>\n",
       "    <tr>\n",
       "      <th>128</th>\n",
       "      <td>11584.500000</td>\n",
       "      <td>8892.310000</td>\n",
       "      <td>9810.0</td>\n",
       "      <td>0.572932</td>\n",
       "      <td>0.482668</td>\n",
       "      <td>0.445571</td>\n",
       "      <td>fault1</td>\n",
       "      <td>Fault_Series</td>\n",
       "      <td>1</td>\n",
       "      <td>1</td>\n",
       "      <td>1.000000e-08</td>\n",
       "    </tr>\n",
       "    <tr>\n",
       "      <th>129</th>\n",
       "      <td>11663.572861</td>\n",
       "      <td>8750.193989</td>\n",
       "      <td>10300.0</td>\n",
       "      <td>0.579005</td>\n",
       "      <td>0.471753</td>\n",
       "      <td>0.483204</td>\n",
       "      <td>fault1</td>\n",
       "      <td>Fault_Series</td>\n",
       "      <td>1</td>\n",
       "      <td>1</td>\n",
       "      <td>1.000000e-08</td>\n",
       "    </tr>\n",
       "    <tr>\n",
       "      <th>130</th>\n",
       "      <td>11668.349359</td>\n",
       "      <td>8741.612575</td>\n",
       "      <td>11500.0</td>\n",
       "      <td>0.579372</td>\n",
       "      <td>0.471094</td>\n",
       "      <td>0.575366</td>\n",
       "      <td>fault1</td>\n",
       "      <td>Fault_Series</td>\n",
       "      <td>1</td>\n",
       "      <td>1</td>\n",
       "      <td>1.000000e-08</td>\n",
       "    </tr>\n",
       "    <tr>\n",
       "      <th>0</th>\n",
       "      <td>10532.520904</td>\n",
       "      <td>7213.263430</td>\n",
       "      <td>9896.0</td>\n",
       "      <td>0.492138</td>\n",
       "      <td>0.353714</td>\n",
       "      <td>0.452176</td>\n",
       "      <td>chalk</td>\n",
       "      <td>Strat_Series</td>\n",
       "      <td>2</td>\n",
       "      <td>2</td>\n",
       "      <td>1.000000e-08</td>\n",
       "    </tr>\n",
       "    <tr>\n",
       "      <th>1</th>\n",
       "      <td>10532.520904</td>\n",
       "      <td>7213.263430</td>\n",
       "      <td>9996.0</td>\n",
       "      <td>0.492138</td>\n",
       "      <td>0.353714</td>\n",
       "      <td>0.459856</td>\n",
       "      <td>chalk</td>\n",
       "      <td>Strat_Series</td>\n",
       "      <td>2</td>\n",
       "      <td>2</td>\n",
       "      <td>1.000000e-08</td>\n",
       "    </tr>\n",
       "    <tr>\n",
       "      <th>...</th>\n",
       "      <td>...</td>\n",
       "      <td>...</td>\n",
       "      <td>...</td>\n",
       "      <td>...</td>\n",
       "      <td>...</td>\n",
       "      <td>...</td>\n",
       "      <td>...</td>\n",
       "      <td>...</td>\n",
       "      <td>...</td>\n",
       "      <td>...</td>\n",
       "      <td>...</td>\n",
       "    </tr>\n",
       "    <tr>\n",
       "      <th>123</th>\n",
       "      <td>10532.520904</td>\n",
       "      <td>7213.263430</td>\n",
       "      <td>10427.0</td>\n",
       "      <td>0.492138</td>\n",
       "      <td>0.353714</td>\n",
       "      <td>0.492957</td>\n",
       "      <td>main_sand</td>\n",
       "      <td>Strat_Series</td>\n",
       "      <td>4</td>\n",
       "      <td>2</td>\n",
       "      <td>1.000000e-08</td>\n",
       "    </tr>\n",
       "    <tr>\n",
       "      <th>124</th>\n",
       "      <td>10532.520904</td>\n",
       "      <td>7213.263430</td>\n",
       "      <td>10527.0</td>\n",
       "      <td>0.492138</td>\n",
       "      <td>0.353714</td>\n",
       "      <td>0.500638</td>\n",
       "      <td>main_sand</td>\n",
       "      <td>Strat_Series</td>\n",
       "      <td>4</td>\n",
       "      <td>2</td>\n",
       "      <td>1.000000e-08</td>\n",
       "    </tr>\n",
       "    <tr>\n",
       "      <th>125</th>\n",
       "      <td>10532.520904</td>\n",
       "      <td>7213.263430</td>\n",
       "      <td>10550.0</td>\n",
       "      <td>0.492138</td>\n",
       "      <td>0.353714</td>\n",
       "      <td>0.502404</td>\n",
       "      <td>main_sand</td>\n",
       "      <td>Strat_Series</td>\n",
       "      <td>4</td>\n",
       "      <td>2</td>\n",
       "      <td>1.000000e-08</td>\n",
       "    </tr>\n",
       "    <tr>\n",
       "      <th>126</th>\n",
       "      <td>10532.520904</td>\n",
       "      <td>7213.263430</td>\n",
       "      <td>10567.0</td>\n",
       "      <td>0.492138</td>\n",
       "      <td>0.353714</td>\n",
       "      <td>0.503710</td>\n",
       "      <td>main_sand</td>\n",
       "      <td>Strat_Series</td>\n",
       "      <td>4</td>\n",
       "      <td>2</td>\n",
       "      <td>1.000000e-08</td>\n",
       "    </tr>\n",
       "    <tr>\n",
       "      <th>127</th>\n",
       "      <td>10532.520904</td>\n",
       "      <td>7213.263430</td>\n",
       "      <td>10567.5</td>\n",
       "      <td>0.492138</td>\n",
       "      <td>0.353714</td>\n",
       "      <td>0.503748</td>\n",
       "      <td>main_sand</td>\n",
       "      <td>Strat_Series</td>\n",
       "      <td>4</td>\n",
       "      <td>2</td>\n",
       "      <td>1.000000e-08</td>\n",
       "    </tr>\n",
       "  </tbody>\n",
       "</table>\n",
       "<p>131 rows × 11 columns</p>\n",
       "</div>"
      ],
      "text/plain": [
       "                X            Y        Z       X_r       Y_r       Z_r  \\\n",
       "128  11584.500000  8892.310000   9810.0  0.572932  0.482668  0.445571   \n",
       "129  11663.572861  8750.193989  10300.0  0.579005  0.471753  0.483204   \n",
       "130  11668.349359  8741.612575  11500.0  0.579372  0.471094  0.575366   \n",
       "0    10532.520904  7213.263430   9896.0  0.492138  0.353714  0.452176   \n",
       "1    10532.520904  7213.263430   9996.0  0.492138  0.353714  0.459856   \n",
       "..            ...          ...      ...       ...       ...       ...   \n",
       "123  10532.520904  7213.263430  10427.0  0.492138  0.353714  0.492957   \n",
       "124  10532.520904  7213.263430  10527.0  0.492138  0.353714  0.500638   \n",
       "125  10532.520904  7213.263430  10550.0  0.492138  0.353714  0.502404   \n",
       "126  10532.520904  7213.263430  10567.0  0.492138  0.353714  0.503710   \n",
       "127  10532.520904  7213.263430  10567.5  0.492138  0.353714  0.503748   \n",
       "\n",
       "       surface        series  id  order_series        smooth  \n",
       "128     fault1  Fault_Series   1             1  1.000000e-08  \n",
       "129     fault1  Fault_Series   1             1  1.000000e-08  \n",
       "130     fault1  Fault_Series   1             1  1.000000e-08  \n",
       "0        chalk  Strat_Series   2             2  1.000000e-08  \n",
       "1        chalk  Strat_Series   2             2  1.000000e-08  \n",
       "..         ...           ...  ..           ...           ...  \n",
       "123  main_sand  Strat_Series   4             2  1.000000e-08  \n",
       "124  main_sand  Strat_Series   4             2  1.000000e-08  \n",
       "125  main_sand  Strat_Series   4             2  1.000000e-08  \n",
       "126  main_sand  Strat_Series   4             2  1.000000e-08  \n",
       "127  main_sand  Strat_Series   4             2  1.000000e-08  \n",
       "\n",
       "[131 rows x 11 columns]"
      ]
     },
     "execution_count": 99,
     "metadata": {},
     "output_type": "execute_result"
    }
   ],
   "source": [
    "gp.get_data(geomodel, 'surface_points')"
   ]
  },
  {
   "cell_type": "code",
   "execution_count": 100,
   "metadata": {},
   "outputs": [
    {
     "data": {
      "text/html": [
       "<style  type=\"text/css\" >\n",
       "    #T_14e9ec18_f7ce_11e9_87e9_f4066906adf6row0_col4 {\n",
       "            background-color:  #728f02;\n",
       "        }    #T_14e9ec18_f7ce_11e9_87e9_f4066906adf6row1_col4 {\n",
       "            background-color:  #015482;\n",
       "        }    #T_14e9ec18_f7ce_11e9_87e9_f4066906adf6row2_col4 {\n",
       "            background-color:  #9f0052;\n",
       "        }    #T_14e9ec18_f7ce_11e9_87e9_f4066906adf6row3_col4 {\n",
       "            background-color:  #ffbe00;\n",
       "        }    #T_14e9ec18_f7ce_11e9_87e9_f4066906adf6row4_col4 {\n",
       "            background-color:  #443988;\n",
       "        }</style><table id=\"T_14e9ec18_f7ce_11e9_87e9_f4066906adf6\" ><thead>    <tr>        <th class=\"blank level0\" ></th>        <th class=\"col_heading level0 col0\" >surface</th>        <th class=\"col_heading level0 col1\" >series</th>        <th class=\"col_heading level0 col2\" >order_surfaces</th>        <th class=\"col_heading level0 col3\" >isBasement</th>        <th class=\"col_heading level0 col4\" >color</th>        <th class=\"col_heading level0 col5\" >id</th>    </tr></thead><tbody>\n",
       "                <tr>\n",
       "                        <th id=\"T_14e9ec18_f7ce_11e9_87e9_f4066906adf6level0_row0\" class=\"row_heading level0 row0\" >3</th>\n",
       "                        <td id=\"T_14e9ec18_f7ce_11e9_87e9_f4066906adf6row0_col0\" class=\"data row0 col0\" >fault1</td>\n",
       "                        <td id=\"T_14e9ec18_f7ce_11e9_87e9_f4066906adf6row0_col1\" class=\"data row0 col1\" >Fault_Series</td>\n",
       "                        <td id=\"T_14e9ec18_f7ce_11e9_87e9_f4066906adf6row0_col2\" class=\"data row0 col2\" >1</td>\n",
       "                        <td id=\"T_14e9ec18_f7ce_11e9_87e9_f4066906adf6row0_col3\" class=\"data row0 col3\" >False</td>\n",
       "                        <td id=\"T_14e9ec18_f7ce_11e9_87e9_f4066906adf6row0_col4\" class=\"data row0 col4\" >#728f02</td>\n",
       "                        <td id=\"T_14e9ec18_f7ce_11e9_87e9_f4066906adf6row0_col5\" class=\"data row0 col5\" >1</td>\n",
       "            </tr>\n",
       "            <tr>\n",
       "                        <th id=\"T_14e9ec18_f7ce_11e9_87e9_f4066906adf6level0_row1\" class=\"row_heading level0 row1\" >0</th>\n",
       "                        <td id=\"T_14e9ec18_f7ce_11e9_87e9_f4066906adf6row1_col0\" class=\"data row1 col0\" >chalk</td>\n",
       "                        <td id=\"T_14e9ec18_f7ce_11e9_87e9_f4066906adf6row1_col1\" class=\"data row1 col1\" >Strat_Series</td>\n",
       "                        <td id=\"T_14e9ec18_f7ce_11e9_87e9_f4066906adf6row1_col2\" class=\"data row1 col2\" >1</td>\n",
       "                        <td id=\"T_14e9ec18_f7ce_11e9_87e9_f4066906adf6row1_col3\" class=\"data row1 col3\" >False</td>\n",
       "                        <td id=\"T_14e9ec18_f7ce_11e9_87e9_f4066906adf6row1_col4\" class=\"data row1 col4\" >#015482</td>\n",
       "                        <td id=\"T_14e9ec18_f7ce_11e9_87e9_f4066906adf6row1_col5\" class=\"data row1 col5\" >2</td>\n",
       "            </tr>\n",
       "            <tr>\n",
       "                        <th id=\"T_14e9ec18_f7ce_11e9_87e9_f4066906adf6level0_row2\" class=\"row_heading level0 row2\" >1</th>\n",
       "                        <td id=\"T_14e9ec18_f7ce_11e9_87e9_f4066906adf6row2_col0\" class=\"data row2 col0\" >kimmeredge_clay</td>\n",
       "                        <td id=\"T_14e9ec18_f7ce_11e9_87e9_f4066906adf6row2_col1\" class=\"data row2 col1\" >Strat_Series</td>\n",
       "                        <td id=\"T_14e9ec18_f7ce_11e9_87e9_f4066906adf6row2_col2\" class=\"data row2 col2\" >2</td>\n",
       "                        <td id=\"T_14e9ec18_f7ce_11e9_87e9_f4066906adf6row2_col3\" class=\"data row2 col3\" >False</td>\n",
       "                        <td id=\"T_14e9ec18_f7ce_11e9_87e9_f4066906adf6row2_col4\" class=\"data row2 col4\" >#9f0052</td>\n",
       "                        <td id=\"T_14e9ec18_f7ce_11e9_87e9_f4066906adf6row2_col5\" class=\"data row2 col5\" >3</td>\n",
       "            </tr>\n",
       "            <tr>\n",
       "                        <th id=\"T_14e9ec18_f7ce_11e9_87e9_f4066906adf6level0_row3\" class=\"row_heading level0 row3\" >2</th>\n",
       "                        <td id=\"T_14e9ec18_f7ce_11e9_87e9_f4066906adf6row3_col0\" class=\"data row3 col0\" >main_sand</td>\n",
       "                        <td id=\"T_14e9ec18_f7ce_11e9_87e9_f4066906adf6row3_col1\" class=\"data row3 col1\" >Strat_Series</td>\n",
       "                        <td id=\"T_14e9ec18_f7ce_11e9_87e9_f4066906adf6row3_col2\" class=\"data row3 col2\" >3</td>\n",
       "                        <td id=\"T_14e9ec18_f7ce_11e9_87e9_f4066906adf6row3_col3\" class=\"data row3 col3\" >False</td>\n",
       "                        <td id=\"T_14e9ec18_f7ce_11e9_87e9_f4066906adf6row3_col4\" class=\"data row3 col4\" >#ffbe00</td>\n",
       "                        <td id=\"T_14e9ec18_f7ce_11e9_87e9_f4066906adf6row3_col5\" class=\"data row3 col5\" >4</td>\n",
       "            </tr>\n",
       "            <tr>\n",
       "                        <th id=\"T_14e9ec18_f7ce_11e9_87e9_f4066906adf6level0_row4\" class=\"row_heading level0 row4\" >4</th>\n",
       "                        <td id=\"T_14e9ec18_f7ce_11e9_87e9_f4066906adf6row4_col0\" class=\"data row4 col0\" >basement</td>\n",
       "                        <td id=\"T_14e9ec18_f7ce_11e9_87e9_f4066906adf6row4_col1\" class=\"data row4 col1\" >Basement</td>\n",
       "                        <td id=\"T_14e9ec18_f7ce_11e9_87e9_f4066906adf6row4_col2\" class=\"data row4 col2\" >1</td>\n",
       "                        <td id=\"T_14e9ec18_f7ce_11e9_87e9_f4066906adf6row4_col3\" class=\"data row4 col3\" >True</td>\n",
       "                        <td id=\"T_14e9ec18_f7ce_11e9_87e9_f4066906adf6row4_col4\" class=\"data row4 col4\" >#443988</td>\n",
       "                        <td id=\"T_14e9ec18_f7ce_11e9_87e9_f4066906adf6row4_col5\" class=\"data row4 col5\" >5</td>\n",
       "            </tr>\n",
       "    </tbody></table>"
      ],
      "text/plain": [
       "           surface        series  order_surfaces  isBasement    color vertices edges  id\n",
       "3           fault1  Fault_Series               1       False  #728f02      NaN   NaN   1\n",
       "0            chalk  Strat_Series               1       False  #015482      NaN   NaN   2\n",
       "1  kimmeredge_clay  Strat_Series               2       False  #9f0052      NaN   NaN   3\n",
       "2        main_sand  Strat_Series               3       False  #ffbe00      NaN   NaN   4\n",
       "4         basement      Basement               1        True  #443988      NaN   NaN   5"
      ]
     },
     "execution_count": 100,
     "metadata": {},
     "output_type": "execute_result"
    }
   ],
   "source": [
    "geomodel.surfaces"
   ]
  },
  {
   "cell_type": "code",
   "execution_count": 101,
   "metadata": {},
   "outputs": [
    {
     "data": {
      "text/html": [
       "<style  type=\"text/css\" >\n",
       "    #T_14e9ec19_f7ce_11e9_87e9_f4066906adf6row0_col4 {\n",
       "            background-color:  #728f02;\n",
       "        }    #T_14e9ec19_f7ce_11e9_87e9_f4066906adf6row1_col4 {\n",
       "            background-color:  #015482;\n",
       "        }    #T_14e9ec19_f7ce_11e9_87e9_f4066906adf6row2_col4 {\n",
       "            background-color:  #9f0052;\n",
       "        }    #T_14e9ec19_f7ce_11e9_87e9_f4066906adf6row3_col4 {\n",
       "            background-color:  #ffbe00;\n",
       "        }    #T_14e9ec19_f7ce_11e9_87e9_f4066906adf6row4_col4 {\n",
       "            background-color:  #443988;\n",
       "        }</style><table id=\"T_14e9ec19_f7ce_11e9_87e9_f4066906adf6\" ><thead>    <tr>        <th class=\"blank level0\" ></th>        <th class=\"col_heading level0 col0\" >surface</th>        <th class=\"col_heading level0 col1\" >series</th>        <th class=\"col_heading level0 col2\" >order_surfaces</th>        <th class=\"col_heading level0 col3\" >isBasement</th>        <th class=\"col_heading level0 col4\" >color</th>        <th class=\"col_heading level0 col5\" >id</th>    </tr></thead><tbody>\n",
       "                <tr>\n",
       "                        <th id=\"T_14e9ec19_f7ce_11e9_87e9_f4066906adf6level0_row0\" class=\"row_heading level0 row0\" >3</th>\n",
       "                        <td id=\"T_14e9ec19_f7ce_11e9_87e9_f4066906adf6row0_col0\" class=\"data row0 col0\" >fault1</td>\n",
       "                        <td id=\"T_14e9ec19_f7ce_11e9_87e9_f4066906adf6row0_col1\" class=\"data row0 col1\" >Fault_Series</td>\n",
       "                        <td id=\"T_14e9ec19_f7ce_11e9_87e9_f4066906adf6row0_col2\" class=\"data row0 col2\" >1</td>\n",
       "                        <td id=\"T_14e9ec19_f7ce_11e9_87e9_f4066906adf6row0_col3\" class=\"data row0 col3\" >False</td>\n",
       "                        <td id=\"T_14e9ec19_f7ce_11e9_87e9_f4066906adf6row0_col4\" class=\"data row0 col4\" >#728f02</td>\n",
       "                        <td id=\"T_14e9ec19_f7ce_11e9_87e9_f4066906adf6row0_col5\" class=\"data row0 col5\" >1</td>\n",
       "            </tr>\n",
       "            <tr>\n",
       "                        <th id=\"T_14e9ec19_f7ce_11e9_87e9_f4066906adf6level0_row1\" class=\"row_heading level0 row1\" >0</th>\n",
       "                        <td id=\"T_14e9ec19_f7ce_11e9_87e9_f4066906adf6row1_col0\" class=\"data row1 col0\" >chalk</td>\n",
       "                        <td id=\"T_14e9ec19_f7ce_11e9_87e9_f4066906adf6row1_col1\" class=\"data row1 col1\" >Strat_Series</td>\n",
       "                        <td id=\"T_14e9ec19_f7ce_11e9_87e9_f4066906adf6row1_col2\" class=\"data row1 col2\" >1</td>\n",
       "                        <td id=\"T_14e9ec19_f7ce_11e9_87e9_f4066906adf6row1_col3\" class=\"data row1 col3\" >False</td>\n",
       "                        <td id=\"T_14e9ec19_f7ce_11e9_87e9_f4066906adf6row1_col4\" class=\"data row1 col4\" >#015482</td>\n",
       "                        <td id=\"T_14e9ec19_f7ce_11e9_87e9_f4066906adf6row1_col5\" class=\"data row1 col5\" >2</td>\n",
       "            </tr>\n",
       "            <tr>\n",
       "                        <th id=\"T_14e9ec19_f7ce_11e9_87e9_f4066906adf6level0_row2\" class=\"row_heading level0 row2\" >1</th>\n",
       "                        <td id=\"T_14e9ec19_f7ce_11e9_87e9_f4066906adf6row2_col0\" class=\"data row2 col0\" >kimmeredge_clay</td>\n",
       "                        <td id=\"T_14e9ec19_f7ce_11e9_87e9_f4066906adf6row2_col1\" class=\"data row2 col1\" >Strat_Series</td>\n",
       "                        <td id=\"T_14e9ec19_f7ce_11e9_87e9_f4066906adf6row2_col2\" class=\"data row2 col2\" >2</td>\n",
       "                        <td id=\"T_14e9ec19_f7ce_11e9_87e9_f4066906adf6row2_col3\" class=\"data row2 col3\" >False</td>\n",
       "                        <td id=\"T_14e9ec19_f7ce_11e9_87e9_f4066906adf6row2_col4\" class=\"data row2 col4\" >#9f0052</td>\n",
       "                        <td id=\"T_14e9ec19_f7ce_11e9_87e9_f4066906adf6row2_col5\" class=\"data row2 col5\" >3</td>\n",
       "            </tr>\n",
       "            <tr>\n",
       "                        <th id=\"T_14e9ec19_f7ce_11e9_87e9_f4066906adf6level0_row3\" class=\"row_heading level0 row3\" >2</th>\n",
       "                        <td id=\"T_14e9ec19_f7ce_11e9_87e9_f4066906adf6row3_col0\" class=\"data row3 col0\" >main_sand</td>\n",
       "                        <td id=\"T_14e9ec19_f7ce_11e9_87e9_f4066906adf6row3_col1\" class=\"data row3 col1\" >Strat_Series</td>\n",
       "                        <td id=\"T_14e9ec19_f7ce_11e9_87e9_f4066906adf6row3_col2\" class=\"data row3 col2\" >3</td>\n",
       "                        <td id=\"T_14e9ec19_f7ce_11e9_87e9_f4066906adf6row3_col3\" class=\"data row3 col3\" >False</td>\n",
       "                        <td id=\"T_14e9ec19_f7ce_11e9_87e9_f4066906adf6row3_col4\" class=\"data row3 col4\" >#ffbe00</td>\n",
       "                        <td id=\"T_14e9ec19_f7ce_11e9_87e9_f4066906adf6row3_col5\" class=\"data row3 col5\" >4</td>\n",
       "            </tr>\n",
       "            <tr>\n",
       "                        <th id=\"T_14e9ec19_f7ce_11e9_87e9_f4066906adf6level0_row4\" class=\"row_heading level0 row4\" >4</th>\n",
       "                        <td id=\"T_14e9ec19_f7ce_11e9_87e9_f4066906adf6row4_col0\" class=\"data row4 col0\" >basement</td>\n",
       "                        <td id=\"T_14e9ec19_f7ce_11e9_87e9_f4066906adf6row4_col1\" class=\"data row4 col1\" >Strat_Series</td>\n",
       "                        <td id=\"T_14e9ec19_f7ce_11e9_87e9_f4066906adf6row4_col2\" class=\"data row4 col2\" >4</td>\n",
       "                        <td id=\"T_14e9ec19_f7ce_11e9_87e9_f4066906adf6row4_col3\" class=\"data row4 col3\" >True</td>\n",
       "                        <td id=\"T_14e9ec19_f7ce_11e9_87e9_f4066906adf6row4_col4\" class=\"data row4 col4\" >#443988</td>\n",
       "                        <td id=\"T_14e9ec19_f7ce_11e9_87e9_f4066906adf6row4_col5\" class=\"data row4 col5\" >5</td>\n",
       "            </tr>\n",
       "    </tbody></table>"
      ],
      "text/plain": [
       "           surface        series  order_surfaces  isBasement    color vertices edges  id\n",
       "3           fault1  Fault_Series               1       False  #728f02      NaN   NaN   1\n",
       "0            chalk  Strat_Series               1       False  #015482      NaN   NaN   2\n",
       "1  kimmeredge_clay  Strat_Series               2       False  #9f0052      NaN   NaN   3\n",
       "2        main_sand  Strat_Series               3       False  #ffbe00      NaN   NaN   4\n",
       "4         basement  Strat_Series               4        True  #443988      NaN   NaN   5"
      ]
     },
     "execution_count": 101,
     "metadata": {},
     "output_type": "execute_result"
    }
   ],
   "source": [
    "gp.map_series_to_surfaces(geomodel,{\"Fault_Series\":'fault1', \n",
    "                             \"Strat_Series\": ('chalk','kimmeredge_clay',\n",
    "                                            'main_sand', 'basement')}, remove_unused_series=True)"
   ]
  },
  {
   "cell_type": "code",
   "execution_count": 102,
   "metadata": {},
   "outputs": [
    {
     "data": {
      "text/plain": [
       "Grid Object. Values: \n",
       "array([[ 5150.,  2600.,  9030.],\n",
       "       [ 5150.,  2600.,  9090.],\n",
       "       [ 5150.,  2600.,  9150.],\n",
       "       ...,\n",
       "       [19850., 12400., 11850.],\n",
       "       [19850., 12400., 11910.],\n",
       "       [19850., 12400., 11970.]])"
      ]
     },
     "execution_count": 102,
     "metadata": {},
     "output_type": "execute_result"
    }
   ],
   "source": [
    "geomodel.grid"
   ]
  },
  {
   "cell_type": "code",
   "execution_count": 103,
   "metadata": {},
   "outputs": [
    {
     "data": {
      "text/plain": [
       "<gempy.plot.visualization_2d.PlotData2D at 0x7f34dcddeba8>"
      ]
     },
     "execution_count": 103,
     "metadata": {},
     "output_type": "execute_result"
    },
    {
     "data": {
      "image/png": "[encoded data removed]",
      "text/plain": [
       "<Figure size 1800x360 with 1 Axes>"
      ]
     },
     "metadata": {},
     "output_type": "display_data"
    }
   ],
   "source": [
    "gp.plot.plot_data(geomodel, direction='y')"
   ]
  },
  {
   "cell_type": "code",
   "execution_count": null,
   "metadata": {},
   "outputs": [],
   "source": [
    "gp.plot.plot_3D(geomodel)"
   ]
  },
  {
   "cell_type": "code",
   "execution_count": 104,
   "metadata": {},
   "outputs": [
    {
     "name": "stdout",
     "output_type": "stream",
     "text": [
      "Compiling theano function...\n",
      "Compilation Done!\n"
     ]
    },
    {
     "data": {
      "text/plain": [
       "<gempy.core.interpolator.InterpolatorModel at 0x7f34dceba3c8>"
      ]
     },
     "execution_count": 104,
     "metadata": {},
     "output_type": "execute_result"
    }
   ],
   "source": [
    "gp.set_interpolation_data(geomodel,\n",
    "                          compile_theano=True,\n",
    "                          theano_optimizer='fast_compile',\n",
    "                          verbose=[])\n"
   ]
  },
  {
   "cell_type": "code",
   "execution_count": 105,
   "metadata": {},
   "outputs": [
    {
     "data": {
      "text/html": [
       "<table border=\"1\" class=\"dataframe\">\n",
       "  <thead>\n",
       "    <tr style=\"text-align: right;\">\n",
       "      <th></th>\n",
       "      <th>values</th>\n",
       "    </tr>\n",
       "  </thead>\n",
       "  <tbody>\n",
       "    <tr>\n",
       "      <th>range</th>\n",
       "      <td>18275.7</td>\n",
       "    </tr>\n",
       "    <tr>\n",
       "      <th>$C_o$</th>\n",
       "      <td>7.95238e+06</td>\n",
       "    </tr>\n",
       "    <tr>\n",
       "      <th>drift equations</th>\n",
       "      <td>[3, 3]</td>\n",
       "    </tr>\n",
       "    <tr>\n",
       "      <th>nugget grad</th>\n",
       "      <td>0.01</td>\n",
       "    </tr>\n",
       "    <tr>\n",
       "      <th>nugget scalar</th>\n",
       "      <td>1e-06</td>\n",
       "    </tr>\n",
       "  </tbody>\n",
       "</table>"
      ],
      "text/plain": [
       "                      values\n",
       "range                18275.7\n",
       "$C_o$            7.95238e+06\n",
       "drift equations       [3, 3]\n",
       "nugget grad             0.01\n",
       "nugget scalar          1e-06"
      ]
     },
     "execution_count": 105,
     "metadata": {},
     "output_type": "execute_result"
    }
   ],
   "source": [
    "gp.get_data(geomodel, 'kriging')"
   ]
  },
  {
   "cell_type": "code",
   "execution_count": 106,
   "metadata": {},
   "outputs": [
    {
     "data": {
      "text/html": [
       "<table border=\"1\" class=\"dataframe\">\n",
       "  <thead>\n",
       "    <tr style=\"text-align: right;\">\n",
       "      <th></th>\n",
       "      <th>values</th>\n",
       "    </tr>\n",
       "  </thead>\n",
       "  <tbody>\n",
       "    <tr>\n",
       "      <th>isLith</th>\n",
       "      <td>True</td>\n",
       "    </tr>\n",
       "    <tr>\n",
       "      <th>isFault</th>\n",
       "      <td>False</td>\n",
       "    </tr>\n",
       "    <tr>\n",
       "      <th>number faults</th>\n",
       "      <td>0</td>\n",
       "    </tr>\n",
       "    <tr>\n",
       "      <th>number surfaces</th>\n",
       "      <td>4</td>\n",
       "    </tr>\n",
       "    <tr>\n",
       "      <th>number series</th>\n",
       "      <td>2</td>\n",
       "    </tr>\n",
       "    <tr>\n",
       "      <th>number surfaces per series</th>\n",
       "      <td>[1, 3]</td>\n",
       "    </tr>\n",
       "    <tr>\n",
       "      <th>len surfaces surface_points</th>\n",
       "      <td>[3, 24, 38, 66]</td>\n",
       "    </tr>\n",
       "    <tr>\n",
       "      <th>len series surface_points</th>\n",
       "      <td>[3, 128]</td>\n",
       "    </tr>\n",
       "    <tr>\n",
       "      <th>len series orientations</th>\n",
       "      <td>[1, 2]</td>\n",
       "    </tr>\n",
       "  </tbody>\n",
       "</table>"
      ],
      "text/plain": [
       "                                      values\n",
       "isLith                                  True\n",
       "isFault                                False\n",
       "number faults                              0\n",
       "number surfaces                            4\n",
       "number series                              2\n",
       "number surfaces per series            [1, 3]\n",
       "len surfaces surface_points  [3, 24, 38, 66]\n",
       "len series surface_points           [3, 128]\n",
       "len series orientations               [1, 2]"
      ]
     },
     "execution_count": 106,
     "metadata": {},
     "output_type": "execute_result"
    }
   ],
   "source": [
    "geomodel.additional_data.structure_data"
   ]
  },
  {
   "cell_type": "code",
   "execution_count": 107,
   "metadata": {},
   "outputs": [
    {
     "name": "stderr",
     "output_type": "stream",
     "text": [
      "/home/mirzakhan/.local/share/virtualenvs/Stdlog-xUKvEn9n/lib/python3.6/site-packages/gempy/core/solution.py:253: UserWarning: Attribute error. Using non masked marching cubesmarching_cubes_lewiner() got an unexpected keyword argument 'mask'\n",
      "  warnings.warn('Attribute error. Using non masked marching cubes' + str(e))\n"
     ]
    }
   ],
   "source": [
    "sol = gp.compute_model(geomodel, compute_mesh=True)"
   ]
  },
  {
   "cell_type": "code",
   "execution_count": 110,
   "metadata": {},
   "outputs": [
    {
     "data": {
      "text/plain": [
       "\n",
       "Lithology ids \n",
       "  [2. 2. 2. ... 1. 1. 1.] "
      ]
     },
     "execution_count": 110,
     "metadata": {},
     "output_type": "execute_result"
    }
   ],
   "source": [
    "sol"
   ]
  },
  {
   "cell_type": "code",
   "execution_count": 111,
   "metadata": {},
   "outputs": [
    {
     "data": {
      "text/plain": [
       "<gempy.plot.visualization_2d.PlotData2D at 0x7f34dceef358>"
      ]
     },
     "execution_count": 111,
     "metadata": {},
     "output_type": "execute_result"
    },
    {
     "data": {
      "image/png": "[encoded data removed]",
      "text/plain": [
       "<Figure size 1800x360 with 1 Axes>"
      ]
     },
     "metadata": {},
     "output_type": "display_data"
    }
   ],
   "source": [
    "%matplotlib inline\n",
    "gp.plot.plot_section(geomodel, cell_number=25,\n",
    "                     direction='y', show_data=True)"
   ]
  },
  {
   "cell_type": "code",
   "execution_count": 63,
   "metadata": {},
   "outputs": [
    {
     "ename": "AttributeError",
     "evalue": "'NoneType' object has no attribute 'reshape'",
     "output_type": "error",
     "traceback": [
      "\u001b[0;31m---------------------------------------------------------------------------\u001b[0m",
      "\u001b[0;31mAttributeError\u001b[0m                            Traceback (most recent call last)",
      "\u001b[0;32m<ipython-input-63-3eddee2b24c9>\u001b[0m in \u001b[0;36m<module>\u001b[0;34m\u001b[0m\n\u001b[0;32m----> 1\u001b[0;31m \u001b[0mgp\u001b[0m\u001b[0;34m.\u001b[0m\u001b[0mplot\u001b[0m\u001b[0;34m.\u001b[0m\u001b[0mplot_map\u001b[0m\u001b[0;34m(\u001b[0m\u001b[0mgeomodel\u001b[0m\u001b[0;34m)\u001b[0m\u001b[0;34m\u001b[0m\u001b[0;34m\u001b[0m\u001b[0m\n\u001b[0m",
      "\u001b[0;32m~/.local/share/virtualenvs/Stdlog-xUKvEn9n/lib/python3.6/site-packages/gempy/plot/plot.py\u001b[0m in \u001b[0;36mplot_map\u001b[0;34m(model, contour_lines, show_faults, show_data)\u001b[0m\n\u001b[1;32m    202\u001b[0m \u001b[0;32mdef\u001b[0m \u001b[0mplot_map\u001b[0m\u001b[0;34m(\u001b[0m\u001b[0mmodel\u001b[0m\u001b[0;34m,\u001b[0m \u001b[0mcontour_lines\u001b[0m\u001b[0;34m=\u001b[0m\u001b[0;32mTrue\u001b[0m\u001b[0;34m,\u001b[0m \u001b[0mshow_faults\u001b[0m \u001b[0;34m=\u001b[0m \u001b[0;32mTrue\u001b[0m\u001b[0;34m,\u001b[0m \u001b[0mshow_data\u001b[0m\u001b[0;34m=\u001b[0m\u001b[0;32mTrue\u001b[0m\u001b[0;34m)\u001b[0m\u001b[0;34m:\u001b[0m\u001b[0;34m\u001b[0m\u001b[0;34m\u001b[0m\u001b[0m\n\u001b[1;32m    203\u001b[0m     \u001b[0mplot\u001b[0m \u001b[0;34m=\u001b[0m \u001b[0mPlotSolution\u001b[0m\u001b[0;34m(\u001b[0m\u001b[0mmodel\u001b[0m\u001b[0;34m)\u001b[0m\u001b[0;34m\u001b[0m\u001b[0;34m\u001b[0m\u001b[0m\n\u001b[0;32m--> 204\u001b[0;31m     \u001b[0mplot\u001b[0m\u001b[0;34m.\u001b[0m\u001b[0mplot_map\u001b[0m\u001b[0;34m(\u001b[0m\u001b[0mcontour_lines\u001b[0m\u001b[0;34m=\u001b[0m\u001b[0mcontour_lines\u001b[0m\u001b[0;34m,\u001b[0m \u001b[0mshow_faults\u001b[0m\u001b[0;34m=\u001b[0m\u001b[0mshow_faults\u001b[0m\u001b[0;34m,\u001b[0m \u001b[0mshow_data\u001b[0m\u001b[0;34m=\u001b[0m\u001b[0mshow_data\u001b[0m\u001b[0;34m)\u001b[0m\u001b[0;34m\u001b[0m\u001b[0;34m\u001b[0m\u001b[0m\n\u001b[0m\u001b[1;32m    205\u001b[0m \u001b[0;34m\u001b[0m\u001b[0m\n\u001b[1;32m    206\u001b[0m \u001b[0;34m\u001b[0m\u001b[0m\n",
      "\u001b[0;32m~/.local/share/virtualenvs/Stdlog-xUKvEn9n/lib/python3.6/site-packages/gempy/plot/visualization_2d.py\u001b[0m in \u001b[0;36mplot_map\u001b[0;34m(self, solution, contour_lines, show_faults, show_data)\u001b[0m\n\u001b[1;32m    609\u001b[0m         \u001b[0;32melse\u001b[0m\u001b[0;34m:\u001b[0m\u001b[0;34m\u001b[0m\u001b[0;34m\u001b[0m\u001b[0m\n\u001b[1;32m    610\u001b[0m             \u001b[0msolution\u001b[0m \u001b[0;34m=\u001b[0m \u001b[0mself\u001b[0m\u001b[0;34m.\u001b[0m\u001b[0mmodel\u001b[0m\u001b[0;34m.\u001b[0m\u001b[0msolutions\u001b[0m\u001b[0;34m\u001b[0m\u001b[0;34m\u001b[0m\u001b[0m\n\u001b[0;32m--> 611\u001b[0;31m         \u001b[0mgeomap\u001b[0m \u001b[0;34m=\u001b[0m \u001b[0msolution\u001b[0m\u001b[0;34m.\u001b[0m\u001b[0mgeological_map\u001b[0m\u001b[0;34m.\u001b[0m\u001b[0mreshape\u001b[0m\u001b[0;34m(\u001b[0m\u001b[0mself\u001b[0m\u001b[0;34m.\u001b[0m\u001b[0mmodel\u001b[0m\u001b[0;34m.\u001b[0m\u001b[0mgrid\u001b[0m\u001b[0;34m.\u001b[0m\u001b[0mtopography\u001b[0m\u001b[0;34m.\u001b[0m\u001b[0mvalues_3D\u001b[0m\u001b[0;34m[\u001b[0m\u001b[0;34m:\u001b[0m\u001b[0;34m,\u001b[0m \u001b[0;34m:\u001b[0m\u001b[0;34m,\u001b[0m \u001b[0;36m2\u001b[0m\u001b[0;34m]\u001b[0m\u001b[0;34m.\u001b[0m\u001b[0mshape\u001b[0m\u001b[0;34m)\u001b[0m\u001b[0;34m\u001b[0m\u001b[0;34m\u001b[0m\u001b[0m\n\u001b[0m\u001b[1;32m    612\u001b[0m         \u001b[0;32mif\u001b[0m \u001b[0mshow_data\u001b[0m\u001b[0;34m:\u001b[0m\u001b[0;34m\u001b[0m\u001b[0;34m\u001b[0m\u001b[0m\n\u001b[1;32m    613\u001b[0m             \u001b[0mself\u001b[0m\u001b[0;34m.\u001b[0m\u001b[0mplot_data\u001b[0m\u001b[0;34m(\u001b[0m\u001b[0mdirection\u001b[0m\u001b[0;34m=\u001b[0m\u001b[0;34m'z'\u001b[0m\u001b[0;34m)\u001b[0m\u001b[0;34m\u001b[0m\u001b[0;34m\u001b[0m\u001b[0m\n",
      "\u001b[0;31mAttributeError\u001b[0m: 'NoneType' object has no attribute 'reshape'"
     ]
    }
   ],
   "source": [
    "gp.plot.plot_map(geomodel)"
   ]
  }
 ],
 "metadata": {
  "kernelspec": {
   "display_name": "Stdlog",
   "language": "python",
   "name": "stdlog"
  },
  "language_info": {
   "codemirror_mode": {
    "name": "ipython",
    "version": 3
   },
   "file_extension": ".py",
   "mimetype": "text/x-python",
   "name": "python",
   "nbconvert_exporter": "python",
   "pygments_lexer": "ipython3",
   "version": "3.6.8"
  }
 },
 "nbformat": 4,
 "nbformat_minor": 2
}
