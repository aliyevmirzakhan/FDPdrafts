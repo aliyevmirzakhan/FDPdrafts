{
 "cells": [
  {
   "cell_type": "code",
   "execution_count": 1,
   "metadata": {},
   "outputs": [],
   "source": [
    "import numpy as np\n",
    "import pandas as pd\n",
    "import matplotlib.pyplot as plt\n",
    "import mplcursors\n",
    "from shapely import geometry\n",
    "from functools import partial\n",
    "import shapely.ops as ops\n",
    "import pyproj"
   ]
  },
  {
   "cell_type": "code",
   "execution_count": 2,
   "metadata": {},
   "outputs": [],
   "source": [
    "basedir = 'meta/contourMapData/'"
   ]
  },
  {
   "cell_type": "code",
   "execution_count": 3,
   "metadata": {},
   "outputs": [],
   "source": [
    "c9800 = pd.read_csv(basedir + \"9800.csv\", index_col=False)\n",
    "c9800_2 = pd.read_csv(basedir + \"9800_2.csv\")\n",
    "c9900 = pd.read_csv(basedir + \"9900.csv\")\n",
    "c10000 = pd.read_csv(basedir + \"10000.csv\")\n",
    "c10100 = pd.read_csv(basedir + \"10100.csv\")\n",
    "c10200 = pd.read_csv(basedir + \"10200.csv\")\n",
    "c10300 = pd.read_csv(basedir + \"10300.csv\")\n",
    "c10400 = pd.read_csv(basedir + \"10400.csv\")\n",
    "c10500 = pd.read_csv(basedir + \"10500.csv\")\n",
    "c10600 = pd.read_csv(basedir + \"10600.csv\")\n",
    "c10700 = pd.read_csv(basedir + \"10700.csv\")\n",
    "c10800 = pd.read_csv(basedir + \"10800.csv\")\n",
    "c10900 = pd.read_csv(basedir + \"10900.csv\")\n",
    "c11000 = pd.read_csv(basedir + \"11000.csv\")\n",
    "c11100 = pd.read_csv(basedir + \"11100.csv\")\n",
    "\n",
    "OWC = pd.read_csv(basedir + 'OWC.csv')\n",
    "OWC2 = pd.read_csv(basedir + 'OWC2.csv')\n",
    "\n",
    "boundary = pd.read_csv(basedir + \"Boundaries.csv\")"
   ]
  },
  {
   "cell_type": "code",
   "execution_count": 51,
   "metadata": {
    "scrolled": false
   },
   "outputs": [
    {
     "data": {
      "application/javascript": [
       "/* Put everything inside the global mpl namespace */\n",
       "window.mpl = {};\n",
       "\n",
       "\n",
       "mpl.get_websocket_type = function() {\n",
       "    if (typeof(WebSocket) !== 'undefined') {\n",
       "        return WebSocket;\n",
       "    } else if (typeof(MozWebSocket) !== 'undefined') {\n",
       "        return MozWebSocket;\n",
       "    } else {\n",
       "        alert('Your browser does not have WebSocket support. ' +\n",
       "              'Please try Chrome, Safari or Firefox ≥ 6. ' +\n",
       "              'Firefox 4 and 5 are also supported but you ' +\n",
       "              'have to enable WebSockets in about:config.');\n",
       "    };\n",
       "}\n",
       "\n",
       "mpl.figure = function(figure_id, websocket, ondownload, parent_element) {\n",
       "    this.id = figure_id;\n",
       "\n",
       "    this.ws = websocket;\n",
       "\n",
       "    this.supports_binary = (this.ws.binaryType != undefined);\n",
       "\n",
       "    if (!this.supports_binary) {\n",
       "        var warnings = document.getElementById(\"mpl-warnings\");\n",
       "        if (warnings) {\n",
       "            warnings.style.display = 'block';\n",
       "            warnings.textContent = (\n",
       "                \"This browser does not support binary websocket messages. \" +\n",
       "                    \"Performance may be slow.\");\n",
       "        }\n",
       "    }\n",
       "\n",
       "    this.imageObj = new Image();\n",
       "\n",
       "    this.context = undefined;\n",
       "    this.message = undefined;\n",
       "    this.canvas = undefined;\n",
       "    this.rubberband_canvas = undefined;\n",
       "    this.rubberband_context = undefined;\n",
       "    this.format_dropdown = undefined;\n",
       "\n",
       "    this.image_mode = 'full';\n",
       "\n",
       "    this.root = $('<div/>');\n",
       "    this._root_extra_style(this.root)\n",
       "    this.root.attr('style', 'display: inline-block');\n",
       "\n",
       "    $(parent_element).append(this.root);\n",
       "\n",
       "    this._init_header(this);\n",
       "    this._init_canvas(this);\n",
       "    this._init_toolbar(this);\n",
       "\n",
       "    var fig = this;\n",
       "\n",
       "    this.waiting = false;\n",
       "\n",
       "    this.ws.onopen =  function () {\n",
       "            fig.send_message(\"supports_binary\", {value: fig.supports_binary});\n",
       "            fig.send_message(\"send_image_mode\", {});\n",
       "            if (mpl.ratio != 1) {\n",
       "                fig.send_message(\"set_dpi_ratio\", {'dpi_ratio': mpl.ratio});\n",
       "            }\n",
       "            fig.send_message(\"refresh\", {});\n",
       "        }\n",
       "\n",
       "    this.imageObj.onload = function() {\n",
       "            if (fig.image_mode == 'full') {\n",
       "                // Full images could contain transparency (where diff images\n",
       "                // almost always do), so we need to clear the canvas so that\n",
       "                // there is no ghosting.\n",
       "                fig.context.clearRect(0, 0, fig.canvas.width, fig.canvas.height);\n",
       "            }\n",
       "            fig.context.drawImage(fig.imageObj, 0, 0);\n",
       "        };\n",
       "\n",
       "    this.imageObj.onunload = function() {\n",
       "        fig.ws.close();\n",
       "    }\n",
       "\n",
       "    this.ws.onmessage = this._make_on_message_function(this);\n",
       "\n",
       "    this.ondownload = ondownload;\n",
       "}\n",
       "\n",
       "mpl.figure.prototype._init_header = function() {\n",
       "    var titlebar = $(\n",
       "        '<div class=\"ui-dialog-titlebar ui-widget-header ui-corner-all ' +\n",
       "        'ui-helper-clearfix\"/>');\n",
       "    var titletext = $(\n",
       "        '<div class=\"ui-dialog-title\" style=\"width: 100%; ' +\n",
       "        'text-align: center; padding: 3px;\"/>');\n",
       "    titlebar.append(titletext)\n",
       "    this.root.append(titlebar);\n",
       "    this.header = titletext[0];\n",
       "}\n",
       "\n",
       "\n",
       "\n",
       "mpl.figure.prototype._canvas_extra_style = function(canvas_div) {\n",
       "\n",
       "}\n",
       "\n",
       "\n",
       "mpl.figure.prototype._root_extra_style = function(canvas_div) {\n",
       "\n",
       "}\n",
       "\n",
       "mpl.figure.prototype._init_canvas = function() {\n",
       "    var fig = this;\n",
       "\n",
       "    var canvas_div = $('<div/>');\n",
       "\n",
       "    canvas_div.attr('style', 'position: relative; clear: both; outline: 0');\n",
       "\n",
       "    function canvas_keyboard_event(event) {\n",
       "        return fig.key_event(event, event['data']);\n",
       "    }\n",
       "\n",
       "    canvas_div.keydown('key_press', canvas_keyboard_event);\n",
       "    canvas_div.keyup('key_release', canvas_keyboard_event);\n",
       "    this.canvas_div = canvas_div\n",
       "    this._canvas_extra_style(canvas_div)\n",
       "    this.root.append(canvas_div);\n",
       "\n",
       "    var canvas = $('<canvas/>');\n",
       "    canvas.addClass('mpl-canvas');\n",
       "    canvas.attr('style', \"left: 0; top: 0; z-index: 0; outline: 0\")\n",
       "\n",
       "    this.canvas = canvas[0];\n",
       "    this.context = canvas[0].getContext(\"2d\");\n",
       "\n",
       "    var backingStore = this.context.backingStorePixelRatio ||\n",
       "\tthis.context.webkitBackingStorePixelRatio ||\n",
       "\tthis.context.mozBackingStorePixelRatio ||\n",
       "\tthis.context.msBackingStorePixelRatio ||\n",
       "\tthis.context.oBackingStorePixelRatio ||\n",
       "\tthis.context.backingStorePixelRatio || 1;\n",
       "\n",
       "    mpl.ratio = (window.devicePixelRatio || 1) / backingStore;\n",
       "\n",
       "    var rubberband = $('<canvas/>');\n",
       "    rubberband.attr('style', \"position: absolute; left: 0; top: 0; z-index: 1;\")\n",
       "\n",
       "    var pass_mouse_events = true;\n",
       "\n",
       "    canvas_div.resizable({\n",
       "        start: function(event, ui) {\n",
       "            pass_mouse_events = false;\n",
       "        },\n",
       "        resize: function(event, ui) {\n",
       "            fig.request_resize(ui.size.width, ui.size.height);\n",
       "        },\n",
       "        stop: function(event, ui) {\n",
       "            pass_mouse_events = true;\n",
       "            fig.request_resize(ui.size.width, ui.size.height);\n",
       "        },\n",
       "    });\n",
       "\n",
       "    function mouse_event_fn(event) {\n",
       "        if (pass_mouse_events)\n",
       "            return fig.mouse_event(event, event['data']);\n",
       "    }\n",
       "\n",
       "    rubberband.mousedown('button_press', mouse_event_fn);\n",
       "    rubberband.mouseup('button_release', mouse_event_fn);\n",
       "    // Throttle sequential mouse events to 1 every 20ms.\n",
       "    rubberband.mousemove('motion_notify', mouse_event_fn);\n",
       "\n",
       "    rubberband.mouseenter('figure_enter', mouse_event_fn);\n",
       "    rubberband.mouseleave('figure_leave', mouse_event_fn);\n",
       "\n",
       "    canvas_div.on(\"wheel\", function (event) {\n",
       "        event = event.originalEvent;\n",
       "        event['data'] = 'scroll'\n",
       "        if (event.deltaY < 0) {\n",
       "            event.step = 1;\n",
       "        } else {\n",
       "            event.step = -1;\n",
       "        }\n",
       "        mouse_event_fn(event);\n",
       "    });\n",
       "\n",
       "    canvas_div.append(canvas);\n",
       "    canvas_div.append(rubberband);\n",
       "\n",
       "    this.rubberband = rubberband;\n",
       "    this.rubberband_canvas = rubberband[0];\n",
       "    this.rubberband_context = rubberband[0].getContext(\"2d\");\n",
       "    this.rubberband_context.strokeStyle = \"#000000\";\n",
       "\n",
       "    this._resize_canvas = function(width, height) {\n",
       "        // Keep the size of the canvas, canvas container, and rubber band\n",
       "        // canvas in synch.\n",
       "        canvas_div.css('width', width)\n",
       "        canvas_div.css('height', height)\n",
       "\n",
       "        canvas.attr('width', width * mpl.ratio);\n",
       "        canvas.attr('height', height * mpl.ratio);\n",
       "        canvas.attr('style', 'width: ' + width + 'px; height: ' + height + 'px;');\n",
       "\n",
       "        rubberband.attr('width', width);\n",
       "        rubberband.attr('height', height);\n",
       "    }\n",
       "\n",
       "    // Set the figure to an initial 600x600px, this will subsequently be updated\n",
       "    // upon first draw.\n",
       "    this._resize_canvas(600, 600);\n",
       "\n",
       "    // Disable right mouse context menu.\n",
       "    $(this.rubberband_canvas).bind(\"contextmenu\",function(e){\n",
       "        return false;\n",
       "    });\n",
       "\n",
       "    function set_focus () {\n",
       "        canvas.focus();\n",
       "        canvas_div.focus();\n",
       "    }\n",
       "\n",
       "    window.setTimeout(set_focus, 100);\n",
       "}\n",
       "\n",
       "mpl.figure.prototype._init_toolbar = function() {\n",
       "    var fig = this;\n",
       "\n",
       "    var nav_element = $('<div/>');\n",
       "    nav_element.attr('style', 'width: 100%');\n",
       "    this.root.append(nav_element);\n",
       "\n",
       "    // Define a callback function for later on.\n",
       "    function toolbar_event(event) {\n",
       "        return fig.toolbar_button_onclick(event['data']);\n",
       "    }\n",
       "    function toolbar_mouse_event(event) {\n",
       "        return fig.toolbar_button_onmouseover(event['data']);\n",
       "    }\n",
       "\n",
       "    for(var toolbar_ind in mpl.toolbar_items) {\n",
       "        var name = mpl.toolbar_items[toolbar_ind][0];\n",
       "        var tooltip = mpl.toolbar_items[toolbar_ind][1];\n",
       "        var image = mpl.toolbar_items[toolbar_ind][2];\n",
       "        var method_name = mpl.toolbar_items[toolbar_ind][3];\n",
       "\n",
       "        if (!name) {\n",
       "            // put a spacer in here.\n",
       "            continue;\n",
       "        }\n",
       "        var button = $('<button/>');\n",
       "        button.addClass('ui-button ui-widget ui-state-default ui-corner-all ' +\n",
       "                        'ui-button-icon-only');\n",
       "        button.attr('role', 'button');\n",
       "        button.attr('aria-disabled', 'false');\n",
       "        button.click(method_name, toolbar_event);\n",
       "        button.mouseover(tooltip, toolbar_mouse_event);\n",
       "\n",
       "        var icon_img = $('<span/>');\n",
       "        icon_img.addClass('ui-button-icon-primary ui-icon');\n",
       "        icon_img.addClass(image);\n",
       "        icon_img.addClass('ui-corner-all');\n",
       "\n",
       "        var tooltip_span = $('<span/>');\n",
       "        tooltip_span.addClass('ui-button-text');\n",
       "        tooltip_span.html(tooltip);\n",
       "\n",
       "        button.append(icon_img);\n",
       "        button.append(tooltip_span);\n",
       "\n",
       "        nav_element.append(button);\n",
       "    }\n",
       "\n",
       "    var fmt_picker_span = $('<span/>');\n",
       "\n",
       "    var fmt_picker = $('<select/>');\n",
       "    fmt_picker.addClass('mpl-toolbar-option ui-widget ui-widget-content');\n",
       "    fmt_picker_span.append(fmt_picker);\n",
       "    nav_element.append(fmt_picker_span);\n",
       "    this.format_dropdown = fmt_picker[0];\n",
       "\n",
       "    for (var ind in mpl.extensions) {\n",
       "        var fmt = mpl.extensions[ind];\n",
       "        var option = $(\n",
       "            '<option/>', {selected: fmt === mpl.default_extension}).html(fmt);\n",
       "        fmt_picker.append(option);\n",
       "    }\n",
       "\n",
       "    // Add hover states to the ui-buttons\n",
       "    $( \".ui-button\" ).hover(\n",
       "        function() { $(this).addClass(\"ui-state-hover\");},\n",
       "        function() { $(this).removeClass(\"ui-state-hover\");}\n",
       "    );\n",
       "\n",
       "    var status_bar = $('<span class=\"mpl-message\"/>');\n",
       "    nav_element.append(status_bar);\n",
       "    this.message = status_bar[0];\n",
       "}\n",
       "\n",
       "mpl.figure.prototype.request_resize = function(x_pixels, y_pixels) {\n",
       "    // Request matplotlib to resize the figure. Matplotlib will then trigger a resize in the client,\n",
       "    // which will in turn request a refresh of the image.\n",
       "    this.send_message('resize', {'width': x_pixels, 'height': y_pixels});\n",
       "}\n",
       "\n",
       "mpl.figure.prototype.send_message = function(type, properties) {\n",
       "    properties['type'] = type;\n",
       "    properties['figure_id'] = this.id;\n",
       "    this.ws.send(JSON.stringify(properties));\n",
       "}\n",
       "\n",
       "mpl.figure.prototype.send_draw_message = function() {\n",
       "    if (!this.waiting) {\n",
       "        this.waiting = true;\n",
       "        this.ws.send(JSON.stringify({type: \"draw\", figure_id: this.id}));\n",
       "    }\n",
       "}\n",
       "\n",
       "\n",
       "mpl.figure.prototype.handle_save = function(fig, msg) {\n",
       "    var format_dropdown = fig.format_dropdown;\n",
       "    var format = format_dropdown.options[format_dropdown.selectedIndex].value;\n",
       "    fig.ondownload(fig, format);\n",
       "}\n",
       "\n",
       "\n",
       "mpl.figure.prototype.handle_resize = function(fig, msg) {\n",
       "    var size = msg['size'];\n",
       "    if (size[0] != fig.canvas.width || size[1] != fig.canvas.height) {\n",
       "        fig._resize_canvas(size[0], size[1]);\n",
       "        fig.send_message(\"refresh\", {});\n",
       "    };\n",
       "}\n",
       "\n",
       "mpl.figure.prototype.handle_rubberband = function(fig, msg) {\n",
       "    var x0 = msg['x0'] / mpl.ratio;\n",
       "    var y0 = (fig.canvas.height - msg['y0']) / mpl.ratio;\n",
       "    var x1 = msg['x1'] / mpl.ratio;\n",
       "    var y1 = (fig.canvas.height - msg['y1']) / mpl.ratio;\n",
       "    x0 = Math.floor(x0) + 0.5;\n",
       "    y0 = Math.floor(y0) + 0.5;\n",
       "    x1 = Math.floor(x1) + 0.5;\n",
       "    y1 = Math.floor(y1) + 0.5;\n",
       "    var min_x = Math.min(x0, x1);\n",
       "    var min_y = Math.min(y0, y1);\n",
       "    var width = Math.abs(x1 - x0);\n",
       "    var height = Math.abs(y1 - y0);\n",
       "\n",
       "    fig.rubberband_context.clearRect(\n",
       "        0, 0, fig.canvas.width / mpl.ratio, fig.canvas.height / mpl.ratio);\n",
       "\n",
       "    fig.rubberband_context.strokeRect(min_x, min_y, width, height);\n",
       "}\n",
       "\n",
       "mpl.figure.prototype.handle_figure_label = function(fig, msg) {\n",
       "    // Updates the figure title.\n",
       "    fig.header.textContent = msg['label'];\n",
       "}\n",
       "\n",
       "mpl.figure.prototype.handle_cursor = function(fig, msg) {\n",
       "    var cursor = msg['cursor'];\n",
       "    switch(cursor)\n",
       "    {\n",
       "    case 0:\n",
       "        cursor = 'pointer';\n",
       "        break;\n",
       "    case 1:\n",
       "        cursor = 'default';\n",
       "        break;\n",
       "    case 2:\n",
       "        cursor = 'crosshair';\n",
       "        break;\n",
       "    case 3:\n",
       "        cursor = 'move';\n",
       "        break;\n",
       "    }\n",
       "    fig.rubberband_canvas.style.cursor = cursor;\n",
       "}\n",
       "\n",
       "mpl.figure.prototype.handle_message = function(fig, msg) {\n",
       "    fig.message.textContent = msg['message'];\n",
       "}\n",
       "\n",
       "mpl.figure.prototype.handle_draw = function(fig, msg) {\n",
       "    // Request the server to send over a new figure.\n",
       "    fig.send_draw_message();\n",
       "}\n",
       "\n",
       "mpl.figure.prototype.handle_image_mode = function(fig, msg) {\n",
       "    fig.image_mode = msg['mode'];\n",
       "}\n",
       "\n",
       "mpl.figure.prototype.updated_canvas_event = function() {\n",
       "    // Called whenever the canvas gets updated.\n",
       "    this.send_message(\"ack\", {});\n",
       "}\n",
       "\n",
       "// A function to construct a web socket function for onmessage handling.\n",
       "// Called in the figure constructor.\n",
       "mpl.figure.prototype._make_on_message_function = function(fig) {\n",
       "    return function socket_on_message(evt) {\n",
       "        if (evt.data instanceof Blob) {\n",
       "            /* FIXME: We get \"Resource interpreted as Image but\n",
       "             * transferred with MIME type text/plain:\" errors on\n",
       "             * Chrome.  But how to set the MIME type?  It doesn't seem\n",
       "             * to be part of the websocket stream */\n",
       "            evt.data.type = \"image/png\";\n",
       "\n",
       "            /* Free the memory for the previous frames */\n",
       "            if (fig.imageObj.src) {\n",
       "                (window.URL || window.webkitURL).revokeObjectURL(\n",
       "                    fig.imageObj.src);\n",
       "            }\n",
       "\n",
       "            fig.imageObj.src = (window.URL || window.webkitURL).createObjectURL(\n",
       "                evt.data);\n",
       "            fig.updated_canvas_event();\n",
       "            fig.waiting = false;\n",
       "            return;\n",
       "        }\n",
       "        else if (typeof evt.data === 'string' && evt.data.slice(0, 21) == \"data:image/png;base64\") {\n",
       "            fig.imageObj.src = evt.data;\n",
       "            fig.updated_canvas_event();\n",
       "            fig.waiting = false;\n",
       "            return;\n",
       "        }\n",
       "\n",
       "        var msg = JSON.parse(evt.data);\n",
       "        var msg_type = msg['type'];\n",
       "\n",
       "        // Call the  \"handle_{type}\" callback, which takes\n",
       "        // the figure and JSON message as its only arguments.\n",
       "        try {\n",
       "            var callback = fig[\"handle_\" + msg_type];\n",
       "        } catch (e) {\n",
       "            console.log(\"No handler for the '\" + msg_type + \"' message type: \", msg);\n",
       "            return;\n",
       "        }\n",
       "\n",
       "        if (callback) {\n",
       "            try {\n",
       "                // console.log(\"Handling '\" + msg_type + \"' message: \", msg);\n",
       "                callback(fig, msg);\n",
       "            } catch (e) {\n",
       "                console.log(\"Exception inside the 'handler_\" + msg_type + \"' callback:\", e, e.stack, msg);\n",
       "            }\n",
       "        }\n",
       "    };\n",
       "}\n",
       "\n",
       "// from http://stackoverflow.com/questions/1114465/getting-mouse-location-in-canvas\n",
       "mpl.findpos = function(e) {\n",
       "    //this section is from http://www.quirksmode.org/js/events_properties.html\n",
       "    var targ;\n",
       "    if (!e)\n",
       "        e = window.event;\n",
       "    if (e.target)\n",
       "        targ = e.target;\n",
       "    else if (e.srcElement)\n",
       "        targ = e.srcElement;\n",
       "    if (targ.nodeType == 3) // defeat Safari bug\n",
       "        targ = targ.parentNode;\n",
       "\n",
       "    // jQuery normalizes the pageX and pageY\n",
       "    // pageX,Y are the mouse positions relative to the document\n",
       "    // offset() returns the position of the element relative to the document\n",
       "    var x = e.pageX - $(targ).offset().left;\n",
       "    var y = e.pageY - $(targ).offset().top;\n",
       "\n",
       "    return {\"x\": x, \"y\": y};\n",
       "};\n",
       "\n",
       "/*\n",
       " * return a copy of an object with only non-object keys\n",
       " * we need this to avoid circular references\n",
       " * http://stackoverflow.com/a/24161582/3208463\n",
       " */\n",
       "function simpleKeys (original) {\n",
       "  return Object.keys(original).reduce(function (obj, key) {\n",
       "    if (typeof original[key] !== 'object')\n",
       "        obj[key] = original[key]\n",
       "    return obj;\n",
       "  }, {});\n",
       "}\n",
       "\n",
       "mpl.figure.prototype.mouse_event = function(event, name) {\n",
       "    var canvas_pos = mpl.findpos(event)\n",
       "\n",
       "    if (name === 'button_press')\n",
       "    {\n",
       "        this.canvas.focus();\n",
       "        this.canvas_div.focus();\n",
       "    }\n",
       "\n",
       "    var x = canvas_pos.x * mpl.ratio;\n",
       "    var y = canvas_pos.y * mpl.ratio;\n",
       "\n",
       "    this.send_message(name, {x: x, y: y, button: event.button,\n",
       "                             step: event.step,\n",
       "                             guiEvent: simpleKeys(event)});\n",
       "\n",
       "    /* This prevents the web browser from automatically changing to\n",
       "     * the text insertion cursor when the button is pressed.  We want\n",
       "     * to control all of the cursor setting manually through the\n",
       "     * 'cursor' event from matplotlib */\n",
       "    event.preventDefault();\n",
       "    return false;\n",
       "}\n",
       "\n",
       "mpl.figure.prototype._key_event_extra = function(event, name) {\n",
       "    // Handle any extra behaviour associated with a key event\n",
       "}\n",
       "\n",
       "mpl.figure.prototype.key_event = function(event, name) {\n",
       "\n",
       "    // Prevent repeat events\n",
       "    if (name == 'key_press')\n",
       "    {\n",
       "        if (event.which === this._key)\n",
       "            return;\n",
       "        else\n",
       "            this._key = event.which;\n",
       "    }\n",
       "    if (name == 'key_release')\n",
       "        this._key = null;\n",
       "\n",
       "    var value = '';\n",
       "    if (event.ctrlKey && event.which != 17)\n",
       "        value += \"ctrl+\";\n",
       "    if (event.altKey && event.which != 18)\n",
       "        value += \"alt+\";\n",
       "    if (event.shiftKey && event.which != 16)\n",
       "        value += \"shift+\";\n",
       "\n",
       "    value += 'k';\n",
       "    value += event.which.toString();\n",
       "\n",
       "    this._key_event_extra(event, name);\n",
       "\n",
       "    this.send_message(name, {key: value,\n",
       "                             guiEvent: simpleKeys(event)});\n",
       "    return false;\n",
       "}\n",
       "\n",
       "mpl.figure.prototype.toolbar_button_onclick = function(name) {\n",
       "    if (name == 'download') {\n",
       "        this.handle_save(this, null);\n",
       "    } else {\n",
       "        this.send_message(\"toolbar_button\", {name: name});\n",
       "    }\n",
       "};\n",
       "\n",
       "mpl.figure.prototype.toolbar_button_onmouseover = function(tooltip) {\n",
       "    this.message.textContent = tooltip;\n",
       "};\n",
       "mpl.toolbar_items = [[\"Home\", \"Reset original view\", \"fa fa-home icon-home\", \"home\"], [\"Back\", \"Back to previous view\", \"fa fa-arrow-left icon-arrow-left\", \"back\"], [\"Forward\", \"Forward to next view\", \"fa fa-arrow-right icon-arrow-right\", \"forward\"], [\"\", \"\", \"\", \"\"], [\"Pan\", \"Pan axes with left mouse, zoom with right\", \"fa fa-arrows icon-move\", \"pan\"], [\"Zoom\", \"Zoom to rectangle\", \"fa fa-square-o icon-check-empty\", \"zoom\"], [\"\", \"\", \"\", \"\"], [\"Download\", \"Download plot\", \"fa fa-floppy-o icon-save\", \"download\"]];\n",
       "\n",
       "mpl.extensions = [\"eps\", \"jpeg\", \"pdf\", \"png\", \"ps\", \"raw\", \"svg\", \"tif\"];\n",
       "\n",
       "mpl.default_extension = \"png\";var comm_websocket_adapter = function(comm) {\n",
       "    // Create a \"websocket\"-like object which calls the given IPython comm\n",
       "    // object with the appropriate methods. Currently this is a non binary\n",
       "    // socket, so there is still some room for performance tuning.\n",
       "    var ws = {};\n",
       "\n",
       "    ws.close = function() {\n",
       "        comm.close()\n",
       "    };\n",
       "    ws.send = function(m) {\n",
       "        //console.log('sending', m);\n",
       "        comm.send(m);\n",
       "    };\n",
       "    // Register the callback with on_msg.\n",
       "    comm.on_msg(function(msg) {\n",
       "        //console.log('receiving', msg['content']['data'], msg);\n",
       "        // Pass the mpl event to the overridden (by mpl) onmessage function.\n",
       "        ws.onmessage(msg['content']['data'])\n",
       "    });\n",
       "    return ws;\n",
       "}\n",
       "\n",
       "mpl.mpl_figure_comm = function(comm, msg) {\n",
       "    // This is the function which gets called when the mpl process\n",
       "    // starts-up an IPython Comm through the \"matplotlib\" channel.\n",
       "\n",
       "    var id = msg.content.data.id;\n",
       "    // Get hold of the div created by the display call when the Comm\n",
       "    // socket was opened in Python.\n",
       "    var element = $(\"#\" + id);\n",
       "    var ws_proxy = comm_websocket_adapter(comm)\n",
       "\n",
       "    function ondownload(figure, format) {\n",
       "        window.open(figure.imageObj.src);\n",
       "    }\n",
       "\n",
       "    var fig = new mpl.figure(id, ws_proxy,\n",
       "                           ondownload,\n",
       "                           element.get(0));\n",
       "\n",
       "    // Call onopen now - mpl needs it, as it is assuming we've passed it a real\n",
       "    // web socket which is closed, not our websocket->open comm proxy.\n",
       "    ws_proxy.onopen();\n",
       "\n",
       "    fig.parent_element = element.get(0);\n",
       "    fig.cell_info = mpl.find_output_cell(\"<div id='\" + id + \"'></div>\");\n",
       "    if (!fig.cell_info) {\n",
       "        console.error(\"Failed to find cell for figure\", id, fig);\n",
       "        return;\n",
       "    }\n",
       "\n",
       "    var output_index = fig.cell_info[2]\n",
       "    var cell = fig.cell_info[0];\n",
       "\n",
       "};\n",
       "\n",
       "mpl.figure.prototype.handle_close = function(fig, msg) {\n",
       "    var width = fig.canvas.width/mpl.ratio\n",
       "    fig.root.unbind('remove')\n",
       "\n",
       "    // Update the output cell to use the data from the current canvas.\n",
       "    fig.push_to_output();\n",
       "    var dataURL = fig.canvas.toDataURL();\n",
       "    // Re-enable the keyboard manager in IPython - without this line, in FF,\n",
       "    // the notebook keyboard shortcuts fail.\n",
       "    IPython.keyboard_manager.enable()\n",
       "    $(fig.parent_element).html('<img src=\"' + dataURL + '\" width=\"' + width + '\">');\n",
       "    fig.close_ws(fig, msg);\n",
       "}\n",
       "\n",
       "mpl.figure.prototype.close_ws = function(fig, msg){\n",
       "    fig.send_message('closing', msg);\n",
       "    // fig.ws.close()\n",
       "}\n",
       "\n",
       "mpl.figure.prototype.push_to_output = function(remove_interactive) {\n",
       "    // Turn the data on the canvas into data in the output cell.\n",
       "    var width = this.canvas.width/mpl.ratio\n",
       "    var dataURL = this.canvas.toDataURL();\n",
       "    this.cell_info[1]['text/html'] = '<img src=\"' + dataURL + '\" width=\"' + width + '\">';\n",
       "}\n",
       "\n",
       "mpl.figure.prototype.updated_canvas_event = function() {\n",
       "    // Tell IPython that the notebook contents must change.\n",
       "    IPython.notebook.set_dirty(true);\n",
       "    this.send_message(\"ack\", {});\n",
       "    var fig = this;\n",
       "    // Wait a second, then push the new image to the DOM so\n",
       "    // that it is saved nicely (might be nice to debounce this).\n",
       "    setTimeout(function () { fig.push_to_output() }, 1000);\n",
       "}\n",
       "\n",
       "mpl.figure.prototype._init_toolbar = function() {\n",
       "    var fig = this;\n",
       "\n",
       "    var nav_element = $('<div/>');\n",
       "    nav_element.attr('style', 'width: 100%');\n",
       "    this.root.append(nav_element);\n",
       "\n",
       "    // Define a callback function for later on.\n",
       "    function toolbar_event(event) {\n",
       "        return fig.toolbar_button_onclick(event['data']);\n",
       "    }\n",
       "    function toolbar_mouse_event(event) {\n",
       "        return fig.toolbar_button_onmouseover(event['data']);\n",
       "    }\n",
       "\n",
       "    for(var toolbar_ind in mpl.toolbar_items){\n",
       "        var name = mpl.toolbar_items[toolbar_ind][0];\n",
       "        var tooltip = mpl.toolbar_items[toolbar_ind][1];\n",
       "        var image = mpl.toolbar_items[toolbar_ind][2];\n",
       "        var method_name = mpl.toolbar_items[toolbar_ind][3];\n",
       "\n",
       "        if (!name) { continue; };\n",
       "\n",
       "        var button = $('<button class=\"btn btn-default\" href=\"#\" title=\"' + name + '\"><i class=\"fa ' + image + ' fa-lg\"></i></button>');\n",
       "        button.click(method_name, toolbar_event);\n",
       "        button.mouseover(tooltip, toolbar_mouse_event);\n",
       "        nav_element.append(button);\n",
       "    }\n",
       "\n",
       "    // Add the status bar.\n",
       "    var status_bar = $('<span class=\"mpl-message\" style=\"text-align:right; float: right;\"/>');\n",
       "    nav_element.append(status_bar);\n",
       "    this.message = status_bar[0];\n",
       "\n",
       "    // Add the close button to the window.\n",
       "    var buttongrp = $('<div class=\"btn-group inline pull-right\"></div>');\n",
       "    var button = $('<button class=\"btn btn-mini btn-primary\" href=\"#\" title=\"Stop Interaction\"><i class=\"fa fa-power-off icon-remove icon-large\"></i></button>');\n",
       "    button.click(function (evt) { fig.handle_close(fig, {}); } );\n",
       "    button.mouseover('Stop Interaction', toolbar_mouse_event);\n",
       "    buttongrp.append(button);\n",
       "    var titlebar = this.root.find($('.ui-dialog-titlebar'));\n",
       "    titlebar.prepend(buttongrp);\n",
       "}\n",
       "\n",
       "mpl.figure.prototype._root_extra_style = function(el){\n",
       "    var fig = this\n",
       "    el.on(\"remove\", function(){\n",
       "\tfig.close_ws(fig, {});\n",
       "    });\n",
       "}\n",
       "\n",
       "mpl.figure.prototype._canvas_extra_style = function(el){\n",
       "    // this is important to make the div 'focusable\n",
       "    el.attr('tabindex', 0)\n",
       "    // reach out to IPython and tell the keyboard manager to turn it's self\n",
       "    // off when our div gets focus\n",
       "\n",
       "    // location in version 3\n",
       "    if (IPython.notebook.keyboard_manager) {\n",
       "        IPython.notebook.keyboard_manager.register_events(el);\n",
       "    }\n",
       "    else {\n",
       "        // location in version 2\n",
       "        IPython.keyboard_manager.register_events(el);\n",
       "    }\n",
       "\n",
       "}\n",
       "\n",
       "mpl.figure.prototype._key_event_extra = function(event, name) {\n",
       "    var manager = IPython.notebook.keyboard_manager;\n",
       "    if (!manager)\n",
       "        manager = IPython.keyboard_manager;\n",
       "\n",
       "    // Check for shift+enter\n",
       "    if (event.shiftKey && event.which == 13) {\n",
       "        this.canvas_div.blur();\n",
       "        event.shiftKey = false;\n",
       "        // Send a \"J\" for go to next cell\n",
       "        event.which = 74;\n",
       "        event.keyCode = 74;\n",
       "        manager.command_mode();\n",
       "        manager.handle_keydown(event);\n",
       "    }\n",
       "}\n",
       "\n",
       "mpl.figure.prototype.handle_save = function(fig, msg) {\n",
       "    fig.ondownload(fig, null);\n",
       "}\n",
       "\n",
       "\n",
       "mpl.find_output_cell = function(html_output) {\n",
       "    // Return the cell and output element which can be found *uniquely* in the notebook.\n",
       "    // Note - this is a bit hacky, but it is done because the \"notebook_saving.Notebook\"\n",
       "    // IPython event is triggered only after the cells have been serialised, which for\n",
       "    // our purposes (turning an active figure into a static one), is too late.\n",
       "    var cells = IPython.notebook.get_cells();\n",
       "    var ncells = cells.length;\n",
       "    for (var i=0; i<ncells; i++) {\n",
       "        var cell = cells[i];\n",
       "        if (cell.cell_type === 'code'){\n",
       "            for (var j=0; j<cell.output_area.outputs.length; j++) {\n",
       "                var data = cell.output_area.outputs[j];\n",
       "                if (data.data) {\n",
       "                    // IPython >= 3 moved mimebundle to data attribute of output\n",
       "                    data = data.data;\n",
       "                }\n",
       "                if (data['text/html'] == html_output) {\n",
       "                    return [cell, data, j];\n",
       "                }\n",
       "            }\n",
       "        }\n",
       "    }\n",
       "}\n",
       "\n",
       "// Register the function which deals with the matplotlib target/channel.\n",
       "// The kernel may be null if the page has been refreshed.\n",
       "if (IPython.notebook.kernel != null) {\n",
       "    IPython.notebook.kernel.comm_manager.register_target('matplotlib', mpl.mpl_figure_comm);\n",
       "}\n"
      ],
      "text/plain": [
       "<IPython.core.display.Javascript object>"
      ]
     },
     "metadata": {},
     "output_type": "display_data"
    },
    {
     "data": {
      "text/html": [
       "<img src=\"data:image/png;base64,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\" width=\"999.1666666666667\">"
      ],
      "text/plain": [
       "<IPython.core.display.HTML object>"
      ]
     },
     "metadata": {},
     "output_type": "display_data"
    },
    {
     "data": {
      "text/plain": [
       "<mplcursors._mplcursors.Cursor at 0x7ff8ee8a6b00>"
      ]
     },
     "execution_count": 51,
     "metadata": {},
     "output_type": "execute_result"
    }
   ],
   "source": [
    "%matplotlib notebook\n",
    "fig = plt.figure(figsize = (10,10))\n",
    "\n",
    "ax = fig.add_subplot(111)\n",
    "\n",
    "ax.plot(boundary['X'], boundary['Y'])\n",
    "\n",
    "ax.plot(c11100['X'], c11100['Y'], c = 'k')\n",
    "ax.annotate('11100', xy = (9842.52, 2296.588), size = 10)\n",
    "ax.plot(c11000['X'], c11000['Y'], c = 'k')\n",
    "ax.plot(c10900['X'], c10900['Y'], c = 'k')\n",
    "ax.annotate('10900', xy = (9992.52, 3480.84), size = 10)\n",
    "ax.plot(c10800['X'], c10800['Y'], c = 'k')\n",
    "ax.plot(c10700['X'], c10700['Y'], c = 'k')\n",
    "ax.annotate('10700', xy = (9980.52, 4365.092), size = 10)\n",
    "ax.plot(c10600['X'], c10600['Y'], c = 'k')\n",
    "ax.plot(c10500['X'], c10500['Y'], c = 'k')\n",
    "ax.annotate('10500', xy = (9980.52, 5249.344), size = 10)\n",
    "ax.plot(c10400['X'], c10400['Y'], c = 'k')\n",
    "ax.plot(c10300['X'], c10300['Y'], c = 'k')\n",
    "ax.annotate('10300', xy = (10170.604, 6133.596), size = 10)\n",
    "ax.plot(c10200['X'], c10200['Y'], c = 'k')\n",
    "ax.plot(c10100['X'], c10100['Y'], c = 'k')\n",
    "ax.annotate('10100', xy = (10570.604, 6999.764), size = 10)\n",
    "ax.plot(c10000['X'], c10000['Y'], c = 'k')\n",
    "ax.plot(c9900['X'], c9900['Y'], c = 'k')\n",
    "ax.annotate('9900', xy = (10891.8376, 7990.8664), size = 10)\n",
    "ax.plot(c9800['X'], c9800['Y'], c = 'k')\n",
    "ax.plot(c9800_2['X'], c9800_2['Y'], c = 'k')\n",
    "\n",
    "ax.plot(OWC['X'], OWC['Y'], c = 'b')\n",
    "ax.plot(OWC2['X'], OWC2['Y'],  c = 'b')\n",
    "\n",
    "ax.plot(np.array([11944.4, 23250]), np.array([8983.58, 752.62]), c = 'r')\n",
    "ax.plot(np.array([11944.4,4921]), np.array([8983.58,4160 ]), c = 'r')\n",
    "ax.invert_yaxis()\n",
    "\n",
    "ax.set_title(\"X field Contour MAP with Imagenary fault lines\")\n",
    "mplcursors.cursor(hover = True)"
   ]
  },
  {
   "cell_type": "markdown",
   "metadata": {},
   "source": [
    "### Building the Intersection Contours"
   ]
  },
  {
   "cell_type": "code",
   "execution_count": 5,
   "metadata": {},
   "outputs": [],
   "source": [
    "def getsegment_polygon(subset, faultlineprops):\n",
    "    \n",
    "    sorted_below = []\n",
    "    sorted_above = []\n",
    "    \n",
    "    k1,b1 = faultlineprops[0]\n",
    "    k2,b2 = faultlineprops[1]\n",
    "    \n",
    "    for i in range(len(subset)):\n",
    "        x,y = subset[i]\n",
    "        y1 = k1 * x + b1\n",
    "        y2 = k2 * x + b2\n",
    "        \n",
    "        if ( y > y1) | (y > y2):\n",
    "            sorted_below.append(subset[i])\n",
    "        \n",
    "        else:\n",
    "            sorted_above.append(subset[i])\n",
    "        \n",
    "            \n",
    "    return {\"below\": sorted_below, \"above\": sorted_above}\n",
    "\n",
    "\n",
    "\n",
    "def getGRV(contour_points, fault_intersection ):\n",
    "    \n",
    "    segment_points = getsegment_polygon(contour_points, [(0.687, 780.32), (-0.72, 17603.37)])\n",
    "    segment_points['above'] = list(set(segment_points['above']))\n",
    "    segment_points['above'].sort()\n",
    "    \n",
    "    \n",
    "    for i in range(len(fault_intersection)):\n",
    "        segment_points['below'].insert(0, fault_intersection[i])\n",
    "        segment_points['above'].insert(0, fault_intersection[i])\n",
    "    \n",
    "    poly_above = geometry.Polygon(segment_points['above'])\n",
    "    poly_below = geometry.Polygon(segment_points['below'])\n",
    "    \n",
    "    \n",
    "    return {\"below\": (poly_below, poly_below.area), \"above\": (poly_above, poly_above.area) }"
   ]
  },
  {
   "cell_type": "code",
   "execution_count": 6,
   "metadata": {},
   "outputs": [],
   "source": [
    "# Values are taken manually\n",
    "# We ll try to preserve them as tuples\n",
    "\n",
    "i9800 = [(11612, 8755.2), (12110.2, 8862.89)]\n",
    "i9900 = [(10438.3, 7949.66), (12821.3, 8344.74)]\n",
    "i10000 = [(9248.15, 7131.83), (13925, 7541.63)]\n",
    "i10100 = [(8241.84, 6440.04), (14441.6, 7238.06 )]\n",
    "i10200 = [(7875.47,6189.09), (15045.59, 6725.56)]\n",
    "i10300 = [(7509.05, 5996.64), (15597.5, 6311.5)]\n",
    "i10400 = [(7233.19, 5748.5), (16255.4, 5869.92)]\n",
    "i10500 = [(7013.99, 5597.44), (16753.9, 5482.02)]\n",
    "i10600 = [(6692.64, 5407.78), (17341.1, 5054.55)]\n",
    "i10700 = [(6521.23, 5258.03), (18114.8, 4446.53)]\n",
    "i10800 = [(6230.68, 5058.43), (18817.9, 3979.4)]\n",
    "\n",
    "iOWC = [(5991.27, 4893.96), (19529.5, 3461.27)]\n",
    "iOWC2 = [(6868.26, 5496.26), (17074, 5248.86)]\n",
    "\n",
    "#9800 ft contour conversion:\n",
    "subset9800 = [tuple(x) for x in c9800[['X', 'Y']].values]\n",
    "\n",
    "#9900 ft contour conversion:\n",
    "subset9900 = [tuple(x) for x in c9900[['X', 'Y']].values]\n",
    "\n",
    "#10000 ft contour conversion:\n",
    "subset10000 = [tuple(x) for x in c10000[['X', 'Y']].values]\n",
    "\n",
    "#10100 ft contour conversion:\n",
    "subset10100 = [tuple(x) for x in c10100[['X', 'Y']].values]\n",
    "\n",
    "#10200 ft contour conversion:\n",
    "subset10200 = [tuple(x) for x in c10200[['X', 'Y']].values]\n",
    "\n",
    "#10300 ft contour conversion:\n",
    "subset10300 = [tuple(x) for x in c10300[['X', 'Y']].values]\n",
    "\n",
    "#10300 ft contour conversion:\n",
    "subset10300 = [tuple(x) for x in c10300[['X', 'Y']].values]\n",
    "\n",
    "#10400 ft contour conversion:\n",
    "subset10400 = [tuple(x) for x in c10400[['X', 'Y']].values]\n",
    "\n",
    "#10500 ft contour conversion:\n",
    "subset10500 = [tuple(x) for x in c10500[['X', 'Y']].values]\n",
    "\n",
    "#10600 ft contour conversion:\n",
    "subset10600 = [tuple(x) for x in c10600[['X', 'Y']].values]\n",
    "\n",
    "#10700 ft contour conversion:\n",
    "subset10700 = [tuple(x) for x in c10700[['X', 'Y']].values]\n",
    "\n",
    "#10800 ft contour conversion:\n",
    "subset10800 = [tuple(x) for x in c10800[['X', 'Y']].values]"
   ]
  },
  {
   "cell_type": "code",
   "execution_count": 7,
   "metadata": {},
   "outputs": [],
   "source": [
    "OWCsubset = [tuple(x) for x in OWC[['X', 'Y']].values]\n",
    "\n",
    "OWC2subset = [tuple(x) for x in OWC2[['X', 'Y']].values]"
   ]
  },
  {
   "cell_type": "markdown",
   "metadata": {},
   "source": [
    "## GRV 9800"
   ]
  },
  {
   "cell_type": "code",
   "execution_count": 8,
   "metadata": {},
   "outputs": [],
   "source": [
    "i9800.insert(1, (11944.4, 8983.58))\n",
    "poly9800 = getGRV(subset9800, i9800)"
   ]
  },
  {
   "cell_type": "code",
   "execution_count": 9,
   "metadata": {},
   "outputs": [
    {
     "name": "stdout",
     "output_type": "stream",
     "text": [
      "Area below the fault lines: 0.04112257711262618\n",
      "Area above the fault lines: 0.012855386870056601\n"
     ]
    }
   ],
   "source": [
    "print(\"Area below the fault lines: {}\".format(poly9800['below'][1]/(3.28084**2)/(10**6)))\n",
    "print(\"Area above the fault lines: {}\".format(poly9800['above'][1]/(3.28084**2)/(10**6)))"
   ]
  },
  {
   "cell_type": "code",
   "execution_count": 10,
   "metadata": {},
   "outputs": [
    {
     "data": {
      "image/svg+xml": [
       "<svg xmlns=\"http://www.w3.org/2000/svg\" xmlns:xlink=\"http://www.w3.org/1999/xlink\" width=\"300\" height=\"300\" viewBox=\"11526.968134428676 8718.634153846155 904.0443136669182 987.2778461538455\" preserveAspectRatio=\"xMinYMin meet\"><g transform=\"matrix(1,0,0,-1,0,18424.546153846153)\"><path fill-rule=\"evenodd\" fill=\"#66cc99\" stroke=\"#555555\" stroke-width=\"6.581852307692303\" opacity=\"0.6\" d=\"M 12110.2,8862.89 L 11944.4,8983.58 L 11612.0,8755.2 L 11563.533980582522,8777.846153846156 L 11598.155339805826,9086.442307692309 L 11840.504854368934,9463.615384615388 L 12117.475728155341,9669.346153846154 L 12394.446601941749,9566.480769230771 L 12394.446601941749,9257.884615384615 L 12110.2,8862.89 z\" /></g></svg>"
      ],
      "text/plain": [
       "<shapely.geometry.polygon.Polygon at 0x7ff8f795e9e8>"
      ]
     },
     "execution_count": 10,
     "metadata": {},
     "output_type": "execute_result"
    }
   ],
   "source": [
    "# Polygons of 9800 contour\n",
    "poly9800['below'][0]"
   ]
  },
  {
   "cell_type": "code",
   "execution_count": 11,
   "metadata": {},
   "outputs": [
    {
     "data": {
      "image/svg+xml": [
       "<svg xmlns=\"http://www.w3.org/2000/svg\" xmlns:xlink=\"http://www.w3.org/1999/xlink\" width=\"300\" height=\"300\" viewBox=\"11591.780970873786 8483.319432412249 545.9137864077693 520.4795967139653\" preserveAspectRatio=\"xMinYMin meet\"><g transform=\"matrix(1,0,0,-1,0,17487.118461538463)\"><path fill-rule=\"evenodd\" fill=\"#66cc99\" stroke=\"#555555\" stroke-width=\"3.639425242718462\" opacity=\"0.6\" d=\"M 12110.2,8862.89 L 11944.4,8983.58 L 11612.0,8755.2 L 11702.019417475727,8503.538461538463 L 11771.262135922329,8503.538461538463 L 11909.747572815537,8572.115384615385 L 12117.475728155341,8812.134615384615 L 12110.2,8862.89 z\" /></g></svg>"
      ],
      "text/plain": [
       "<shapely.geometry.polygon.Polygon at 0x7ff8f795ee48>"
      ]
     },
     "execution_count": 11,
     "metadata": {},
     "output_type": "execute_result"
    }
   ],
   "source": [
    "poly9800['above'][0]"
   ]
  },
  {
   "cell_type": "markdown",
   "metadata": {},
   "source": [
    "## GRV 9900"
   ]
  },
  {
   "cell_type": "code",
   "execution_count": 12,
   "metadata": {},
   "outputs": [],
   "source": [
    "i9900.insert(1, (11944.4, 8983.58))\n",
    "poly9900 = getGRV(subset9900, i9900)"
   ]
  },
  {
   "cell_type": "code",
   "execution_count": 13,
   "metadata": {},
   "outputs": [
    {
     "name": "stdout",
     "output_type": "stream",
     "text": [
      "Area (km^2) below the fault lines: 0.3798896295178846\n",
      "Area (km^2) above the fault lines: 0.1494268887387487\n"
     ]
    }
   ],
   "source": [
    "print(\"Area (km^2) below the fault lines: {}\".format(poly9900['below'][1]/(3.28084**2)/(10**6)))\n",
    "print(\"Area (km^2) above the fault lines: {}\".format(poly9900['above'][1]/(3.28084**2)/(10**6)))"
   ]
  },
  {
   "cell_type": "code",
   "execution_count": 14,
   "metadata": {},
   "outputs": [
    {
     "data": {
      "image/svg+xml": [
       "<svg xmlns=\"http://www.w3.org/2000/svg\" xmlns:xlink=\"http://www.w3.org/1999/xlink\" width=\"300\" height=\"300\" viewBox=\"10047.134293950707 7783.493323076923 3136.6634509335363 4486.5002769230805\" preserveAspectRatio=\"xMinYMin meet\"><g transform=\"matrix(1,0,0,-1,0,20053.486923076925)\"><path fill-rule=\"evenodd\" fill=\"#66cc99\" stroke=\"#555555\" stroke-width=\"29.91000184615387\" opacity=\"0.6\" d=\"M 12821.3,8344.74 L 11944.4,8983.58 L 10438.3,7949.66 L 10213.300970873785,8400.673076923078 L 10559.514563106795,8640.69230769231 L 11113.456310679612,8949.288461538463 L 11321.184466019418,9223.596153846154 L 11528.912621359224,9635.057692307691 L 11702.019417475727,9909.365384615388 L 11909.747572815537,10217.96153846154 L 11909.747572815537,11418.057692307693 L 12186.718446601943,11829.51923076923 L 12706.038834951454,12103.826923076926 L 12844.52427184466,11829.51923076923 L 12567.553398058251,10972.307692307691 L 12498.31067961165,10526.557692307691 L 12879.145631067962,10252.250000000002 L 13017.631067961165,9532.192307692309 L 12983.009708737864,8983.576923076924 L 12983.009708737864,8572.115384615385 L 12821.3,8344.74 z\" /></g></svg>"
      ],
      "text/plain": [
       "<shapely.geometry.polygon.Polygon at 0x7ff8f795e5c0>"
      ]
     },
     "execution_count": 14,
     "metadata": {},
     "output_type": "execute_result"
    }
   ],
   "source": [
    "poly9900['below'][0]"
   ]
  },
  {
   "cell_type": "code",
   "execution_count": 15,
   "metadata": {},
   "outputs": [
    {
     "data": {
      "image/svg+xml": [
       "<svg xmlns=\"http://www.w3.org/2000/svg\" xmlns:xlink=\"http://www.w3.org/1999/xlink\" width=\"300\" height=\"300\" viewBox=\"10289.012077669902 7720.373541448844 2629.6836116504855 1360.6021478715447\" preserveAspectRatio=\"xMinYMin meet\"><g transform=\"matrix(1,0,0,-1,0,16801.349230769232)\"><path fill-rule=\"evenodd\" fill=\"#66cc99\" stroke=\"#555555\" stroke-width=\"17.531224077669904\" opacity=\"0.6\" d=\"M 12821.3,8344.74 L 11944.4,8983.58 L 10438.3,7949.66 L 10386.40776699029,7886.346153846153 L 10732.621359223302,7817.769230769232 L 11978.990291262136,7817.769230769232 L 12463.689320388346,7886.346153846153 L 12706.038834951454,8092.076923076924 L 12821.3,8344.74 z\" /></g></svg>"
      ],
      "text/plain": [
       "<shapely.geometry.polygon.Polygon at 0x7ff8f795ea20>"
      ]
     },
     "execution_count": 15,
     "metadata": {},
     "output_type": "execute_result"
    }
   ],
   "source": [
    "poly9900['above'][0]"
   ]
  },
  {
   "cell_type": "markdown",
   "metadata": {},
   "source": [
    "## GRV 10000"
   ]
  },
  {
   "cell_type": "code",
   "execution_count": 16,
   "metadata": {},
   "outputs": [],
   "source": [
    "i10000.insert(1, (11944.4, 8983.58))\n",
    "poly10000 = getGRV(subset10000, i10000)"
   ]
  },
  {
   "cell_type": "code",
   "execution_count": 17,
   "metadata": {},
   "outputs": [
    {
     "name": "stdout",
     "output_type": "stream",
     "text": [
      "Area (km^2) below the fault lines: 1.0809605629731964\n",
      "Area (km^2) above the fault lines: 0.454027945549296\n"
     ]
    }
   ],
   "source": [
    "print(\"Area (km^2) below the fault lines: {}\".format(poly10000['below'][1]/(3.28084**2)/(10**6)))\n",
    "print(\"Area (km^2) above the fault lines: {}\".format(poly10000['above'][1]/(3.28084**2)/(10**6)))"
   ]
  },
  {
   "cell_type": "code",
   "execution_count": 18,
   "metadata": {},
   "outputs": [
    {
     "data": {
      "image/svg+xml": [
       "<svg xmlns=\"http://www.w3.org/2000/svg\" xmlns:xlink=\"http://www.w3.org/1999/xlink\" width=\"300\" height=\"300\" viewBox=\"8312.82803584765 6756.198461538463 5850.819656460042 6443.487692307694\" preserveAspectRatio=\"xMinYMin meet\"><g transform=\"matrix(1,0,0,-1,0,19955.884615384617)\"><path fill-rule=\"evenodd\" fill=\"#66cc99\" stroke=\"#555555\" stroke-width=\"42.95658461538462\" opacity=\"0.6\" d=\"M 13925.0,7541.63 L 11944.4,8983.58 L 9248.15,7131.83 L 9174.660194174756,7097.711538461539 L 8620.71844660194,6994.846153846155 L 8551.475728155341,7372.01923076923 L 9036.174757281551,8503.538461538463 L 9451.631067961165,9155.01923076923 L 9797.844660194174,9703.634615384615 L 10247.922330097086,9120.730769230771 L 10559.514563106795,9120.730769230771 L 10974.970873786408,9463.615384615388 L 11286.563106796115,10115.096153846154 L 11494.291262135923,10663.71153846154 L 11494.291262135923,11178.038461538465 L 11494.291262135923,11555.21153846154 L 11875.126213592232,12103.826923076926 L 12325.203883495144,12515.288461538465 L 12809.902912621359,12789.596153846154 L 13052.252427184463,12961.038461538465 L 13259.980582524273,12446.71153846154 L 13121.495145631066,11555.21153846154 L 13190.737864077671,11109.46153846154 L 13398.466019417476,10629.423076923078 L 13398.466019417476,9326.46153846154 L 13536.95145631068,8709.269230769232 L 13848.543689320391,7783.48076923077 L 13925.0,7541.63 z\" /></g></svg>"
      ],
      "text/plain": [
       "<shapely.geometry.polygon.Polygon at 0x7ff8f795e208>"
      ]
     },
     "execution_count": 18,
     "metadata": {},
     "output_type": "execute_result"
    }
   ],
   "source": [
    "poly10000['below'][0]"
   ]
  },
  {
   "cell_type": "code",
   "execution_count": 19,
   "metadata": {},
   "outputs": [
    {
     "data": {
      "image/svg+xml": [
       "<svg xmlns=\"http://www.w3.org/2000/svg\" xmlns:xlink=\"http://www.w3.org/1999/xlink\" width=\"300\" height=\"300\" viewBox=\"9061.076 6259.156769230771 5050.998000000001 2911.4972307692296\" preserveAspectRatio=\"xMinYMin meet\"><g transform=\"matrix(1,0,0,-1,0,15429.810769230771)\"><path fill-rule=\"evenodd\" fill=\"#66cc99\" stroke=\"#555555\" stroke-width=\"33.67332000000001\" opacity=\"0.6\" d=\"M 13925.0,7541.63 L 11944.4,8983.58 L 9248.15,7131.83 L 10178.679611650483,7234.865384615386 L 11044.213592233007,7406.3076923076915 L 11459.66990291262,7372.01923076923 L 11459.66990291262,7406.3076923076915 L 12152.097087378641,7132.0 L 12775.28155339806,6891.98076923077 L 13329.22330097087,6446.23076923077 L 13710.058252427185,6651.961538461538 L 13917.78640776699,7474.884615384617 L 13925.0,7541.63 z\" /></g></svg>"
      ],
      "text/plain": [
       "<shapely.geometry.polygon.Polygon at 0x7ff8f795eac8>"
      ]
     },
     "execution_count": 19,
     "metadata": {},
     "output_type": "execute_result"
    }
   ],
   "source": [
    "poly10000['above'][0]"
   ]
  },
  {
   "cell_type": "markdown",
   "metadata": {},
   "source": [
    "## Contour Area at 10100 ft TVDSS"
   ]
  },
  {
   "cell_type": "code",
   "execution_count": 20,
   "metadata": {},
   "outputs": [
    {
     "name": "stdout",
     "output_type": "stream",
     "text": [
      "Area (km^2) below the fault lines: 1.683335722009551\n",
      "Area (km^2) above the fault lines: 0.7753115381009678\n"
     ]
    }
   ],
   "source": [
    "i10100.insert(1, (11944.4, 8983.58))\n",
    "poly10100 = getGRV(subset10100, i10100)\n",
    "\n",
    "print(\"Area (km^2) below the fault lines: {}\".format(poly10100['below'][1]/(3.28084**2)/(10**6)))\n",
    "print(\"Area (km^2) above the fault lines: {}\".format(poly10100['above'][1]/(3.28084**2)/(10**6)))"
   ]
  },
  {
   "cell_type": "code",
   "execution_count": 21,
   "metadata": {},
   "outputs": [
    {
     "data": {
      "image/svg+xml": [
       "<svg xmlns=\"http://www.w3.org/2000/svg\" xmlns:xlink=\"http://www.w3.org/1999/xlink\" width=\"300\" height=\"300\" viewBox=\"7742.760724421211 6122.547692307693 6988.2338909634045 7813.6546153846175\" preserveAspectRatio=\"xMinYMin meet\"><g transform=\"matrix(1,0,0,-1,0,20058.750000000004)\"><path fill-rule=\"evenodd\" fill=\"#66cc99\" stroke=\"#555555\" stroke-width=\"52.091030769230784\" opacity=\"0.6\" d=\"M 14441.6,7238.06 L 11944.4,8983.58 L 8241.84,6440.04 L 8066.776699029126,6411.9423076923085 L 8032.155339805827,6686.25 L 8136.019417475727,7063.423076923077 L 8274.504854368932,7440.596153846155 L 8516.854368932041,7989.211538461539 L 8689.961165048542,8332.096153846154 L 9001.553398058253,8880.711538461539 L 9417.009708737864,9600.769230769232 L 9832.466019417476,10183.673076923078 L 10178.679611650483,10663.71153846154 L 10351.786407766993,10732.288461538465 L 10524.893203883496,10629.423076923078 L 10421.029126213592,10252.250000000002 L 10317.16504854369,9669.346153846154 L 10455.650485436894,9497.903846153846 L 10663.378640776698,9497.903846153846 L 10836.485436893205,9737.923076923078 L 11009.59223300971,10080.807692307691 L 11044.213592233007,10320.826923076924 L 10974.970873786408,10629.423076923078 L 10940.349514563108,10938.019230769232 L 11009.59223300971,11315.192307692307 L 11182.699029126212,11623.788461538465 L 11321.184466019418,12000.96153846154 L 11563.533980582522,12515.288461538465 L 11736.640776699029,12892.46153846154 L 12325.203883495144,13235.346153846154 L 13086.873786407768,13646.807692307695 L 13329.22330097087,13441.076923076926 L 13467.708737864077,13029.615384615383 L 13467.708737864077,12549.576923076924 L 13467.708737864077,12103.826923076926 L 13536.95145631068,11520.923076923078 L 13640.815533980583,11006.596153846154 L 13779.300970873786,10149.384615384615 L 13779.300970873786,9566.480769230771 L 13883.165048543691,8812.134615384615 L 14229.378640776698,7954.923076923076 L 14402.485436893201,7337.73076923077 L 14441.6,7238.06 z\" /></g></svg>"
      ],
      "text/plain": [
       "<shapely.geometry.polygon.Polygon at 0x7ff8f82cbeb8>"
      ]
     },
     "execution_count": 21,
     "metadata": {},
     "output_type": "execute_result"
    }
   ],
   "source": [
    "poly10100['below'][0]"
   ]
  },
  {
   "cell_type": "code",
   "execution_count": 22,
   "metadata": {},
   "outputs": [
    {
     "data": {
      "image/svg+xml": [
       "<svg xmlns=\"http://www.w3.org/2000/svg\" xmlns:xlink=\"http://www.w3.org/1999/xlink\" width=\"300\" height=\"300\" viewBox=\"7992.644473786408 5614.13139686333 6728.279207766989 3618.644129350262\" preserveAspectRatio=\"xMinYMin meet\"><g transform=\"matrix(1,0,0,-1,0,14846.906923076924)\"><path fill-rule=\"evenodd\" fill=\"#66cc99\" stroke=\"#555555\" stroke-width=\"44.8551947184466\" opacity=\"0.6\" d=\"M 14441.6,7238.06 L 11944.4,8983.58 L 8241.84,6440.04 L 8724.582524271844,6480.519230769231 L 9140.038834951456,6651.961538461538 L 10247.922330097086,6857.692307692309 L 10801.8640776699,6926.269230769231 L 12082.854368932041,6754.826923076924 L 12498.31067961165,6549.096153846153 L 12913.766990291262,6171.923076923077 L 13329.22330097087,5897.615384615386 L 13848.543689320391,5863.326923076923 L 14264.0,6069.0576923076915 L 14471.728155339804,6583.384615384615 L 14441.6,7238.06 z\" /></g></svg>"
      ],
      "text/plain": [
       "<shapely.geometry.polygon.Polygon at 0x7ff8f82cbd68>"
      ]
     },
     "execution_count": 22,
     "metadata": {},
     "output_type": "execute_result"
    }
   ],
   "source": [
    "poly10100['above'][0]"
   ]
  },
  {
   "cell_type": "markdown",
   "metadata": {},
   "source": [
    "## Contour Area at 10200 ft TVDSS"
   ]
  },
  {
   "cell_type": "code",
   "execution_count": 23,
   "metadata": {},
   "outputs": [
    {
     "name": "stdout",
     "output_type": "stream",
     "text": [
      "Area (km^2) below the fault lines: 2.2909104146504484\n",
      "Area (km^2) above the fault lines: 1.0582197838886498\n"
     ]
    }
   ],
   "source": [
    "i10200.insert(1, (11944.4, 8983.58))\n",
    "poly10200 = getGRV(subset10200, i10200)\n",
    "\n",
    "print(\"Area (km^2) below the fault lines: {}\".format(poly10200['below'][1]/(3.28084**2)/(10**6)))\n",
    "print(\"Area (km^2) above the fault lines: {}\".format(poly10200['above'][1]/(3.28084**2)/(10**6)))"
   ]
  },
  {
   "cell_type": "code",
   "execution_count": 28,
   "metadata": {},
   "outputs": [
    {
     "data": {
      "image/svg+xml": [
       "<svg xmlns=\"http://www.w3.org/2000/svg\" xmlns:xlink=\"http://www.w3.org/1999/xlink\" width=\"300\" height=\"300\" viewBox=\"7333.12346527259 5819.4376923076925 8030.663457804333 8591.316923076924\" preserveAspectRatio=\"xMinYMin meet\"><g transform=\"matrix(1,0,0,-1,0,20230.19230769231)\"><path fill-rule=\"evenodd\" fill=\"#66cc99\" stroke=\"#555555\" stroke-width=\"57.275446153846154\" opacity=\"0.6\" d=\"M 15045.59,6725.56 L 11944.4,8983.58 L 7875.47,6189.09 L 7651.3203883495125,6137.634615384615 L 7685.941747572815,6754.826923076924 L 8066.776699029126,7509.173076923077 L 8482.233009708738,8332.096153846154 L 8863.067961165048,9155.01923076923 L 9313.145631067959,9875.076923076924 L 9867.087378640776,10629.423076923078 L 10351.786407766993,11280.903846153848 L 10732.621359223302,11829.51923076923 L 11113.456310679612,12652.442307692307 L 11598.155339805826,13338.21153846154 L 12359.825242718445,13715.384615384617 L 13225.35922330097,14092.557692307693 L 13571.57281553398,13818.25 L 13813.922330097084,12823.884615384617 L 13813.922330097084,11966.673076923078 L 13813.922330097084,11658.076923076924 L 13987.02912621359,10938.019230769232 L 14021.650485436892,10286.538461538465 L 14056.271844660192,9566.480769230771 L 14333.242718446603,8709.269230769232 L 14644.834951456309,7749.192307692307 L 14956.427184466018,7029.134615384615 L 15045.59,6725.56 z\" /></g></svg>"
      ],
      "text/plain": [
       "<shapely.geometry.polygon.Polygon at 0x7f471abeec88>"
      ]
     },
     "execution_count": 28,
     "metadata": {},
     "output_type": "execute_result"
    }
   ],
   "source": [
    "poly10200['below'][0]"
   ]
  },
  {
   "cell_type": "code",
   "execution_count": 29,
   "metadata": {},
   "outputs": [
    {
     "data": {
      "image/svg+xml": [
       "<svg xmlns=\"http://www.w3.org/2000/svg\" xmlns:xlink=\"http://www.w3.org/1999/xlink\" width=\"300\" height=\"300\" viewBox=\"7588.077149514564 5267.337918745334 7759.606963106797 4003.6349317401036\" preserveAspectRatio=\"xMinYMin meet\"><g transform=\"matrix(1,0,0,-1,0,14538.310769230771)\"><path fill-rule=\"evenodd\" fill=\"#66cc99\" stroke=\"#555555\" stroke-width=\"51.730713087378646\" opacity=\"0.6\" d=\"M 15045.59,6725.56 L 11944.4,8983.58 L 7875.47,6189.09 L 8170.64077669903,6034.769230769231 L 9243.902912621359,6240.500000000001 L 10213.300970873785,6377.653846153847 L 11321.184466019418,6549.096153846153 L 11771.262135922329,6446.23076923077 L 12602.174757281553,6000.48076923077 L 13259.980582524273,5726.173076923077 L 13779.300970873786,5623.3076923076915 L 14229.378640776698,5554.73076923077 L 14748.699029126214,5760.461538461539 L 15060.291262135923,6514.807692307693 L 15045.59,6725.56 z\" /></g></svg>"
      ],
      "text/plain": [
       "<shapely.geometry.polygon.Polygon at 0x7f471abee358>"
      ]
     },
     "execution_count": 29,
     "metadata": {},
     "output_type": "execute_result"
    }
   ],
   "source": [
    "poly10200['above'][0]"
   ]
  },
  {
   "cell_type": "markdown",
   "metadata": {},
   "source": [
    "## GRV 10300"
   ]
  },
  {
   "cell_type": "code",
   "execution_count": 25,
   "metadata": {},
   "outputs": [
    {
     "name": "stdout",
     "output_type": "stream",
     "text": [
      "Area (km^2) below the fault lines: 2.889045106500258\n",
      "Area (km^2) above the fault lines: 1.3752893602055312\n"
     ]
    }
   ],
   "source": [
    "i10300.insert(1, (11944.4, 8983.58))\n",
    "poly10300 = getGRV(subset10300, i10300)\n",
    "\n",
    "print(\"Area (km^2) below the fault lines: {}\".format(poly10300['below'][1]/(3.28084**2)/(10**6)))\n",
    "print(\"Area (km^2) above the fault lines: {}\".format(poly10300['above'][1]/(3.28084**2)/(10**6)))"
   ]
  },
  {
   "cell_type": "code",
   "execution_count": 31,
   "metadata": {},
   "outputs": [
    {
     "data": {
      "image/svg+xml": [
       "<svg xmlns=\"http://www.w3.org/2000/svg\" xmlns:xlink=\"http://www.w3.org/1999/xlink\" width=\"300\" height=\"300\" viewBox=\"6995.318370724422 5652.230215384616 8997.945782823 9299.064184615389\" preserveAspectRatio=\"xMinYMin meet\"><g transform=\"matrix(1,0,0,-1,0,20603.52461538462)\"><path fill-rule=\"evenodd\" fill=\"#66cc99\" stroke=\"#555555\" stroke-width=\"61.99376123076926\" opacity=\"0.6\" d=\"M 15597.5,6311.5 L 11944.4,8983.58 L 7509.05,5996.64 L 7339.728155339806,6000.48076923077 L 7339.728155339806,6514.807692307693 L 7685.941747572815,7166.288461538462 L 8136.019417475727,8194.94230769231 L 8412.990291262136,8846.423076923078 L 8655.339805825242,9292.173076923078 L 9105.417475728154,10012.23076923077 L 9278.524271844659,10149.384615384615 L 9555.495145631066,10560.846153846154 L 10109.436893203885,11246.615384615388 L 10282.543689320388,11658.076923076924 L 10317.16504854369,11898.096153846154 L 10836.485436893205,12618.153846153848 L 11182.699029126212,13132.480769230771 L 11251.941747572815,13406.788461538465 L 11598.155339805826,13578.230769230771 L 12255.961165048542,13955.403846153848 L 12567.553398058251,14264.000000000002 L 12740.660194174756,14504.019230769234 L 13813.922330097084,14606.884615384619 L 14229.378640776698,14195.423076923078 L 14056.271844660192,13406.788461538465 L 14229.378640776698,12755.307692307693 L 14194.757281553397,12069.538461538465 L 14160.135922330095,11589.500000000002 L 14264.0,10869.442307692309 L 14402.485436893201,10286.538461538465 L 14540.97087378641,9497.903846153846 L 14748.699029126214,8640.69230769231 L 14817.941747572815,8434.961538461539 L 15129.533980582522,7989.211538461539 L 15648.854368932038,6651.961538461538 L 15597.5,6311.5 z\" /></g></svg>"
      ],
      "text/plain": [
       "<shapely.geometry.polygon.Polygon at 0x7f47193998d0>"
      ]
     },
     "execution_count": 31,
     "metadata": {},
     "output_type": "execute_result"
    }
   ],
   "source": [
    "poly10300['below'][0]"
   ]
  },
  {
   "cell_type": "code",
   "execution_count": 32,
   "metadata": {},
   "outputs": [
    {
     "data": {
      "image/svg+xml": [
       "<svg xmlns=\"http://www.w3.org/2000/svg\" xmlns:xlink=\"http://www.w3.org/1999/xlink\" width=\"300\" height=\"300\" viewBox=\"7185.512000000001 4922.596615384617 8735.526 4384.521384615384\" preserveAspectRatio=\"xMinYMin meet\"><g transform=\"matrix(1,0,0,-1,0,14229.714615384617)\"><path fill-rule=\"evenodd\" fill=\"#66cc99\" stroke=\"#555555\" stroke-width=\"58.23684\" opacity=\"0.6\" d=\"M 15597.5,6311.5 L 11944.4,8983.58 L 7509.05,5996.64 L 7651.3203883495125,5726.173076923077 L 7997.533980582524,5691.884615384615 L 8586.097087378641,5760.461538461539 L 9243.902912621359,5863.326923076923 L 10109.436893203885,6069.0576923076915 L 11702.019417475727,5966.1923076923085 L 12429.067961165048,5726.173076923077 L 13156.11650485437,5486.153846153847 L 14056.271844660192,5246.134615384616 L 14748.699029126214,5383.288461538462 L 15302.640776699029,5623.3076923076915 L 15510.368932038835,5829.038461538461 L 15597.5,6311.5 z\" /></g></svg>"
      ],
      "text/plain": [
       "<shapely.geometry.polygon.Polygon at 0x7f47193990b8>"
      ]
     },
     "execution_count": 32,
     "metadata": {},
     "output_type": "execute_result"
    }
   ],
   "source": [
    "poly10300['above'][0]"
   ]
  },
  {
   "cell_type": "markdown",
   "metadata": {},
   "source": [
    "### GRV 10400"
   ]
  },
  {
   "cell_type": "code",
   "execution_count": 43,
   "metadata": {},
   "outputs": [
    {
     "name": "stdout",
     "output_type": "stream",
     "text": [
      "Area (km^2) below the fault lines: 3.7327184840198186\n",
      "Area (km^2) above the fault lines: 1.703153926232696\n"
     ]
    }
   ],
   "source": [
    "i10400.insert(1, (11944.4, 8983.58))\n",
    "poly10400 = getGRV(subset10400, i10400)\n",
    "\n",
    "print(\"Area (km^2) below the fault lines: {}\".format(poly10400['below'][1]/(3.28084**2)/(10**6)))\n",
    "print(\"Area (km^2) above the fault lines: {}\".format(poly10400['above'][1]/(3.28084**2)/(10**6)))"
   ]
  },
  {
   "cell_type": "code",
   "execution_count": 34,
   "metadata": {},
   "outputs": [
    {
     "data": {
      "image/svg+xml": [
       "<svg xmlns=\"http://www.w3.org/2000/svg\" xmlns:xlink=\"http://www.w3.org/1999/xlink\" width=\"300\" height=\"300\" viewBox=\"6689.220358476476 5374.963076923077 10025.598117998506 10085.496923076927\" preserveAspectRatio=\"xMinYMin meet\"><g transform=\"matrix(1,0,0,-1,0,20835.42307692308)\"><path fill-rule=\"evenodd\" fill=\"#66cc99\" stroke=\"#555555\" stroke-width=\"67.23664615384618\" opacity=\"0.6\" d=\"M 16255.4,5869.92 L 11944.4,8983.58 L 7233.19,5748.5 L 7062.757281553399,5863.326923076923 L 7062.757281553399,6343.365384615385 L 7339.728155339806,7029.134615384615 L 7547.456310679612,7440.596153846155 L 7720.563106796117,7817.769230769232 L 7962.9126213592235,8297.807692307693 L 8274.504854368932,8915.0 L 8551.475728155341,9429.326923076924 L 9001.553398058253,10183.673076923078 L 9451.631067961165,10732.288461538465 L 9797.844660194174,11178.038461538465 L 10074.815533980582,11692.365384615388 L 10213.300970873785,12103.826923076926 L 10594.135922330097,12755.307692307693 L 11078.834951456309,13338.21153846154 L 11182.699029126212,13646.807692307695 L 11425.04854368932,13783.96153846154 L 12255.961165048542,14332.576923076926 L 12844.52427184466,15018.346153846154 L 13294.60194174757,14915.480769230771 L 13744.679611650488,15086.923076923082 L 14437.106796116504,14435.44230769231 L 14748.699029126214,14229.71153846154 L 14921.80582524272,13715.384615384617 L 14887.184466019417,13372.500000000002 L 14714.077669902916,12583.865384615388 L 14887.184466019417,11726.653846153848 L 14887.184466019417,11383.769230769229 L 14783.320388349512,10869.442307692309 L 14852.563106796115,10286.538461538465 L 15094.912621359224,9635.057692307691 L 15302.640776699029,9189.307692307691 L 16064.31067961165,8229.23076923077 L 16341.281553398057,7783.48076923077 L 16272.038834951454,5897.615384615386 L 16255.4,5869.92 z\" /></g></svg>"
      ],
      "text/plain": [
       "<shapely.geometry.polygon.Polygon at 0x7f4719399080>"
      ]
     },
     "execution_count": 34,
     "metadata": {},
     "output_type": "execute_result"
    }
   ],
   "source": [
    "poly10400['below'][0]"
   ]
  },
  {
   "cell_type": "code",
   "execution_count": 35,
   "metadata": {},
   "outputs": [
    {
     "data": {
      "image/svg+xml": [
       "<svg xmlns=\"http://www.w3.org/2000/svg\" xmlns:xlink=\"http://www.w3.org/1999/xlink\" width=\"300\" height=\"300\" viewBox=\"6872.3016 4610.938523076923 9743.986800000002 4733.529876923077\" preserveAspectRatio=\"xMinYMin meet\"><g transform=\"matrix(1,0,0,-1,0,13955.406923076924)\"><path fill-rule=\"evenodd\" fill=\"#66cc99\" stroke=\"#555555\" stroke-width=\"64.95991200000002\" opacity=\"0.6\" d=\"M 16255.4,5869.92 L 11944.4,8983.58 L 7233.19,5748.5 L 7339.728155339806,5520.4423076923085 L 7720.563106796117,5383.288461538462 L 8136.019417475727,5383.288461538462 L 8586.097087378641,5451.865384615385 L 9382.388349514564,5554.73076923077 L 10213.300970873785,5623.3076923076915 L 10732.621359223302,5589.019230769231 L 10767.2427184466,5589.019230769231 L 11182.699029126212,5554.73076923077 L 11667.398058252424,5486.153846153847 L 12325.203883495144,5349.0 L 13156.11650485437,5177.557692307692 L 13848.543689320391,5040.403846153847 L 14506.349514563102,4971.826923076923 L 14817.941747572815,5006.115384615385 L 15787.339805825244,5383.288461538462 L 16064.31067961165,5417.576923076924 L 16202.796116504851,5554.73076923077 L 16255.4,5869.92 z\" /></g></svg>"
      ],
      "text/plain": [
       "<shapely.geometry.polygon.Polygon at 0x7f4719399470>"
      ]
     },
     "execution_count": 35,
     "metadata": {},
     "output_type": "execute_result"
    }
   ],
   "source": [
    "poly10400['above'][0]"
   ]
  },
  {
   "cell_type": "markdown",
   "metadata": {},
   "source": [
    "## GRV 10500"
   ]
  },
  {
   "cell_type": "code",
   "execution_count": 26,
   "metadata": {},
   "outputs": [
    {
     "name": "stdout",
     "output_type": "stream",
     "text": [
      "Area (km^2) below the fault lines: 4.592715040935261\n",
      "Area (km^2) above the fault lines: 2.0737242606406694\n"
     ]
    }
   ],
   "source": [
    "i10500.insert(1, (11944.4, 8983.58))\n",
    "poly10500 = getGRV(subset10500, i10500)\n",
    "\n",
    "print(\"Area (km^2) below the fault lines: {}\".format(poly10500['below'][1]/(3.28084**2)/(10**6)))\n",
    "print(\"Area (km^2) above the fault lines: {}\".format(poly10500['above'][1]/(3.28084**2)/(10**6)))"
   ]
  },
  {
   "cell_type": "code",
   "execution_count": 38,
   "metadata": {},
   "outputs": [
    {
     "data": {
      "image/svg+xml": [
       "<svg xmlns=\"http://www.w3.org/2000/svg\" xmlns:xlink=\"http://www.w3.org/1999/xlink\" width=\"300\" height=\"300\" viewBox=\"6375.8695145631045 5072.103106796117 11067.756116504863 10733.333017177003\" preserveAspectRatio=\"xMinYMin meet\"><g transform=\"matrix(1,0,0,-1,0,20877.539230769235)\"><path fill-rule=\"evenodd\" fill=\"#66cc99\" stroke=\"#555555\" stroke-width=\"73.78504077669909\" opacity=\"0.6\" d=\"M 16753.9,5482.02 L 11944.4,8983.58 L 11944.4,8983.58 L 7013.99,5597.44 L 6785.786407766988,5794.750000000001 L 6855.0291262135925,6309.076923076923 L 7097.378640776698,7063.423076923077 L 7305.106796116504,7440.596153846155 L 7512.834951456311,7920.634615384617 L 7685.941747572815,8332.096153846154 L 7893.669902912621,8674.98076923077 L 8101.398058252426,9052.153846153848 L 8343.747572815533,9566.480769230771 L 8759.203883495145,10217.96153846154 L 9243.902912621359,10732.288461538465 L 9520.873786407768,11280.903846153848 L 9936.33009708738,11863.807692307693 L 10074.815533980582,12378.134615384619 L 10386.40776699029,12823.884615384617 L 10732.621359223302,13132.480769230771 L 10974.970873786408,13646.807692307695 L 11563.533980582522,14126.846153846154 L 12013.611650485436,14401.153846153846 L 12325.203883495144,14949.76923076923 L 12740.660194174756,15155.500000000002 L 13606.19417475728,15395.519230769234 L 14298.621359223302,15121.21153846154 L 14714.077669902916,14949.76923076923 L 15129.533980582522,14195.423076923078 L 15302.640776699029,13441.076923076926 L 15371.883495145628,12378.134615384619 L 15475.747572815531,11349.480769230771 L 15406.504854368934,10766.576923076924 L 15718.097087378641,10012.23076923077 L 15856.582524271844,9806.500000000002 L 16098.932038834952,9703.634615384615 L 16756.73786407767,8709.269230769232 L 16964.46601941748,8126.365384615385 L 17033.708737864083,7406.3076923076915 L 16964.46601941748,7029.134615384615 L 16791.35922330097,6446.23076923077 L 16722.116504854366,5623.3076923076915 L 16753.9,5482.02 z\" /></g></svg>"
      ],
      "text/plain": [
       "<shapely.geometry.polygon.Polygon at 0x7f4719399630>"
      ]
     },
     "execution_count": 38,
     "metadata": {},
     "output_type": "execute_result"
    }
   ],
   "source": [
    "poly10500['below'][0]"
   ]
  },
  {
   "cell_type": "code",
   "execution_count": 39,
   "metadata": {},
   "outputs": [
    {
     "data": {
      "image/svg+xml": [
       "<svg xmlns=\"http://www.w3.org/2000/svg\" xmlns:xlink=\"http://www.w3.org/1999/xlink\" width=\"300\" height=\"300\" viewBox=\"6531.0867184466015 4235.757181478715 10615.998407766994 5141.007944734876\" preserveAspectRatio=\"xMinYMin meet\"><g transform=\"matrix(1,0,0,-1,0,13612.522307692307)\"><path fill-rule=\"evenodd\" fill=\"#66cc99\" stroke=\"#555555\" stroke-width=\"70.77332271844662\" opacity=\"0.6\" d=\"M 16753.9,5482.02 L 11944.4,8983.58 L 11944.4,8983.58 L 7013.99,5597.44 L 6924.271844660194,5520.4423076923085 L 7305.106796116504,5211.846153846154 L 7720.563106796117,5108.98076923077 L 8274.504854368932,5108.98076923077 L 9001.553398058253,5177.557692307692 L 9970.95145631068,5177.557692307692 L 11598.155339805826,5074.6923076923085 L 12463.689320388346,4903.25 L 13156.11650485437,4800.384615384615 L 13744.679611650488,4697.519230769231 L 14229.378640776698,4663.23076923077 L 15025.669902912625,4628.942307692308 L 15510.368932038835,4800.384615384615 L 16098.932038834952,4766.096153846154 L 16583.631067961163,4971.826923076923 L 16753.9,5482.02 z\" /></g></svg>"
      ],
      "text/plain": [
       "<shapely.geometry.polygon.Polygon at 0x7f4719399ac8>"
      ]
     },
     "execution_count": 39,
     "metadata": {},
     "output_type": "execute_result"
    }
   ],
   "source": [
    "poly10500['above'][0]"
   ]
  },
  {
   "cell_type": "markdown",
   "metadata": {},
   "source": [
    "## GRV 10600"
   ]
  },
  {
   "cell_type": "code",
   "execution_count": 29,
   "metadata": {},
   "outputs": [
    {
     "name": "stdout",
     "output_type": "stream",
     "text": [
      "Area (km^2) below the fault lines: 5.485470755614554\n",
      "Area (km^2) above the fault lines: 2.5266115058569385\n"
     ]
    }
   ],
   "source": [
    "i10600.insert(1, (11944.4, 8983.58))\n",
    "poly10600 = getGRV(subset10600, i10600)\n",
    "\n",
    "print(\"Area (km^2) below the fault lines: {}\".format(poly10600['below'][1]/(3.28084**2)/(10**6)))\n",
    "print(\"Area (km^2) above the fault lines: {}\".format(poly10600['above'][1]/(3.28084**2)/(10**6)))"
   ]
  },
  {
   "cell_type": "code",
   "execution_count": 41,
   "metadata": {},
   "outputs": [
    {
     "data": {
      "image/svg+xml": [
       "<svg xmlns=\"http://www.w3.org/2000/svg\" xmlns:xlink=\"http://www.w3.org/1999/xlink\" width=\"300\" height=\"300\" viewBox=\"6175.065631067961 4616.936019417476 11815.57747572816 11524.793345780436\" preserveAspectRatio=\"xMinYMin meet\"><g transform=\"matrix(1,0,0,-1,0,20758.66538461539)\"><path fill-rule=\"evenodd\" fill=\"#66cc99\" stroke=\"#555555\" stroke-width=\"78.7705165048544\" opacity=\"0.6\" d=\"M 17341.1,5054.55 L 11944.4,8983.58 L 6692.64,5407.78 L 6681.922330097086,5417.576923076924 L 6612.679611650485,5897.615384615386 L 6647.300970873785,6343.365384615385 L 6751.165048543689,6720.538461538462 L 6993.514563106797,7303.442307692307 L 7132.0,7577.750000000001 L 7408.970873786407,8126.365384615385 L 7720.563106796117,8777.846153846156 L 8170.64077669903,9600.769230769232 L 8516.854368932041,10217.96153846154 L 8863.067961165048,10560.846153846154 L 9140.038834951456,10938.019230769232 L 9347.766990291262,11349.480769230771 L 9797.844660194174,11898.096153846154 L 9970.95145631068,12618.153846153848 L 10074.815533980582,12961.038461538465 L 10317.16504854369,13063.90384615385 L 10490.271844660194,13201.057692307693 L 10628.7572815534,13612.51923076923 L 10871.106796116504,14023.980769230771 L 11390.427184466018,14435.44230769231 L 11978.990291262136,14744.038461538465 L 12290.582524271846,15258.365384615383 L 12429.067961165048,15395.519230769234 L 12567.553398058251,15326.942307692307 L 13502.330097087375,15704.115384615388 L 13813.922330097084,15704.115384615388 L 14437.106796116504,15635.538461538465 L 15025.669902912625,15395.519230769234 L 15129.533980582522,15121.21153846154 L 15337.262135922329,14675.46153846154 L 15475.747572815531,14264.000000000002 L 15683.475728155337,13681.096153846154 L 15821.961165048546,13235.346153846154 L 15925.825242718447,12412.423076923078 L 16064.31067961165,11555.21153846154 L 16168.174757281553,11075.173076923078 L 16272.038834951454,10698.0 L 16583.631067961163,10320.826923076924 L 17102.951456310682,9326.46153846154 L 17483.786407766987,8469.25 L 17553.029126213594,8023.5 L 17553.029126213594,7337.73076923077 L 17449.16504854369,6206.211538461539 L 17341.1,5054.55 z\" /></g></svg>"
      ],
      "text/plain": [
       "<shapely.geometry.polygon.Polygon at 0x7f4719399e48>"
      ]
     },
     "execution_count": 41,
     "metadata": {},
     "output_type": "execute_result"
    }
   ],
   "source": [
    "poly10600['below'][0]"
   ]
  },
  {
   "cell_type": "markdown",
   "metadata": {},
   "source": [
    "## GRV 10700"
   ]
  },
  {
   "cell_type": "code",
   "execution_count": 31,
   "metadata": {},
   "outputs": [
    {
     "name": "stdout",
     "output_type": "stream",
     "text": [
      "Area (km^2) below the fault lines: 6.3813426287773805\n",
      "Area (km^2) above the fault lines: 2.954437305159408\n"
     ]
    }
   ],
   "source": [
    "i10700.insert(1, (11944.4, 8983.58))\n",
    "poly10700 = getGRV(subset10700, i10700)\n",
    "\n",
    "print(\"Area (km^2) below the fault lines: {}\".format(poly10700['below'][1]/(3.28084**2)/(10**6)))\n",
    "print(\"Area (km^2) above the fault lines: {}\".format(poly10700['above'][1]/(3.28084**2)/(10**6)))"
   ]
  },
  {
   "cell_type": "code",
   "execution_count": 43,
   "metadata": {},
   "outputs": [
    {
     "data": {
      "image/svg+xml": [
       "<svg xmlns=\"http://www.w3.org/2000/svg\" xmlns:xlink=\"http://www.w3.org/1999/xlink\" width=\"300\" height=\"300\" viewBox=\"6175.065631067961 4616.936019417476 11815.57747572816 11524.793345780436\" preserveAspectRatio=\"xMinYMin meet\"><g transform=\"matrix(1,0,0,-1,0,20758.66538461539)\"><path fill-rule=\"evenodd\" fill=\"#66cc99\" stroke=\"#555555\" stroke-width=\"78.7705165048544\" opacity=\"0.6\" d=\"M 17341.1,5054.55 L 11944.4,8983.58 L 6692.64,5407.78 L 6681.922330097086,5417.576923076924 L 6612.679611650485,5897.615384615386 L 6647.300970873785,6343.365384615385 L 6751.165048543689,6720.538461538462 L 6993.514563106797,7303.442307692307 L 7132.0,7577.750000000001 L 7408.970873786407,8126.365384615385 L 7720.563106796117,8777.846153846156 L 8170.64077669903,9600.769230769232 L 8516.854368932041,10217.96153846154 L 8863.067961165048,10560.846153846154 L 9140.038834951456,10938.019230769232 L 9347.766990291262,11349.480769230771 L 9797.844660194174,11898.096153846154 L 9970.95145631068,12618.153846153848 L 10074.815533980582,12961.038461538465 L 10317.16504854369,13063.90384615385 L 10490.271844660194,13201.057692307693 L 10628.7572815534,13612.51923076923 L 10871.106796116504,14023.980769230771 L 11390.427184466018,14435.44230769231 L 11978.990291262136,14744.038461538465 L 12290.582524271846,15258.365384615383 L 12429.067961165048,15395.519230769234 L 12567.553398058251,15326.942307692307 L 13502.330097087375,15704.115384615388 L 13813.922330097084,15704.115384615388 L 14437.106796116504,15635.538461538465 L 15025.669902912625,15395.519230769234 L 15129.533980582522,15121.21153846154 L 15337.262135922329,14675.46153846154 L 15475.747572815531,14264.000000000002 L 15683.475728155337,13681.096153846154 L 15821.961165048546,13235.346153846154 L 15925.825242718447,12412.423076923078 L 16064.31067961165,11555.21153846154 L 16168.174757281553,11075.173076923078 L 16272.038834951454,10698.0 L 16583.631067961163,10320.826923076924 L 17102.951456310682,9326.46153846154 L 17483.786407766987,8469.25 L 17553.029126213594,8023.5 L 17553.029126213594,7337.73076923077 L 17449.16504854369,6206.211538461539 L 17341.1,5054.55 z\" /></g></svg>"
      ],
      "text/plain": [
       "<shapely.geometry.polygon.Polygon at 0x7f4719399e48>"
      ]
     },
     "execution_count": 43,
     "metadata": {},
     "output_type": "execute_result"
    }
   ],
   "source": [
    "poly10600['below'][0]"
   ]
  },
  {
   "cell_type": "markdown",
   "metadata": {},
   "source": [
    "## GRV 10800"
   ]
  },
  {
   "cell_type": "code",
   "execution_count": 30,
   "metadata": {},
   "outputs": [
    {
     "name": "stdout",
     "output_type": "stream",
     "text": [
      "Area (km^2) below the fault lines: 7.4710521583092255\n",
      "Area (km^2) above the fault lines: 3.4445284117815795\n"
     ]
    }
   ],
   "source": [
    "i10800.insert(1, (11944.4, 8983.58))\n",
    "poly10800 = getGRV(subset10800, i10800)\n",
    "\n",
    "print(\"Area (km^2) below the fault lines: {}\".format(poly10800['below'][1]/(3.28084**2)/(10**6)))\n",
    "print(\"Area (km^2) above the fault lines: {}\".format(poly10800['above'][1]/(3.28084**2)/(10**6)))"
   ]
  },
  {
   "cell_type": "code",
   "execution_count": 45,
   "metadata": {},
   "outputs": [
    {
     "data": {
      "image/svg+xml": [
       "<svg xmlns=\"http://www.w3.org/2000/svg\" xmlns:xlink=\"http://www.w3.org/1999/xlink\" width=\"300\" height=\"300\" viewBox=\"5620.383805825244 3471.803223300971 13705.112970873786 13562.832014936526\" preserveAspectRatio=\"xMinYMin meet\"><g transform=\"matrix(1,0,0,-1,0,20506.43846153847)\"><path fill-rule=\"evenodd\" fill=\"#66cc99\" stroke=\"#555555\" stroke-width=\"91.36741980582524\" opacity=\"0.6\" d=\"M 18817.9,3979.4 L 11944.4,8983.58 L 6230.68,5058.43 L 6127.980582524273,5246.134615384616 L 6162.6019417475745,5794.750000000001 L 6439.572815533979,6651.961538461538 L 6716.543689320388,7474.884615384617 L 6924.271844660194,7954.923076923076 L 7235.864077669904,8640.69230769231 L 7478.213592233012,9155.01923076923 L 7962.9126213592235,10046.519230769232 L 8239.88349514563,10492.269230769232 L 8586.097087378641,10938.019230769232 L 8966.932038834952,11418.057692307693 L 9278.524271844659,11829.51923076923 L 9555.495145631066,12481.000000000002 L 9624.737864077671,12892.46153846154 L 9659.359223300971,13132.480769230771 L 9901.708737864075,13441.076923076926 L 10213.300970873785,14092.557692307693 L 10455.650485436894,14675.46153846154 L 10594.135922330097,14984.057692307695 L 10732.621359223302,15121.21153846154 L 11113.456310679612,15292.65384615385 L 11528.912621359224,15326.942307692307 L 12463.689320388346,16184.15384615385 L 12913.766990291262,16458.46153846154 L 14783.320388349512,16527.03846153847 L 15752.71844660194,16424.173076923078 L 16064.31067961165,16184.15384615385 L 16272.038834951454,15601.250000000002 L 16722.116504854366,14435.44230769231 L 16860.601941747576,13989.692307692307 L 16791.35922330097,13441.076923076926 L 16825.980582524273,13166.76923076923 L 16895.223300970873,12343.846153846154 L 17033.708737864083,11452.346153846154 L 17276.05825242718,10766.576923076924 L 17587.65048543689,10286.538461538465 L 17864.621359223303,9772.21153846154 L 18245.45631067961,8949.288461538463 L 18383.94174757281,8057.788461538463 L 18487.805825242714,7337.73076923077 L 18695.53398058252,6446.23076923077 L 18695.53398058252,5486.153846153847 L 18764.776699029127,4526.076923076924 L 18799.398058252424,4286.057692307692 L 18817.9,3979.4 z\" /></g></svg>"
      ],
      "text/plain": [
       "<shapely.geometry.polygon.Polygon at 0x7f4719399588>"
      ]
     },
     "execution_count": 45,
     "metadata": {},
     "output_type": "execute_result"
    }
   ],
   "source": [
    "poly10800['below'][0]"
   ]
  },
  {
   "cell_type": "markdown",
   "metadata": {},
   "source": [
    "## GRV at OWC 1"
   ]
  },
  {
   "cell_type": "code",
   "execution_count": 32,
   "metadata": {},
   "outputs": [],
   "source": [
    "pOWC = getsegment_polygon(OWCsubset,[(0.687, 780.32), (-0.72, 17603.37)] )\n",
    "pOWC['below'].sort()"
   ]
  },
  {
   "cell_type": "code",
   "execution_count": 33,
   "metadata": {},
   "outputs": [],
   "source": [
    "iOWC.insert(1, (11944.4, 8983.58))\n",
    "pOWC['below'].insert(0,iOWC[0])\n",
    "pOWC['below'].insert(0,iOWC[1])\n",
    "pOWC['below'].insert(0,iOWC[2])"
   ]
  },
  {
   "cell_type": "code",
   "execution_count": 34,
   "metadata": {},
   "outputs": [],
   "source": [
    "polyOWC = geometry.Polygon(pOWC['below'])"
   ]
  },
  {
   "cell_type": "code",
   "execution_count": 35,
   "metadata": {},
   "outputs": [
    {
     "data": {
      "image/svg+xml": [
       "<svg xmlns=\"http://www.w3.org/2000/svg\" xmlns:xlink=\"http://www.w3.org/1999/xlink\" width=\"300\" height=\"300\" viewBox=\"5377.389514563107 2645.631112770725 15592.07533980583 14836.064697535474\" preserveAspectRatio=\"xMinYMin meet\"><g transform=\"matrix(1,0,0,-1,0,20127.326923076922)\"><path fill-rule=\"evenodd\" fill=\"#66cc99\" stroke=\"#555555\" stroke-width=\"103.94716893203886\" opacity=\"0.6\" d=\"M 19529.5,3461.27 L 11944.4,8983.58 L 5991.27,4893.96 L 5954.8737864077675,5383.288461538462 L 6162.6019417475745,6171.923076923077 L 6266.466019417476,6617.673076923077 L 6404.9514563106795,7063.423076923077 L 6612.679611650485,7577.750000000001 L 6924.271844660194,8297.807692307693 L 7062.757281553399,8572.115384615385 L 7201.242718446601,8812.134615384615 L 7270.485436893203,8915.0 L 7374.349514563108,9189.307692307691 L 7651.3203883495125,9669.346153846154 L 7962.9126213592235,10217.96153846154 L 8447.611650485438,10869.442307692309 L 8689.961165048542,11212.326923076924 L 8863.067961165048,11486.634615384617 L 9036.174757281551,11726.653846153848 L 9243.902912621359,12069.538461538465 L 9347.766990291262,12378.134615384619 L 9451.631067961165,12652.442307692307 L 9486.252427184469,12995.326923076926 L 9624.737864077671,13303.923076923078 L 9832.466019417476,13543.94230769231 L 9867.087378640776,13543.94230769231 L 10247.922330097086,14675.46153846154 L 10697.999999999998,15326.942307692307 L 11459.66990291262,15772.69230769231 L 11805.883495145632,16149.865384615388 L 12255.961165048542,16595.615384615383 L 13467.708737864077,16835.634615384617 L 14540.97087378641,16904.21153846154 L 15510.368932038835,16904.21153846154 L 16375.902912621359,16355.596153846158 L 16652.873786407763,15566.96153846154 L 16895.223300970873,14812.615384615388 L 17033.708737864083,13406.788461538465 L 17102.951456310682,12412.423076923078 L 17310.679611650485,11555.21153846154 L 17587.65048543689,10835.153846153848 L 18141.59223300971,9806.500000000002 L 18557.048543689318,8812.134615384615 L 18660.912621359224,7714.903846153847 L 18799.398058252424,6960.557692307693 L 19007.12621359223,6377.653846153847 L 19180.23300970874,5760.461538461539 L 19284.097087378635,5143.269230769231 L 19457.203883495145,4320.346153846153 L 20391.980582524277,3223.115384615385 L 19529.5,3461.27 z\" /></g></svg>"
      ],
      "text/plain": [
       "<shapely.geometry.polygon.Polygon at 0x7ff8f82cb2e8>"
      ]
     },
     "execution_count": 35,
     "metadata": {},
     "output_type": "execute_result"
    }
   ],
   "source": [
    "polyOWC"
   ]
  },
  {
   "cell_type": "code",
   "execution_count": 36,
   "metadata": {},
   "outputs": [
    {
     "data": {
      "text/plain": [
       "8.225857373685455"
      ]
     },
     "execution_count": 36,
     "metadata": {},
     "output_type": "execute_result"
    }
   ],
   "source": [
    "polyOWC.area/(3.28084**2)/(10**6)"
   ]
  },
  {
   "cell_type": "markdown",
   "metadata": {},
   "source": [
    "## GRV OWC2"
   ]
  },
  {
   "cell_type": "code",
   "execution_count": 37,
   "metadata": {},
   "outputs": [],
   "source": [
    "pOWC2 = getsegment_polygon(OWC2subset,[(0.687, 780.32), (-0.72, 17603.37)] )\n",
    "pOWC2['above'].sort()"
   ]
  },
  {
   "cell_type": "code",
   "execution_count": 38,
   "metadata": {},
   "outputs": [],
   "source": [
    "iOWC2.insert(1, (11944.4, 8983.58))\n",
    "pOWC2['above'].insert(0,iOWC2[0])\n",
    "pOWC2['above'].insert(0,iOWC2[1])\n",
    "pOWC2['above'].insert(0,iOWC2[2])"
   ]
  },
  {
   "cell_type": "code",
   "execution_count": 39,
   "metadata": {},
   "outputs": [],
   "source": [
    "polyOWC2 = geometry.Polygon(pOWC2['above'])"
   ]
  },
  {
   "cell_type": "code",
   "execution_count": 40,
   "metadata": {},
   "outputs": [
    {
     "data": {
      "image/svg+xml": [
       "<svg xmlns=\"http://www.w3.org/2000/svg\" xmlns:xlink=\"http://www.w3.org/1999/xlink\" width=\"300\" height=\"300\" viewBox=\"6460.030400000001 4014.981938461539 11022.1992 5376.827661538462\" preserveAspectRatio=\"xMinYMin meet\"><g transform=\"matrix(1,0,0,-1,0,13406.791538461539)\"><path fill-rule=\"evenodd\" fill=\"#66cc99\" stroke=\"#555555\" stroke-width=\"73.48132799999999\" opacity=\"0.6\" d=\"M 17074.0,5248.86 L 11944.4,8983.58 L 6868.26,5496.26 L 6993.514563106797,5211.846153846154 L 7616.699029126215,5006.115384615385 L 8620.71844660194,4971.826923076923 L 9278.524271844659,4971.826923076923 L 10178.679611650483,4971.826923076923 L 11148.077669902912,4903.25 L 12532.932038834952,4697.519230769231 L 13398.466019417476,4594.653846153847 L 14437.106796116504,4423.211538461539 L 15233.398058252424,4423.211538461539 L 15995.067961165048,4491.788461538461 L 16756.73786407767,4628.942307692308 L 16999.087378640776,5074.6923076923085 L 17074.0,5248.86 z\" /></g></svg>"
      ],
      "text/plain": [
       "<shapely.geometry.polygon.Polygon at 0x7ff8f795ea90>"
      ]
     },
     "execution_count": 40,
     "metadata": {},
     "output_type": "execute_result"
    }
   ],
   "source": [
    "polyOWC2"
   ]
  },
  {
   "cell_type": "code",
   "execution_count": 41,
   "metadata": {},
   "outputs": [
    {
     "data": {
      "text/plain": [
       "2.2810217526869403"
      ]
     },
     "execution_count": 41,
     "metadata": {},
     "output_type": "execute_result"
    }
   ],
   "source": [
    "polyOWC2.area/(3.28084**2)/(10**6)"
   ]
  },
  {
   "cell_type": "markdown",
   "metadata": {},
   "source": [
    "## Gross Rock Volume Calculation"
   ]
  },
  {
   "cell_type": "code",
   "execution_count": 66,
   "metadata": {},
   "outputs": [],
   "source": [
    "from sklearn.metrics import auc"
   ]
  },
  {
   "cell_type": "code",
   "execution_count": 70,
   "metadata": {},
   "outputs": [],
   "source": [
    "areasbelow = np.array([poly9800['below'][1], poly9900['below'][1], poly10000['below'][1],\n",
    "                      poly10100['below'][1], poly10200['below'][1], poly10300['below'][1],\n",
    "                      poly10400['below'][1], poly10500['below'][1], poly10600['below'][1],\n",
    "                      poly10700['below'][1], poly10800['below'][1], polyOWC.area])\n",
    "\n",
    "areasabove = np.array([poly9800['above'][1], poly9900['above'][1], poly10000['above'][1],\n",
    "                      poly10100['above'][1], poly10200['above'][1], poly10300['above'][1],\n",
    "                      poly10400['above'][1], poly10500['above'][1], polyOWC2.area])\n",
    "\n",
    "depthbelow = np.array([9800, 9900,10000, 10100, 10200, 10300, 10400, 10500, 10600, 10700, 10800,\n",
    "                      10830])\n",
    "\n",
    "depthabove = np.array([9800, 9900,10000,10100, 10200, 10300, 10400, 10500, 10562])"
   ]
  },
  {
   "cell_type": "code",
   "execution_count": 56,
   "metadata": {},
   "outputs": [
    {
     "data": {
      "text/plain": [
       "array([  442639.76447349,  4089098.20206983, 11635363.40850282,\n",
       "       18119276.0725918 , 24659156.05419067, 31097424.70643746,\n",
       "       40178649.94421932, 49435576.43397921, 59045119.58580353,\n",
       "       68688204.79053554, 80417741.29734153, 88542397.53769451])"
      ]
     },
     "execution_count": 56,
     "metadata": {},
     "output_type": "execute_result"
    }
   ],
   "source": [
    "areasbelow"
   ]
  },
  {
   "cell_type": "code",
   "execution_count": 59,
   "metadata": {},
   "outputs": [
    {
     "data": {
      "text/plain": [
       "array([  41133.60939369,  379991.54553239, 1081250.56086695,\n",
       "       1683787.32388161, 2291525.01542108, 2889820.17362532,\n",
       "       3733719.89011679, 4593947.1651534 , 5486942.38651384,\n",
       "       6383054.60235446, 7473056.47693495, 8228064.18991392])"
      ]
     },
     "execution_count": 59,
     "metadata": {},
     "output_type": "execute_result"
    }
   ],
   "source": [
    "areasbelow/(3.2804**2)"
   ]
  },
  {
   "cell_type": "code",
   "execution_count": 81,
   "metadata": {},
   "outputs": [],
   "source": [
    "import sklearn"
   ]
  },
  {
   "cell_type": "code",
   "execution_count": 82,
   "metadata": {},
   "outputs": [
    {
     "name": "stdout",
     "output_type": "stream",
     "text": [
      "The area in South block is 37.27220805544931\n"
     ]
    },
    {
     "data": {
      "image/png": "[encoded data removed]",
      "text/plain": [
       "<Figure size 432x288 with 1 Axes>"
      ]
     },
     "metadata": {
      "needs_background": "light"
     },
     "output_type": "display_data"
    }
   ],
   "source": [
    "%matplotlib inline\n",
    "plt.scatter(depthbelow, areasbelow, c = 'm')\n",
    "plt.plot(depthbelow, areasbelow, c = 'k')\n",
    "plt.gca().invert_yaxis()\n",
    "plt.gca().set_xlabel(\"Countour Areas (ft^2)\")\n",
    "plt.gca().set_ylabel(\"Countour Areas (ft^2)\")\n",
    "plt.gca().set_xlabel(\"Contour TVDSS (ft)\")\n",
    "plt.gca().grid(True)\n",
    "\n",
    "plt.gca().set_title(\"South Flank Contour Areas vs TVDSS\")\n",
    "print(\"The area in South block is {}\".format(sklearn.metrics.auc(depthbelow, areasbelow)/10**9))"
   ]
  },
  {
   "cell_type": "code",
   "execution_count": 74,
   "metadata": {},
   "outputs": [
    {
     "data": {
      "image/png": "[encoded data removed]",
      "text/plain": [
       "<Figure size 432x288 with 1 Axes>"
      ]
     },
     "metadata": {
      "needs_background": "light"
     },
     "output_type": "display_data"
    }
   ],
   "source": [
    "%matplotlib inline\n",
    "plt.scatter(depthabove, areasabove)\n",
    "plt.gca().invert_yaxis()"
   ]
  },
  {
   "cell_type": "code",
   "execution_count": 75,
   "metadata": {},
   "outputs": [
    {
     "name": "stdout",
     "output_type": "stream",
     "text": [
      "The area is in South block37.27220805544931\n",
      "The area is in North block8.512844183310916\n"
     ]
    }
   ],
   "source": [
    "print(\"The area is in South block{}\".format(auc(depthbelow, areasbelow)/10**9))\n",
    "print(\"The area is in North block{}\".format(auc(depthabove, areasabove)/10**9))"
   ]
  }
 ],
 "metadata": {
  "kernelspec": {
   "display_name": "Stdlog",
   "language": "python",
   "name": "stdlog"
  },
  "language_info": {
   "codemirror_mode": {
    "name": "ipython",
    "version": 3
   },
   "file_extension": ".py",
   "mimetype": "text/x-python",
   "name": "python",
   "nbconvert_exporter": "python",
   "pygments_lexer": "ipython3",
   "version": "3.6.8"
  }
 },
 "nbformat": 4,
 "nbformat_minor": 2
}
