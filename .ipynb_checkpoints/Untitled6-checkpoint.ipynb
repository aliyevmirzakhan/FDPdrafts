{
 "cells": [
  {
   "cell_type": "code",
   "execution_count": 1,
   "metadata": {},
   "outputs": [],
   "source": [
    "import numpy as np\n",
    "import pandas as pd"
   ]
  },
  {
   "cell_type": "code",
   "execution_count": 12,
   "metadata": {},
   "outputs": [],
   "source": [
    "well1 = pd.read_csv('Out/Well1-PorSw.csv', index_col = 0)\n",
    "well2 = pd.read_csv('Out/Well2-PorSw.csv', index_col = 0)\n",
    "well3 = pd.read_csv('Out/Well3-PorSw.csv', index_col = 0)\n",
    "well4 = pd.read_csv('Out/Well4-PorSw.csv', index_col = 0)\n",
    "well5 = pd.read_csv('Out/Well5-PorSw.csv', index_col = 0)\n",
    "well6 = pd.read_csv('Out/Well6-PorSw.csv', index_col = 0)"
   ]
  },
  {
   "cell_type": "code",
   "execution_count": 52,
   "metadata": {},
   "outputs": [],
   "source": [
    "well1_w_shaleCut = well1[well1['Vshale'] < 0.32]\n",
    "well2_w_shaleCut = well2[well2['Vshale'] < 0.32]\n",
    "well3_w_shaleCut = well3[well3['Vshale'] < 0.32]\n",
    "well4_w_shaleCut = well4[well4['Vshale'] < 0.32]\n",
    "well5_w_shaleCut = well5[well5['Vshale'] < 0.32]\n",
    "well6_w_shaleCut = well6[well6['Vshale'] < 0.32]"
   ]
  },
  {
   "cell_type": "code",
   "execution_count": 53,
   "metadata": {},
   "outputs": [],
   "source": [
    "Sw1 = np.array(well1_w_shaleCut['Sw'])\n",
    "Sw2 = np.array(well2_w_shaleCut['Sw'])\n",
    "Sw3 = np.array(well3_w_shaleCut['Sw'])\n",
    "Sw4 = np.array(well4_w_shaleCut['Sw'])\n",
    "Sw5 = np.array(well5_w_shaleCut['Sw'])\n",
    "Sw6 = np.array(well6_w_shaleCut['Sw'])"
   ]
  },
  {
   "cell_type": "code",
   "execution_count": 57,
   "metadata": {},
   "outputs": [],
   "source": [
    "Sw5 = Sw5[np.logical_not(np.isnan(Sw5))]\n",
    "Sw6 = Sw6[np.logical_not(np.isnan(Sw6))]"
   ]
  },
  {
   "cell_type": "code",
   "execution_count": 58,
   "metadata": {},
   "outputs": [],
   "source": [
    "Sw1_avg = np.average(Sw1)\n",
    "Sw2_avg = np.average(Sw2)\n",
    "Sw3_avg = np.average(Sw3)\n",
    "Sw4_avg = np.average(Sw4)\n",
    "Sw5_avg = np.average(Sw5)\n",
    "Sw6_avg = np.average(Sw6)"
   ]
  },
  {
   "cell_type": "code",
   "execution_count": 59,
   "metadata": {},
   "outputs": [
    {
     "data": {
      "text/plain": [
       "0.30891269993320997"
      ]
     },
     "execution_count": 59,
     "metadata": {},
     "output_type": "execute_result"
    }
   ],
   "source": [
    "Sw_avg_block1 = (Sw1_avg + Sw2_avg + Sw3_avg + Sw4_avg)/4\n",
    "Sw_avg_block1"
   ]
  },
  {
   "cell_type": "code",
   "execution_count": 60,
   "metadata": {},
   "outputs": [
    {
     "data": {
      "text/plain": [
       "0.4101876284131277"
      ]
     },
     "execution_count": 60,
     "metadata": {},
     "output_type": "execute_result"
    }
   ],
   "source": [
    "Sw_avg_block2 = (Sw5_avg + Sw6_avg)/2\n",
    "Sw_avg_block2"
   ]
  },
  {
   "cell_type": "code",
   "execution_count": 63,
   "metadata": {},
   "outputs": [],
   "source": [
    "well1cut = well1_w_shaleCut[well1_w_shaleCut['Sw'] < 0.31]\n",
    "well2cut = well2_w_shaleCut[well2_w_shaleCut['Sw'] < 0.31]\n",
    "well3cut = well3_w_shaleCut[well3_w_shaleCut['Sw'] < 0.31]\n",
    "well4cut = well4_w_shaleCut[well4_w_shaleCut['Sw'] < 0.31]\n",
    "well5cut = well5_w_shaleCut[well5_w_shaleCut['Sw'] < 0.41]\n",
    "well6cut = well6_w_shaleCut[well6_w_shaleCut['Sw'] < 0.41]"
   ]
  },
  {
   "cell_type": "code",
   "execution_count": 64,
   "metadata": {},
   "outputs": [],
   "source": [
    "well1cut.to_csv('FinalResults/well1Final.csv')\n",
    "well2cut.to_csv('FinalResults/well2Final.csv')\n",
    "well3cut.to_csv('FinalResults/well3Final.csv')\n",
    "well4cut.to_csv('FinalResults/well4Final.csv')\n",
    "well5cut.to_csv('FinalResults/well5Final.csv')\n",
    "well6cut.to_csv('FinalResults/well6Final.csv')"
   ]
  }
 ],
 "metadata": {
  "kernelspec": {
   "display_name": "Stdlog",
   "language": "python",
   "name": "stdlog"
  },
  "language_info": {
   "codemirror_mode": {
    "name": "ipython",
    "version": 3
   },
   "file_extension": ".py",
   "mimetype": "text/x-python",
   "name": "python",
   "nbconvert_exporter": "python",
   "pygments_lexer": "ipython3",
   "version": "3.6.8"
  }
 },
 "nbformat": 4,
 "nbformat_minor": 4
}
