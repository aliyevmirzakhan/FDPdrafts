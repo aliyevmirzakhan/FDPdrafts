{
 "cells": [
  {
   "cell_type": "code",
   "execution_count": 1,
   "metadata": {},
   "outputs": [],
   "source": [
    "import numpy as np\n",
    "import pandas as pd\n",
    "import matplotlib.pyplot as plt\n",
    "import mplcursors\n",
    "from shapely import geometry\n",
    "from functools import partial\n",
    "import shapely.ops as ops\n",
    "import pyproj"
   ]
  },
  {
   "cell_type": "code",
   "execution_count": 2,
   "metadata": {},
   "outputs": [],
   "source": [
    "basedir = 'meta/contourMapData/'"
   ]
  },
  {
   "cell_type": "code",
   "execution_count": 3,
   "metadata": {},
   "outputs": [],
   "source": [
    "c9800 = pd.read_csv(basedir + \"9800.csv\", index_col=False)\n",
    "c9800_2 = pd.read_csv(basedir + \"9800_2.csv\")\n",
    "c9900 = pd.read_csv(basedir + \"9900.csv\")\n",
    "c10000 = pd.read_csv(basedir + \"10000.csv\")\n",
    "c10100 = pd.read_csv(basedir + \"10100.csv\")\n",
    "c10200 = pd.read_csv(basedir + \"10200.csv\")\n",
    "c10300 = pd.read_csv(basedir + \"10300.csv\")\n",
    "c10400 = pd.read_csv(basedir + \"10400.csv\")\n",
    "c10500 = pd.read_csv(basedir + \"10500.csv\")\n",
    "c10600 = pd.read_csv(basedir + \"10600.csv\")\n",
    "c10700 = pd.read_csv(basedir + \"10700.csv\")\n",
    "c10800 = pd.read_csv(basedir + \"10800.csv\")\n",
    "c10900 = pd.read_csv(basedir + \"10900.csv\")\n",
    "c11000 = pd.read_csv(basedir + \"11000.csv\")\n",
    "c11100 = pd.read_csv(basedir + \"11100.csv\")\n",
    "\n",
    "OWC = pd.read_csv(basedir + 'OWC.csv')\n",
    "OWC2 = pd.read_csv(basedir + 'OWC2.csv')\n",
    "\n",
    "boundary = pd.read_csv(basedir + \"Boundaries.csv\")"
   ]
  },
  {
   "cell_type": "code",
   "execution_count": 5,
   "metadata": {
    "scrolled": false
   },
   "outputs": [
    {
     "data": {
      "application/javascript": [
       "/* Put everything inside the global mpl namespace */\n",
       "window.mpl = {};\n",
       "\n",
       "\n",
       "mpl.get_websocket_type = function() {\n",
       "    if (typeof(WebSocket) !== 'undefined') {\n",
       "        return WebSocket;\n",
       "    } else if (typeof(MozWebSocket) !== 'undefined') {\n",
       "        return MozWebSocket;\n",
       "    } else {\n",
       "        alert('Your browser does not have WebSocket support. ' +\n",
       "              'Please try Chrome, Safari or Firefox ≥ 6. ' +\n",
       "              'Firefox 4 and 5 are also supported but you ' +\n",
       "              'have to enable WebSockets in about:config.');\n",
       "    };\n",
       "}\n",
       "\n",
       "mpl.figure = function(figure_id, websocket, ondownload, parent_element) {\n",
       "    this.id = figure_id;\n",
       "\n",
       "    this.ws = websocket;\n",
       "\n",
       "    this.supports_binary = (this.ws.binaryType != undefined);\n",
       "\n",
       "    if (!this.supports_binary) {\n",
       "        var warnings = document.getElementById(\"mpl-warnings\");\n",
       "        if (warnings) {\n",
       "            warnings.style.display = 'block';\n",
       "            warnings.textContent = (\n",
       "                \"This browser does not support binary websocket messages. \" +\n",
       "                    \"Performance may be slow.\");\n",
       "        }\n",
       "    }\n",
       "\n",
       "    this.imageObj = new Image();\n",
       "\n",
       "    this.context = undefined;\n",
       "    this.message = undefined;\n",
       "    this.canvas = undefined;\n",
       "    this.rubberband_canvas = undefined;\n",
       "    this.rubberband_context = undefined;\n",
       "    this.format_dropdown = undefined;\n",
       "\n",
       "    this.image_mode = 'full';\n",
       "\n",
       "    this.root = $('<div/>');\n",
       "    this._root_extra_style(this.root)\n",
       "    this.root.attr('style', 'display: inline-block');\n",
       "\n",
       "    $(parent_element).append(this.root);\n",
       "\n",
       "    this._init_header(this);\n",
       "    this._init_canvas(this);\n",
       "    this._init_toolbar(this);\n",
       "\n",
       "    var fig = this;\n",
       "\n",
       "    this.waiting = false;\n",
       "\n",
       "    this.ws.onopen =  function () {\n",
       "            fig.send_message(\"supports_binary\", {value: fig.supports_binary});\n",
       "            fig.send_message(\"send_image_mode\", {});\n",
       "            if (mpl.ratio != 1) {\n",
       "                fig.send_message(\"set_dpi_ratio\", {'dpi_ratio': mpl.ratio});\n",
       "            }\n",
       "            fig.send_message(\"refresh\", {});\n",
       "        }\n",
       "\n",
       "    this.imageObj.onload = function() {\n",
       "            if (fig.image_mode == 'full') {\n",
       "                // Full images could contain transparency (where diff images\n",
       "                // almost always do), so we need to clear the canvas so that\n",
       "                // there is no ghosting.\n",
       "                fig.context.clearRect(0, 0, fig.canvas.width, fig.canvas.height);\n",
       "            }\n",
       "            fig.context.drawImage(fig.imageObj, 0, 0);\n",
       "        };\n",
       "\n",
       "    this.imageObj.onunload = function() {\n",
       "        fig.ws.close();\n",
       "    }\n",
       "\n",
       "    this.ws.onmessage = this._make_on_message_function(this);\n",
       "\n",
       "    this.ondownload = ondownload;\n",
       "}\n",
       "\n",
       "mpl.figure.prototype._init_header = function() {\n",
       "    var titlebar = $(\n",
       "        '<div class=\"ui-dialog-titlebar ui-widget-header ui-corner-all ' +\n",
       "        'ui-helper-clearfix\"/>');\n",
       "    var titletext = $(\n",
       "        '<div class=\"ui-dialog-title\" style=\"width: 100%; ' +\n",
       "        'text-align: center; padding: 3px;\"/>');\n",
       "    titlebar.append(titletext)\n",
       "    this.root.append(titlebar);\n",
       "    this.header = titletext[0];\n",
       "}\n",
       "\n",
       "\n",
       "\n",
       "mpl.figure.prototype._canvas_extra_style = function(canvas_div) {\n",
       "\n",
       "}\n",
       "\n",
       "\n",
       "mpl.figure.prototype._root_extra_style = function(canvas_div) {\n",
       "\n",
       "}\n",
       "\n",
       "mpl.figure.prototype._init_canvas = function() {\n",
       "    var fig = this;\n",
       "\n",
       "    var canvas_div = $('<div/>');\n",
       "\n",
       "    canvas_div.attr('style', 'position: relative; clear: both; outline: 0');\n",
       "\n",
       "    function canvas_keyboard_event(event) {\n",
       "        return fig.key_event(event, event['data']);\n",
       "    }\n",
       "\n",
       "    canvas_div.keydown('key_press', canvas_keyboard_event);\n",
       "    canvas_div.keyup('key_release', canvas_keyboard_event);\n",
       "    this.canvas_div = canvas_div\n",
       "    this._canvas_extra_style(canvas_div)\n",
       "    this.root.append(canvas_div);\n",
       "\n",
       "    var canvas = $('<canvas/>');\n",
       "    canvas.addClass('mpl-canvas');\n",
       "    canvas.attr('style', \"left: 0; top: 0; z-index: 0; outline: 0\")\n",
       "\n",
       "    this.canvas = canvas[0];\n",
       "    this.context = canvas[0].getContext(\"2d\");\n",
       "\n",
       "    var backingStore = this.context.backingStorePixelRatio ||\n",
       "\tthis.context.webkitBackingStorePixelRatio ||\n",
       "\tthis.context.mozBackingStorePixelRatio ||\n",
       "\tthis.context.msBackingStorePixelRatio ||\n",
       "\tthis.context.oBackingStorePixelRatio ||\n",
       "\tthis.context.backingStorePixelRatio || 1;\n",
       "\n",
       "    mpl.ratio = (window.devicePixelRatio || 1) / backingStore;\n",
       "\n",
       "    var rubberband = $('<canvas/>');\n",
       "    rubberband.attr('style', \"position: absolute; left: 0; top: 0; z-index: 1;\")\n",
       "\n",
       "    var pass_mouse_events = true;\n",
       "\n",
       "    canvas_div.resizable({\n",
       "        start: function(event, ui) {\n",
       "            pass_mouse_events = false;\n",
       "        },\n",
       "        resize: function(event, ui) {\n",
       "            fig.request_resize(ui.size.width, ui.size.height);\n",
       "        },\n",
       "        stop: function(event, ui) {\n",
       "            pass_mouse_events = true;\n",
       "            fig.request_resize(ui.size.width, ui.size.height);\n",
       "        },\n",
       "    });\n",
       "\n",
       "    function mouse_event_fn(event) {\n",
       "        if (pass_mouse_events)\n",
       "            return fig.mouse_event(event, event['data']);\n",
       "    }\n",
       "\n",
       "    rubberband.mousedown('button_press', mouse_event_fn);\n",
       "    rubberband.mouseup('button_release', mouse_event_fn);\n",
       "    // Throttle sequential mouse events to 1 every 20ms.\n",
       "    rubberband.mousemove('motion_notify', mouse_event_fn);\n",
       "\n",
       "    rubberband.mouseenter('figure_enter', mouse_event_fn);\n",
       "    rubberband.mouseleave('figure_leave', mouse_event_fn);\n",
       "\n",
       "    canvas_div.on(\"wheel\", function (event) {\n",
       "        event = event.originalEvent;\n",
       "        event['data'] = 'scroll'\n",
       "        if (event.deltaY < 0) {\n",
       "            event.step = 1;\n",
       "        } else {\n",
       "            event.step = -1;\n",
       "        }\n",
       "        mouse_event_fn(event);\n",
       "    });\n",
       "\n",
       "    canvas_div.append(canvas);\n",
       "    canvas_div.append(rubberband);\n",
       "\n",
       "    this.rubberband = rubberband;\n",
       "    this.rubberband_canvas = rubberband[0];\n",
       "    this.rubberband_context = rubberband[0].getContext(\"2d\");\n",
       "    this.rubberband_context.strokeStyle = \"#000000\";\n",
       "\n",
       "    this._resize_canvas = function(width, height) {\n",
       "        // Keep the size of the canvas, canvas container, and rubber band\n",
       "        // canvas in synch.\n",
       "        canvas_div.css('width', width)\n",
       "        canvas_div.css('height', height)\n",
       "\n",
       "        canvas.attr('width', width * mpl.ratio);\n",
       "        canvas.attr('height', height * mpl.ratio);\n",
       "        canvas.attr('style', 'width: ' + width + 'px; height: ' + height + 'px;');\n",
       "\n",
       "        rubberband.attr('width', width);\n",
       "        rubberband.attr('height', height);\n",
       "    }\n",
       "\n",
       "    // Set the figure to an initial 600x600px, this will subsequently be updated\n",
       "    // upon first draw.\n",
       "    this._resize_canvas(600, 600);\n",
       "\n",
       "    // Disable right mouse context menu.\n",
       "    $(this.rubberband_canvas).bind(\"contextmenu\",function(e){\n",
       "        return false;\n",
       "    });\n",
       "\n",
       "    function set_focus () {\n",
       "        canvas.focus();\n",
       "        canvas_div.focus();\n",
       "    }\n",
       "\n",
       "    window.setTimeout(set_focus, 100);\n",
       "}\n",
       "\n",
       "mpl.figure.prototype._init_toolbar = function() {\n",
       "    var fig = this;\n",
       "\n",
       "    var nav_element = $('<div/>');\n",
       "    nav_element.attr('style', 'width: 100%');\n",
       "    this.root.append(nav_element);\n",
       "\n",
       "    // Define a callback function for later on.\n",
       "    function toolbar_event(event) {\n",
       "        return fig.toolbar_button_onclick(event['data']);\n",
       "    }\n",
       "    function toolbar_mouse_event(event) {\n",
       "        return fig.toolbar_button_onmouseover(event['data']);\n",
       "    }\n",
       "\n",
       "    for(var toolbar_ind in mpl.toolbar_items) {\n",
       "        var name = mpl.toolbar_items[toolbar_ind][0];\n",
       "        var tooltip = mpl.toolbar_items[toolbar_ind][1];\n",
       "        var image = mpl.toolbar_items[toolbar_ind][2];\n",
       "        var method_name = mpl.toolbar_items[toolbar_ind][3];\n",
       "\n",
       "        if (!name) {\n",
       "            // put a spacer in here.\n",
       "            continue;\n",
       "        }\n",
       "        var button = $('<button/>');\n",
       "        button.addClass('ui-button ui-widget ui-state-default ui-corner-all ' +\n",
       "                        'ui-button-icon-only');\n",
       "        button.attr('role', 'button');\n",
       "        button.attr('aria-disabled', 'false');\n",
       "        button.click(method_name, toolbar_event);\n",
       "        button.mouseover(tooltip, toolbar_mouse_event);\n",
       "\n",
       "        var icon_img = $('<span/>');\n",
       "        icon_img.addClass('ui-button-icon-primary ui-icon');\n",
       "        icon_img.addClass(image);\n",
       "        icon_img.addClass('ui-corner-all');\n",
       "\n",
       "        var tooltip_span = $('<span/>');\n",
       "        tooltip_span.addClass('ui-button-text');\n",
       "        tooltip_span.html(tooltip);\n",
       "\n",
       "        button.append(icon_img);\n",
       "        button.append(tooltip_span);\n",
       "\n",
       "        nav_element.append(button);\n",
       "    }\n",
       "\n",
       "    var fmt_picker_span = $('<span/>');\n",
       "\n",
       "    var fmt_picker = $('<select/>');\n",
       "    fmt_picker.addClass('mpl-toolbar-option ui-widget ui-widget-content');\n",
       "    fmt_picker_span.append(fmt_picker);\n",
       "    nav_element.append(fmt_picker_span);\n",
       "    this.format_dropdown = fmt_picker[0];\n",
       "\n",
       "    for (var ind in mpl.extensions) {\n",
       "        var fmt = mpl.extensions[ind];\n",
       "        var option = $(\n",
       "            '<option/>', {selected: fmt === mpl.default_extension}).html(fmt);\n",
       "        fmt_picker.append(option);\n",
       "    }\n",
       "\n",
       "    // Add hover states to the ui-buttons\n",
       "    $( \".ui-button\" ).hover(\n",
       "        function() { $(this).addClass(\"ui-state-hover\");},\n",
       "        function() { $(this).removeClass(\"ui-state-hover\");}\n",
       "    );\n",
       "\n",
       "    var status_bar = $('<span class=\"mpl-message\"/>');\n",
       "    nav_element.append(status_bar);\n",
       "    this.message = status_bar[0];\n",
       "}\n",
       "\n",
       "mpl.figure.prototype.request_resize = function(x_pixels, y_pixels) {\n",
       "    // Request matplotlib to resize the figure. Matplotlib will then trigger a resize in the client,\n",
       "    // which will in turn request a refresh of the image.\n",
       "    this.send_message('resize', {'width': x_pixels, 'height': y_pixels});\n",
       "}\n",
       "\n",
       "mpl.figure.prototype.send_message = function(type, properties) {\n",
       "    properties['type'] = type;\n",
       "    properties['figure_id'] = this.id;\n",
       "    this.ws.send(JSON.stringify(properties));\n",
       "}\n",
       "\n",
       "mpl.figure.prototype.send_draw_message = function() {\n",
       "    if (!this.waiting) {\n",
       "        this.waiting = true;\n",
       "        this.ws.send(JSON.stringify({type: \"draw\", figure_id: this.id}));\n",
       "    }\n",
       "}\n",
       "\n",
       "\n",
       "mpl.figure.prototype.handle_save = function(fig, msg) {\n",
       "    var format_dropdown = fig.format_dropdown;\n",
       "    var format = format_dropdown.options[format_dropdown.selectedIndex].value;\n",
       "    fig.ondownload(fig, format);\n",
       "}\n",
       "\n",
       "\n",
       "mpl.figure.prototype.handle_resize = function(fig, msg) {\n",
       "    var size = msg['size'];\n",
       "    if (size[0] != fig.canvas.width || size[1] != fig.canvas.height) {\n",
       "        fig._resize_canvas(size[0], size[1]);\n",
       "        fig.send_message(\"refresh\", {});\n",
       "    };\n",
       "}\n",
       "\n",
       "mpl.figure.prototype.handle_rubberband = function(fig, msg) {\n",
       "    var x0 = msg['x0'] / mpl.ratio;\n",
       "    var y0 = (fig.canvas.height - msg['y0']) / mpl.ratio;\n",
       "    var x1 = msg['x1'] / mpl.ratio;\n",
       "    var y1 = (fig.canvas.height - msg['y1']) / mpl.ratio;\n",
       "    x0 = Math.floor(x0) + 0.5;\n",
       "    y0 = Math.floor(y0) + 0.5;\n",
       "    x1 = Math.floor(x1) + 0.5;\n",
       "    y1 = Math.floor(y1) + 0.5;\n",
       "    var min_x = Math.min(x0, x1);\n",
       "    var min_y = Math.min(y0, y1);\n",
       "    var width = Math.abs(x1 - x0);\n",
       "    var height = Math.abs(y1 - y0);\n",
       "\n",
       "    fig.rubberband_context.clearRect(\n",
       "        0, 0, fig.canvas.width / mpl.ratio, fig.canvas.height / mpl.ratio);\n",
       "\n",
       "    fig.rubberband_context.strokeRect(min_x, min_y, width, height);\n",
       "}\n",
       "\n",
       "mpl.figure.prototype.handle_figure_label = function(fig, msg) {\n",
       "    // Updates the figure title.\n",
       "    fig.header.textContent = msg['label'];\n",
       "}\n",
       "\n",
       "mpl.figure.prototype.handle_cursor = function(fig, msg) {\n",
       "    var cursor = msg['cursor'];\n",
       "    switch(cursor)\n",
       "    {\n",
       "    case 0:\n",
       "        cursor = 'pointer';\n",
       "        break;\n",
       "    case 1:\n",
       "        cursor = 'default';\n",
       "        break;\n",
       "    case 2:\n",
       "        cursor = 'crosshair';\n",
       "        break;\n",
       "    case 3:\n",
       "        cursor = 'move';\n",
       "        break;\n",
       "    }\n",
       "    fig.rubberband_canvas.style.cursor = cursor;\n",
       "}\n",
       "\n",
       "mpl.figure.prototype.handle_message = function(fig, msg) {\n",
       "    fig.message.textContent = msg['message'];\n",
       "}\n",
       "\n",
       "mpl.figure.prototype.handle_draw = function(fig, msg) {\n",
       "    // Request the server to send over a new figure.\n",
       "    fig.send_draw_message();\n",
       "}\n",
       "\n",
       "mpl.figure.prototype.handle_image_mode = function(fig, msg) {\n",
       "    fig.image_mode = msg['mode'];\n",
       "}\n",
       "\n",
       "mpl.figure.prototype.updated_canvas_event = function() {\n",
       "    // Called whenever the canvas gets updated.\n",
       "    this.send_message(\"ack\", {});\n",
       "}\n",
       "\n",
       "// A function to construct a web socket function for onmessage handling.\n",
       "// Called in the figure constructor.\n",
       "mpl.figure.prototype._make_on_message_function = function(fig) {\n",
       "    return function socket_on_message(evt) {\n",
       "        if (evt.data instanceof Blob) {\n",
       "            /* FIXME: We get \"Resource interpreted as Image but\n",
       "             * transferred with MIME type text/plain:\" errors on\n",
       "             * Chrome.  But how to set the MIME type?  It doesn't seem\n",
       "             * to be part of the websocket stream */\n",
       "            evt.data.type = \"image/png\";\n",
       "\n",
       "            /* Free the memory for the previous frames */\n",
       "            if (fig.imageObj.src) {\n",
       "                (window.URL || window.webkitURL).revokeObjectURL(\n",
       "                    fig.imageObj.src);\n",
       "            }\n",
       "\n",
       "            fig.imageObj.src = (window.URL || window.webkitURL).createObjectURL(\n",
       "                evt.data);\n",
       "            fig.updated_canvas_event();\n",
       "            fig.waiting = false;\n",
       "            return;\n",
       "        }\n",
       "        else if (typeof evt.data === 'string' && evt.data.slice(0, 21) == \"data:image/png;base64\") {\n",
       "            fig.imageObj.src = evt.data;\n",
       "            fig.updated_canvas_event();\n",
       "            fig.waiting = false;\n",
       "            return;\n",
       "        }\n",
       "\n",
       "        var msg = JSON.parse(evt.data);\n",
       "        var msg_type = msg['type'];\n",
       "\n",
       "        // Call the  \"handle_{type}\" callback, which takes\n",
       "        // the figure and JSON message as its only arguments.\n",
       "        try {\n",
       "            var callback = fig[\"handle_\" + msg_type];\n",
       "        } catch (e) {\n",
       "            console.log(\"No handler for the '\" + msg_type + \"' message type: \", msg);\n",
       "            return;\n",
       "        }\n",
       "\n",
       "        if (callback) {\n",
       "            try {\n",
       "                // console.log(\"Handling '\" + msg_type + \"' message: \", msg);\n",
       "                callback(fig, msg);\n",
       "            } catch (e) {\n",
       "                console.log(\"Exception inside the 'handler_\" + msg_type + \"' callback:\", e, e.stack, msg);\n",
       "            }\n",
       "        }\n",
       "    };\n",
       "}\n",
       "\n",
       "// from http://stackoverflow.com/questions/1114465/getting-mouse-location-in-canvas\n",
       "mpl.findpos = function(e) {\n",
       "    //this section is from http://www.quirksmode.org/js/events_properties.html\n",
       "    var targ;\n",
       "    if (!e)\n",
       "        e = window.event;\n",
       "    if (e.target)\n",
       "        targ = e.target;\n",
       "    else if (e.srcElement)\n",
       "        targ = e.srcElement;\n",
       "    if (targ.nodeType == 3) // defeat Safari bug\n",
       "        targ = targ.parentNode;\n",
       "\n",
       "    // jQuery normalizes the pageX and pageY\n",
       "    // pageX,Y are the mouse positions relative to the document\n",
       "    // offset() returns the position of the element relative to the document\n",
       "    var x = e.pageX - $(targ).offset().left;\n",
       "    var y = e.pageY - $(targ).offset().top;\n",
       "\n",
       "    return {\"x\": x, \"y\": y};\n",
       "};\n",
       "\n",
       "/*\n",
       " * return a copy of an object with only non-object keys\n",
       " * we need this to avoid circular references\n",
       " * http://stackoverflow.com/a/24161582/3208463\n",
       " */\n",
       "function simpleKeys (original) {\n",
       "  return Object.keys(original).reduce(function (obj, key) {\n",
       "    if (typeof original[key] !== 'object')\n",
       "        obj[key] = original[key]\n",
       "    return obj;\n",
       "  }, {});\n",
       "}\n",
       "\n",
       "mpl.figure.prototype.mouse_event = function(event, name) {\n",
       "    var canvas_pos = mpl.findpos(event)\n",
       "\n",
       "    if (name === 'button_press')\n",
       "    {\n",
       "        this.canvas.focus();\n",
       "        this.canvas_div.focus();\n",
       "    }\n",
       "\n",
       "    var x = canvas_pos.x * mpl.ratio;\n",
       "    var y = canvas_pos.y * mpl.ratio;\n",
       "\n",
       "    this.send_message(name, {x: x, y: y, button: event.button,\n",
       "                             step: event.step,\n",
       "                             guiEvent: simpleKeys(event)});\n",
       "\n",
       "    /* This prevents the web browser from automatically changing to\n",
       "     * the text insertion cursor when the button is pressed.  We want\n",
       "     * to control all of the cursor setting manually through the\n",
       "     * 'cursor' event from matplotlib */\n",
       "    event.preventDefault();\n",
       "    return false;\n",
       "}\n",
       "\n",
       "mpl.figure.prototype._key_event_extra = function(event, name) {\n",
       "    // Handle any extra behaviour associated with a key event\n",
       "}\n",
       "\n",
       "mpl.figure.prototype.key_event = function(event, name) {\n",
       "\n",
       "    // Prevent repeat events\n",
       "    if (name == 'key_press')\n",
       "    {\n",
       "        if (event.which === this._key)\n",
       "            return;\n",
       "        else\n",
       "            this._key = event.which;\n",
       "    }\n",
       "    if (name == 'key_release')\n",
       "        this._key = null;\n",
       "\n",
       "    var value = '';\n",
       "    if (event.ctrlKey && event.which != 17)\n",
       "        value += \"ctrl+\";\n",
       "    if (event.altKey && event.which != 18)\n",
       "        value += \"alt+\";\n",
       "    if (event.shiftKey && event.which != 16)\n",
       "        value += \"shift+\";\n",
       "\n",
       "    value += 'k';\n",
       "    value += event.which.toString();\n",
       "\n",
       "    this._key_event_extra(event, name);\n",
       "\n",
       "    this.send_message(name, {key: value,\n",
       "                             guiEvent: simpleKeys(event)});\n",
       "    return false;\n",
       "}\n",
       "\n",
       "mpl.figure.prototype.toolbar_button_onclick = function(name) {\n",
       "    if (name == 'download') {\n",
       "        this.handle_save(this, null);\n",
       "    } else {\n",
       "        this.send_message(\"toolbar_button\", {name: name});\n",
       "    }\n",
       "};\n",
       "\n",
       "mpl.figure.prototype.toolbar_button_onmouseover = function(tooltip) {\n",
       "    this.message.textContent = tooltip;\n",
       "};\n",
       "mpl.toolbar_items = [[\"Home\", \"Reset original view\", \"fa fa-home icon-home\", \"home\"], [\"Back\", \"Back to previous view\", \"fa fa-arrow-left icon-arrow-left\", \"back\"], [\"Forward\", \"Forward to next view\", \"fa fa-arrow-right icon-arrow-right\", \"forward\"], [\"\", \"\", \"\", \"\"], [\"Pan\", \"Pan axes with left mouse, zoom with right\", \"fa fa-arrows icon-move\", \"pan\"], [\"Zoom\", \"Zoom to rectangle\", \"fa fa-square-o icon-check-empty\", \"zoom\"], [\"\", \"\", \"\", \"\"], [\"Download\", \"Download plot\", \"fa fa-floppy-o icon-save\", \"download\"]];\n",
       "\n",
       "mpl.extensions = [\"eps\", \"jpeg\", \"pdf\", \"png\", \"ps\", \"raw\", \"svg\", \"tif\"];\n",
       "\n",
       "mpl.default_extension = \"png\";var comm_websocket_adapter = function(comm) {\n",
       "    // Create a \"websocket\"-like object which calls the given IPython comm\n",
       "    // object with the appropriate methods. Currently this is a non binary\n",
       "    // socket, so there is still some room for performance tuning.\n",
       "    var ws = {};\n",
       "\n",
       "    ws.close = function() {\n",
       "        comm.close()\n",
       "    };\n",
       "    ws.send = function(m) {\n",
       "        //console.log('sending', m);\n",
       "        comm.send(m);\n",
       "    };\n",
       "    // Register the callback with on_msg.\n",
       "    comm.on_msg(function(msg) {\n",
       "        //console.log('receiving', msg['content']['data'], msg);\n",
       "        // Pass the mpl event to the overridden (by mpl) onmessage function.\n",
       "        ws.onmessage(msg['content']['data'])\n",
       "    });\n",
       "    return ws;\n",
       "}\n",
       "\n",
       "mpl.mpl_figure_comm = function(comm, msg) {\n",
       "    // This is the function which gets called when the mpl process\n",
       "    // starts-up an IPython Comm through the \"matplotlib\" channel.\n",
       "\n",
       "    var id = msg.content.data.id;\n",
       "    // Get hold of the div created by the display call when the Comm\n",
       "    // socket was opened in Python.\n",
       "    var element = $(\"#\" + id);\n",
       "    var ws_proxy = comm_websocket_adapter(comm)\n",
       "\n",
       "    function ondownload(figure, format) {\n",
       "        window.open(figure.imageObj.src);\n",
       "    }\n",
       "\n",
       "    var fig = new mpl.figure(id, ws_proxy,\n",
       "                           ondownload,\n",
       "                           element.get(0));\n",
       "\n",
       "    // Call onopen now - mpl needs it, as it is assuming we've passed it a real\n",
       "    // web socket which is closed, not our websocket->open comm proxy.\n",
       "    ws_proxy.onopen();\n",
       "\n",
       "    fig.parent_element = element.get(0);\n",
       "    fig.cell_info = mpl.find_output_cell(\"<div id='\" + id + \"'></div>\");\n",
       "    if (!fig.cell_info) {\n",
       "        console.error(\"Failed to find cell for figure\", id, fig);\n",
       "        return;\n",
       "    }\n",
       "\n",
       "    var output_index = fig.cell_info[2]\n",
       "    var cell = fig.cell_info[0];\n",
       "\n",
       "};\n",
       "\n",
       "mpl.figure.prototype.handle_close = function(fig, msg) {\n",
       "    var width = fig.canvas.width/mpl.ratio\n",
       "    fig.root.unbind('remove')\n",
       "\n",
       "    // Update the output cell to use the data from the current canvas.\n",
       "    fig.push_to_output();\n",
       "    var dataURL = fig.canvas.toDataURL();\n",
       "    // Re-enable the keyboard manager in IPython - without this line, in FF,\n",
       "    // the notebook keyboard shortcuts fail.\n",
       "    IPython.keyboard_manager.enable()\n",
       "    $(fig.parent_element).html('<img src=\"' + dataURL + '\" width=\"' + width + '\">');\n",
       "    fig.close_ws(fig, msg);\n",
       "}\n",
       "\n",
       "mpl.figure.prototype.close_ws = function(fig, msg){\n",
       "    fig.send_message('closing', msg);\n",
       "    // fig.ws.close()\n",
       "}\n",
       "\n",
       "mpl.figure.prototype.push_to_output = function(remove_interactive) {\n",
       "    // Turn the data on the canvas into data in the output cell.\n",
       "    var width = this.canvas.width/mpl.ratio\n",
       "    var dataURL = this.canvas.toDataURL();\n",
       "    this.cell_info[1]['text/html'] = '<img src=\"' + dataURL + '\" width=\"' + width + '\">';\n",
       "}\n",
       "\n",
       "mpl.figure.prototype.updated_canvas_event = function() {\n",
       "    // Tell IPython that the notebook contents must change.\n",
       "    IPython.notebook.set_dirty(true);\n",
       "    this.send_message(\"ack\", {});\n",
       "    var fig = this;\n",
       "    // Wait a second, then push the new image to the DOM so\n",
       "    // that it is saved nicely (might be nice to debounce this).\n",
       "    setTimeout(function () { fig.push_to_output() }, 1000);\n",
       "}\n",
       "\n",
       "mpl.figure.prototype._init_toolbar = function() {\n",
       "    var fig = this;\n",
       "\n",
       "    var nav_element = $('<div/>');\n",
       "    nav_element.attr('style', 'width: 100%');\n",
       "    this.root.append(nav_element);\n",
       "\n",
       "    // Define a callback function for later on.\n",
       "    function toolbar_event(event) {\n",
       "        return fig.toolbar_button_onclick(event['data']);\n",
       "    }\n",
       "    function toolbar_mouse_event(event) {\n",
       "        return fig.toolbar_button_onmouseover(event['data']);\n",
       "    }\n",
       "\n",
       "    for(var toolbar_ind in mpl.toolbar_items){\n",
       "        var name = mpl.toolbar_items[toolbar_ind][0];\n",
       "        var tooltip = mpl.toolbar_items[toolbar_ind][1];\n",
       "        var image = mpl.toolbar_items[toolbar_ind][2];\n",
       "        var method_name = mpl.toolbar_items[toolbar_ind][3];\n",
       "\n",
       "        if (!name) { continue; };\n",
       "\n",
       "        var button = $('<button class=\"btn btn-default\" href=\"#\" title=\"' + name + '\"><i class=\"fa ' + image + ' fa-lg\"></i></button>');\n",
       "        button.click(method_name, toolbar_event);\n",
       "        button.mouseover(tooltip, toolbar_mouse_event);\n",
       "        nav_element.append(button);\n",
       "    }\n",
       "\n",
       "    // Add the status bar.\n",
       "    var status_bar = $('<span class=\"mpl-message\" style=\"text-align:right; float: right;\"/>');\n",
       "    nav_element.append(status_bar);\n",
       "    this.message = status_bar[0];\n",
       "\n",
       "    // Add the close button to the window.\n",
       "    var buttongrp = $('<div class=\"btn-group inline pull-right\"></div>');\n",
       "    var button = $('<button class=\"btn btn-mini btn-primary\" href=\"#\" title=\"Stop Interaction\"><i class=\"fa fa-power-off icon-remove icon-large\"></i></button>');\n",
       "    button.click(function (evt) { fig.handle_close(fig, {}); } );\n",
       "    button.mouseover('Stop Interaction', toolbar_mouse_event);\n",
       "    buttongrp.append(button);\n",
       "    var titlebar = this.root.find($('.ui-dialog-titlebar'));\n",
       "    titlebar.prepend(buttongrp);\n",
       "}\n",
       "\n",
       "mpl.figure.prototype._root_extra_style = function(el){\n",
       "    var fig = this\n",
       "    el.on(\"remove\", function(){\n",
       "\tfig.close_ws(fig, {});\n",
       "    });\n",
       "}\n",
       "\n",
       "mpl.figure.prototype._canvas_extra_style = function(el){\n",
       "    // this is important to make the div 'focusable\n",
       "    el.attr('tabindex', 0)\n",
       "    // reach out to IPython and tell the keyboard manager to turn it's self\n",
       "    // off when our div gets focus\n",
       "\n",
       "    // location in version 3\n",
       "    if (IPython.notebook.keyboard_manager) {\n",
       "        IPython.notebook.keyboard_manager.register_events(el);\n",
       "    }\n",
       "    else {\n",
       "        // location in version 2\n",
       "        IPython.keyboard_manager.register_events(el);\n",
       "    }\n",
       "\n",
       "}\n",
       "\n",
       "mpl.figure.prototype._key_event_extra = function(event, name) {\n",
       "    var manager = IPython.notebook.keyboard_manager;\n",
       "    if (!manager)\n",
       "        manager = IPython.keyboard_manager;\n",
       "\n",
       "    // Check for shift+enter\n",
       "    if (event.shiftKey && event.which == 13) {\n",
       "        this.canvas_div.blur();\n",
       "        event.shiftKey = false;\n",
       "        // Send a \"J\" for go to next cell\n",
       "        event.which = 74;\n",
       "        event.keyCode = 74;\n",
       "        manager.command_mode();\n",
       "        manager.handle_keydown(event);\n",
       "    }\n",
       "}\n",
       "\n",
       "mpl.figure.prototype.handle_save = function(fig, msg) {\n",
       "    fig.ondownload(fig, null);\n",
       "}\n",
       "\n",
       "\n",
       "mpl.find_output_cell = function(html_output) {\n",
       "    // Return the cell and output element which can be found *uniquely* in the notebook.\n",
       "    // Note - this is a bit hacky, but it is done because the \"notebook_saving.Notebook\"\n",
       "    // IPython event is triggered only after the cells have been serialised, which for\n",
       "    // our purposes (turning an active figure into a static one), is too late.\n",
       "    var cells = IPython.notebook.get_cells();\n",
       "    var ncells = cells.length;\n",
       "    for (var i=0; i<ncells; i++) {\n",
       "        var cell = cells[i];\n",
       "        if (cell.cell_type === 'code'){\n",
       "            for (var j=0; j<cell.output_area.outputs.length; j++) {\n",
       "                var data = cell.output_area.outputs[j];\n",
       "                if (data.data) {\n",
       "                    // IPython >= 3 moved mimebundle to data attribute of output\n",
       "                    data = data.data;\n",
       "                }\n",
       "                if (data['text/html'] == html_output) {\n",
       "                    return [cell, data, j];\n",
       "                }\n",
       "            }\n",
       "        }\n",
       "    }\n",
       "}\n",
       "\n",
       "// Register the function which deals with the matplotlib target/channel.\n",
       "// The kernel may be null if the page has been refreshed.\n",
       "if (IPython.notebook.kernel != null) {\n",
       "    IPython.notebook.kernel.comm_manager.register_target('matplotlib', mpl.mpl_figure_comm);\n",
       "}\n"
      ],
      "text/plain": [
       "<IPython.core.display.Javascript object>"
      ]
     },
     "metadata": {},
     "output_type": "display_data"
    },
    {
     "data": {
      "text/html": [
       "<img src=\"data:image/png;base64,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\" width=\"1000\">"
      ],
      "text/plain": [
       "<IPython.core.display.HTML object>"
      ]
     },
     "metadata": {},
     "output_type": "display_data"
    },
    {
     "data": {
      "text/plain": [
       "<mplcursors._mplcursors.Cursor at 0x7fd6280e2c18>"
      ]
     },
     "execution_count": 5,
     "metadata": {},
     "output_type": "execute_result"
    }
   ],
   "source": [
    "%matplotlib notebook\n",
    "fig = plt.figure(figsize = (10,10))\n",
    "\n",
    "ax = fig.add_subplot(111)\n",
    "\n",
    "ax.plot(boundary['X'], boundary['Y'])\n",
    "\n",
    "ax.plot(c11100['X'], c11100['Y'], c = 'k')\n",
    "ax.annotate('11100', xy = (9842.52, 2296.588), size = 10)\n",
    "ax.plot(c11000['X'], c11000['Y'], c = 'k')\n",
    "ax.plot(c10900['X'], c10900['Y'], c = 'k')\n",
    "ax.annotate('10900', xy = (9992.52, 3480.84), size = 10)\n",
    "ax.plot(c10800['X'], c10800['Y'], c = 'k')\n",
    "ax.plot(c10700['X'], c10700['Y'], c = 'k')\n",
    "ax.annotate('10700', xy = (9980.52, 4365.092), size = 10)\n",
    "ax.plot(c10600['X'], c10600['Y'], c = 'k')\n",
    "ax.plot(c10500['X'], c10500['Y'], c = 'k')\n",
    "ax.annotate('10500', xy = (9980.52, 5249.344), size = 10)\n",
    "ax.plot(c10400['X'], c10400['Y'], c = 'k')\n",
    "ax.plot(c10300['X'], c10300['Y'], c = 'k')\n",
    "ax.annotate('10300', xy = (10170.604, 6133.596), size = 10)\n",
    "ax.plot(c10200['X'], c10200['Y'], c = 'k')\n",
    "ax.plot(c10100['X'], c10100['Y'], c = 'k')\n",
    "ax.annotate('10100', xy = (10570.604, 6999.764), size = 10)\n",
    "ax.plot(c10000['X'], c10000['Y'], c = 'k')\n",
    "ax.plot(c9900['X'], c9900['Y'], c = 'k')\n",
    "ax.annotate('9900', xy = (10891.8376, 7990.8664), size = 10)\n",
    "ax.plot(c9800['X'], c9800['Y'], c = 'k')\n",
    "ax.plot(c9800_2['X'], c9800_2['Y'], c = 'k')\n",
    "\n",
    "ax.plot(OWC['X'], OWC['Y'], c = 'b')\n",
    "ax.plot(OWC2['X'], OWC2['Y'],  c = 'b')\n",
    "\n",
    "ax.plot(np.array([11944.4, 23250]), np.array([8983.58, 752.62]), c = 'r')\n",
    "ax.plot(np.array([11944.4,4921]), np.array([8983.58,4160 ]), c = 'r')\n",
    "ax.invert_yaxis()\n",
    "\n",
    "ax.set_title(\"X field Contour MAP with Imagenary fault lines\")\n",
    "mplcursors.cursor(hover = True)"
   ]
  },
  {
   "cell_type": "markdown",
   "metadata": {},
   "source": [
    "### Building the Intersection Contours"
   ]
  },
  {
   "cell_type": "code",
   "execution_count": 7,
   "metadata": {},
   "outputs": [],
   "source": [
    "def getsegment_polygon(subset, faultlineprops):\n",
    "    \n",
    "    sorted_below = []\n",
    "    sorted_above = []\n",
    "    \n",
    "    k1,b1 = faultlineprops[0]\n",
    "    k2,b2 = faultlineprops[1]\n",
    "    \n",
    "    for i in range(len(subset)):\n",
    "        x,y = subset[i]\n",
    "        y1 = k1 * x + b1\n",
    "        y2 = k2 * x + b2\n",
    "        \n",
    "        if ( y > y1) | (y > y2):\n",
    "            sorted_below.append(subset[i])\n",
    "        \n",
    "        else:\n",
    "            sorted_above.append(subset[i])\n",
    "        \n",
    "            \n",
    "    return {\"below\": sorted_below, \"above\": sorted_above}\n",
    "\n",
    "\n",
    "\n",
    "def getGRV(contour_points, fault_intersection ):\n",
    "    \n",
    "    segment_points = getsegment_polygon(contour_points, [(0.687, 780.32), (-0.72, 17603.37)])\n",
    "    segment_points['above'] = list(set(segment_points['above']))\n",
    "    segment_points['above'].sort()\n",
    "    \n",
    "    \n",
    "    for i in range(len(fault_intersection)):\n",
    "        segment_points['below'].insert(0, fault_intersection[i])\n",
    "        segment_points['above'].insert(0, fault_intersection[i])\n",
    "    \n",
    "    poly_above = geometry.Polygon(segment_points['above'])\n",
    "    poly_below = geometry.Polygon(segment_points['below'])\n",
    "    \n",
    "    \n",
    "    return {\"below\": (poly_below, poly_below.area), \"above\": (poly_above, poly_above.area) }"
   ]
  },
  {
   "cell_type": "code",
   "execution_count": 8,
   "metadata": {},
   "outputs": [],
   "source": [
    "# Values are taken manually\n",
    "# We ll try to preserve them as tuples\n",
    "\n",
    "i9800 = [(11612, 8755.2), (12110.2, 8862.89)]\n",
    "i9900 = [(10438.3, 7949.66), (12821.3, 8344.74)]\n",
    "i10000 = [(9248.15, 7131.83), (13925, 7541.63)]\n",
    "i10100 = [(8241.84, 6440.04), (14441.6, 7238.06 )]\n",
    "i10200 = [(7875.47,6189.09), (15045.59, 6725.56)]\n",
    "i10300 = [(7509.05, 5996.64), (15597.5, 6311.5)]\n",
    "i10400 = [(7233.19, 5748.5), (16255.4, 5869.92)]\n",
    "i10500 = [(7013.99, 5597.44), (16753.9, 5482.02)]\n",
    "i10600 = [(6692.64, 5407.78), (17341.1, 5054.55)]\n",
    "i10700 = [(6521.23, 5258.03), (18114.8, 4446.53)]\n",
    "i10800 = [(6230.68, 5058.43), (18817.9, 3979.4)]\n",
    "\n",
    "iOWC = [(5991.27, 4893.96), (19529.5, 3461.27)]\n",
    "iOWC2 = [(6868.26, 5496.26), (17074, 5248.86)]\n",
    "\n",
    "#9800 ft contour conversion:\n",
    "subset9800 = [tuple(x) for x in c9800[['X', 'Y']].values]\n",
    "\n",
    "#9900 ft contour conversion:\n",
    "subset9900 = [tuple(x) for x in c9900[['X', 'Y']].values]\n",
    "\n",
    "#10000 ft contour conversion:\n",
    "subset10000 = [tuple(x) for x in c10000[['X', 'Y']].values]\n",
    "\n",
    "#10100 ft contour conversion:\n",
    "subset10100 = [tuple(x) for x in c10100[['X', 'Y']].values]\n",
    "\n",
    "#10200 ft contour conversion:\n",
    "subset10200 = [tuple(x) for x in c10200[['X', 'Y']].values]\n",
    "\n",
    "#10300 ft contour conversion:\n",
    "subset10300 = [tuple(x) for x in c10300[['X', 'Y']].values]\n",
    "\n",
    "#10300 ft contour conversion:\n",
    "subset10300 = [tuple(x) for x in c10300[['X', 'Y']].values]\n",
    "\n",
    "#10400 ft contour conversion:\n",
    "subset10400 = [tuple(x) for x in c10400[['X', 'Y']].values]\n",
    "\n",
    "#10500 ft contour conversion:\n",
    "subset10500 = [tuple(x) for x in c10500[['X', 'Y']].values]\n",
    "\n",
    "#10600 ft contour conversion:\n",
    "subset10600 = [tuple(x) for x in c10600[['X', 'Y']].values]\n",
    "\n",
    "#10700 ft contour conversion:\n",
    "subset10700 = [tuple(x) for x in c10700[['X', 'Y']].values]\n",
    "\n",
    "#10800 ft contour conversion:\n",
    "subset10800 = [tuple(x) for x in c10800[['X', 'Y']].values]"
   ]
  },
  {
   "cell_type": "code",
   "execution_count": 9,
   "metadata": {},
   "outputs": [],
   "source": [
    "OWCsubset = [tuple(x) for x in OWC[['X', 'Y']].values]\n",
    "\n",
    "OWC2subset = [tuple(x) for x in OWC2[['X', 'Y']].values]"
   ]
  },
  {
   "cell_type": "markdown",
   "metadata": {},
   "source": [
    "## GRV 9800"
   ]
  },
  {
   "cell_type": "code",
   "execution_count": 10,
   "metadata": {},
   "outputs": [],
   "source": [
    "i9800.insert(1, (11944.4, 8983.58))\n",
    "poly9800 = getGRV(subset9800, i9800)"
   ]
  },
  {
   "cell_type": "code",
   "execution_count": 11,
   "metadata": {},
   "outputs": [
    {
     "name": "stdout",
     "output_type": "stream",
     "text": [
      "Area below the fault lines: 0.04112257711262618\n",
      "Area above the fault lines: 0.012855386870056601\n"
     ]
    }
   ],
   "source": [
    "print(\"Area below the fault lines: {}\".format(poly9800['below'][1]/(3.28084**2)/(10**6)))\n",
    "print(\"Area above the fault lines: {}\".format(poly9800['above'][1]/(3.28084**2)/(10**6)))"
   ]
  },
  {
   "cell_type": "code",
   "execution_count": 12,
   "metadata": {},
   "outputs": [
    {
     "data": {
      "image/svg+xml": [
       "<svg xmlns=\"http://www.w3.org/2000/svg\" xmlns:xlink=\"http://www.w3.org/1999/xlink\" width=\"300\" height=\"300\" viewBox=\"11526.968134428676 8718.634153846155 904.0443136669182 987.2778461538455\" preserveAspectRatio=\"xMinYMin meet\"><g transform=\"matrix(1,0,0,-1,0,18424.546153846153)\"><path fill-rule=\"evenodd\" fill=\"#66cc99\" stroke=\"#555555\" stroke-width=\"6.581852307692303\" opacity=\"0.6\" d=\"M 12110.2,8862.89 L 11944.4,8983.58 L 11612.0,8755.2 L 11563.533980582522,8777.846153846156 L 11598.155339805826,9086.442307692309 L 11840.504854368934,9463.615384615388 L 12117.475728155341,9669.346153846154 L 12394.446601941749,9566.480769230771 L 12394.446601941749,9257.884615384615 L 12110.2,8862.89 z\" /></g></svg>"
      ],
      "text/plain": [
       "<shapely.geometry.polygon.Polygon at 0x7f823d3d39e8>"
      ]
     },
     "execution_count": 12,
     "metadata": {},
     "output_type": "execute_result"
    }
   ],
   "source": [
    "# Polygons of 9800 contour\n",
    "poly9800['below'][0]"
   ]
  },
  {
   "cell_type": "code",
   "execution_count": 13,
   "metadata": {},
   "outputs": [
    {
     "data": {
      "image/svg+xml": [
       "<svg xmlns=\"http://www.w3.org/2000/svg\" xmlns:xlink=\"http://www.w3.org/1999/xlink\" width=\"300\" height=\"300\" viewBox=\"11591.780970873786 8483.319432412249 545.9137864077693 520.4795967139653\" preserveAspectRatio=\"xMinYMin meet\"><g transform=\"matrix(1,0,0,-1,0,17487.118461538463)\"><path fill-rule=\"evenodd\" fill=\"#66cc99\" stroke=\"#555555\" stroke-width=\"3.639425242718462\" opacity=\"0.6\" d=\"M 12110.2,8862.89 L 11944.4,8983.58 L 11612.0,8755.2 L 11702.019417475727,8503.538461538463 L 11771.262135922329,8503.538461538463 L 11909.747572815537,8572.115384615385 L 12117.475728155341,8812.134615384615 L 12110.2,8862.89 z\" /></g></svg>"
      ],
      "text/plain": [
       "<shapely.geometry.polygon.Polygon at 0x7f823d8d27f0>"
      ]
     },
     "execution_count": 13,
     "metadata": {},
     "output_type": "execute_result"
    }
   ],
   "source": [
    "poly9800['above'][0]"
   ]
  },
  {
   "cell_type": "markdown",
   "metadata": {},
   "source": [
    "## GRV 9900"
   ]
  },
  {
   "cell_type": "code",
   "execution_count": 14,
   "metadata": {},
   "outputs": [],
   "source": [
    "i9900.insert(1, (11944.4, 8983.58))\n",
    "poly9900 = getGRV(subset9900, i9900)"
   ]
  },
  {
   "cell_type": "code",
   "execution_count": 15,
   "metadata": {},
   "outputs": [
    {
     "name": "stdout",
     "output_type": "stream",
     "text": [
      "Area (km^2) below the fault lines: 0.3798896295178846\n",
      "Area (km^2) above the fault lines: 0.1494268887387487\n"
     ]
    }
   ],
   "source": [
    "print(\"Area (km^2) below the fault lines: {}\".format(poly9900['below'][1]/(3.28084**2)/(10**6)))\n",
    "print(\"Area (km^2) above the fault lines: {}\".format(poly9900['above'][1]/(3.28084**2)/(10**6)))"
   ]
  },
  {
   "cell_type": "code",
   "execution_count": 16,
   "metadata": {},
   "outputs": [
    {
     "data": {
      "image/svg+xml": [
       "<svg xmlns=\"http://www.w3.org/2000/svg\" xmlns:xlink=\"http://www.w3.org/1999/xlink\" width=\"300\" height=\"300\" viewBox=\"10047.134293950707 7783.493323076923 3136.6634509335363 4486.5002769230805\" preserveAspectRatio=\"xMinYMin meet\"><g transform=\"matrix(1,0,0,-1,0,20053.486923076925)\"><path fill-rule=\"evenodd\" fill=\"#66cc99\" stroke=\"#555555\" stroke-width=\"29.91000184615387\" opacity=\"0.6\" d=\"M 12821.3,8344.74 L 11944.4,8983.58 L 10438.3,7949.66 L 10213.300970873785,8400.673076923078 L 10559.514563106795,8640.69230769231 L 11113.456310679612,8949.288461538463 L 11321.184466019418,9223.596153846154 L 11528.912621359224,9635.057692307691 L 11702.019417475727,9909.365384615388 L 11909.747572815537,10217.96153846154 L 11909.747572815537,11418.057692307693 L 12186.718446601943,11829.51923076923 L 12706.038834951454,12103.826923076926 L 12844.52427184466,11829.51923076923 L 12567.553398058251,10972.307692307691 L 12498.31067961165,10526.557692307691 L 12879.145631067962,10252.250000000002 L 13017.631067961165,9532.192307692309 L 12983.009708737864,8983.576923076924 L 12983.009708737864,8572.115384615385 L 12821.3,8344.74 z\" /></g></svg>"
      ],
      "text/plain": [
       "<shapely.geometry.polygon.Polygon at 0x7f823d8bdf60>"
      ]
     },
     "execution_count": 16,
     "metadata": {},
     "output_type": "execute_result"
    }
   ],
   "source": [
    "poly9900['below'][0]"
   ]
  },
  {
   "cell_type": "code",
   "execution_count": 17,
   "metadata": {},
   "outputs": [
    {
     "data": {
      "image/svg+xml": [
       "<svg xmlns=\"http://www.w3.org/2000/svg\" xmlns:xlink=\"http://www.w3.org/1999/xlink\" width=\"300\" height=\"300\" viewBox=\"10289.012077669902 7720.373541448844 2629.6836116504855 1360.6021478715447\" preserveAspectRatio=\"xMinYMin meet\"><g transform=\"matrix(1,0,0,-1,0,16801.349230769232)\"><path fill-rule=\"evenodd\" fill=\"#66cc99\" stroke=\"#555555\" stroke-width=\"17.531224077669904\" opacity=\"0.6\" d=\"M 12821.3,8344.74 L 11944.4,8983.58 L 10438.3,7949.66 L 10386.40776699029,7886.346153846153 L 10732.621359223302,7817.769230769232 L 11978.990291262136,7817.769230769232 L 12463.689320388346,7886.346153846153 L 12706.038834951454,8092.076923076924 L 12821.3,8344.74 z\" /></g></svg>"
      ],
      "text/plain": [
       "<shapely.geometry.polygon.Polygon at 0x7f823d8bd470>"
      ]
     },
     "execution_count": 17,
     "metadata": {},
     "output_type": "execute_result"
    }
   ],
   "source": [
    "poly9900['above'][0]"
   ]
  },
  {
   "cell_type": "markdown",
   "metadata": {},
   "source": [
    "## GRV 10000"
   ]
  },
  {
   "cell_type": "code",
   "execution_count": 18,
   "metadata": {},
   "outputs": [],
   "source": [
    "i10000.insert(1, (11944.4, 8983.58))\n",
    "poly10000 = getGRV(subset10000, i10000)"
   ]
  },
  {
   "cell_type": "code",
   "execution_count": 19,
   "metadata": {},
   "outputs": [
    {
     "name": "stdout",
     "output_type": "stream",
     "text": [
      "Area (km^2) below the fault lines: 1.0809605629731964\n",
      "Area (km^2) above the fault lines: 0.454027945549296\n"
     ]
    }
   ],
   "source": [
    "print(\"Area (km^2) below the fault lines: {}\".format(poly10000['below'][1]/(3.28084**2)/(10**6)))\n",
    "print(\"Area (km^2) above the fault lines: {}\".format(poly10000['above'][1]/(3.28084**2)/(10**6)))"
   ]
  },
  {
   "cell_type": "code",
   "execution_count": 20,
   "metadata": {},
   "outputs": [
    {
     "data": {
      "image/svg+xml": [
       "<svg xmlns=\"http://www.w3.org/2000/svg\" xmlns:xlink=\"http://www.w3.org/1999/xlink\" width=\"300\" height=\"300\" viewBox=\"8312.82803584765 6756.198461538463 5850.819656460042 6443.487692307694\" preserveAspectRatio=\"xMinYMin meet\"><g transform=\"matrix(1,0,0,-1,0,19955.884615384617)\"><path fill-rule=\"evenodd\" fill=\"#66cc99\" stroke=\"#555555\" stroke-width=\"42.95658461538462\" opacity=\"0.6\" d=\"M 13925.0,7541.63 L 11944.4,8983.58 L 9248.15,7131.83 L 9174.660194174756,7097.711538461539 L 8620.71844660194,6994.846153846155 L 8551.475728155341,7372.01923076923 L 9036.174757281551,8503.538461538463 L 9451.631067961165,9155.01923076923 L 9797.844660194174,9703.634615384615 L 10247.922330097086,9120.730769230771 L 10559.514563106795,9120.730769230771 L 10974.970873786408,9463.615384615388 L 11286.563106796115,10115.096153846154 L 11494.291262135923,10663.71153846154 L 11494.291262135923,11178.038461538465 L 11494.291262135923,11555.21153846154 L 11875.126213592232,12103.826923076926 L 12325.203883495144,12515.288461538465 L 12809.902912621359,12789.596153846154 L 13052.252427184463,12961.038461538465 L 13259.980582524273,12446.71153846154 L 13121.495145631066,11555.21153846154 L 13190.737864077671,11109.46153846154 L 13398.466019417476,10629.423076923078 L 13398.466019417476,9326.46153846154 L 13536.95145631068,8709.269230769232 L 13848.543689320391,7783.48076923077 L 13925.0,7541.63 z\" /></g></svg>"
      ],
      "text/plain": [
       "<shapely.geometry.polygon.Polygon at 0x7f823d8d38d0>"
      ]
     },
     "execution_count": 20,
     "metadata": {},
     "output_type": "execute_result"
    }
   ],
   "source": [
    "poly10000['below'][0]"
   ]
  },
  {
   "cell_type": "code",
   "execution_count": 21,
   "metadata": {},
   "outputs": [
    {
     "data": {
      "image/svg+xml": [
       "<svg xmlns=\"http://www.w3.org/2000/svg\" xmlns:xlink=\"http://www.w3.org/1999/xlink\" width=\"300\" height=\"300\" viewBox=\"9061.076 6259.156769230771 5050.998000000001 2911.4972307692296\" preserveAspectRatio=\"xMinYMin meet\"><g transform=\"matrix(1,0,0,-1,0,15429.810769230771)\"><path fill-rule=\"evenodd\" fill=\"#66cc99\" stroke=\"#555555\" stroke-width=\"33.67332000000001\" opacity=\"0.6\" d=\"M 13925.0,7541.63 L 11944.4,8983.58 L 9248.15,7131.83 L 10178.679611650483,7234.865384615386 L 11044.213592233007,7406.3076923076915 L 11459.66990291262,7372.01923076923 L 11459.66990291262,7406.3076923076915 L 12152.097087378641,7132.0 L 12775.28155339806,6891.98076923077 L 13329.22330097087,6446.23076923077 L 13710.058252427185,6651.961538461538 L 13917.78640776699,7474.884615384617 L 13925.0,7541.63 z\" /></g></svg>"
      ],
      "text/plain": [
       "<shapely.geometry.polygon.Polygon at 0x7f823d8d3358>"
      ]
     },
     "execution_count": 21,
     "metadata": {},
     "output_type": "execute_result"
    }
   ],
   "source": [
    "poly10000['above'][0]"
   ]
  },
  {
   "cell_type": "markdown",
   "metadata": {},
   "source": [
    "## Contour Area at 10100 ft TVDSS"
   ]
  },
  {
   "cell_type": "code",
   "execution_count": 22,
   "metadata": {},
   "outputs": [
    {
     "name": "stdout",
     "output_type": "stream",
     "text": [
      "Area (km^2) below the fault lines: 1.683335722009551\n",
      "Area (km^2) above the fault lines: 0.7753115381009678\n"
     ]
    }
   ],
   "source": [
    "i10100.insert(1, (11944.4, 8983.58))\n",
    "poly10100 = getGRV(subset10100, i10100)\n",
    "\n",
    "print(\"Area (km^2) below the fault lines: {}\".format(poly10100['below'][1]/(3.28084**2)/(10**6)))\n",
    "print(\"Area (km^2) above the fault lines: {}\".format(poly10100['above'][1]/(3.28084**2)/(10**6)))"
   ]
  },
  {
   "cell_type": "code",
   "execution_count": 23,
   "metadata": {},
   "outputs": [
    {
     "data": {
      "image/svg+xml": [
       "<svg xmlns=\"http://www.w3.org/2000/svg\" xmlns:xlink=\"http://www.w3.org/1999/xlink\" width=\"300\" height=\"300\" viewBox=\"7742.760724421211 6122.547692307693 6988.2338909634045 7813.6546153846175\" preserveAspectRatio=\"xMinYMin meet\"><g transform=\"matrix(1,0,0,-1,0,20058.750000000004)\"><path fill-rule=\"evenodd\" fill=\"#66cc99\" stroke=\"#555555\" stroke-width=\"52.091030769230784\" opacity=\"0.6\" d=\"M 14441.6,7238.06 L 11944.4,8983.58 L 8241.84,6440.04 L 8066.776699029126,6411.9423076923085 L 8032.155339805827,6686.25 L 8136.019417475727,7063.423076923077 L 8274.504854368932,7440.596153846155 L 8516.854368932041,7989.211538461539 L 8689.961165048542,8332.096153846154 L 9001.553398058253,8880.711538461539 L 9417.009708737864,9600.769230769232 L 9832.466019417476,10183.673076923078 L 10178.679611650483,10663.71153846154 L 10351.786407766993,10732.288461538465 L 10524.893203883496,10629.423076923078 L 10421.029126213592,10252.250000000002 L 10317.16504854369,9669.346153846154 L 10455.650485436894,9497.903846153846 L 10663.378640776698,9497.903846153846 L 10836.485436893205,9737.923076923078 L 11009.59223300971,10080.807692307691 L 11044.213592233007,10320.826923076924 L 10974.970873786408,10629.423076923078 L 10940.349514563108,10938.019230769232 L 11009.59223300971,11315.192307692307 L 11182.699029126212,11623.788461538465 L 11321.184466019418,12000.96153846154 L 11563.533980582522,12515.288461538465 L 11736.640776699029,12892.46153846154 L 12325.203883495144,13235.346153846154 L 13086.873786407768,13646.807692307695 L 13329.22330097087,13441.076923076926 L 13467.708737864077,13029.615384615383 L 13467.708737864077,12549.576923076924 L 13467.708737864077,12103.826923076926 L 13536.95145631068,11520.923076923078 L 13640.815533980583,11006.596153846154 L 13779.300970873786,10149.384615384615 L 13779.300970873786,9566.480769230771 L 13883.165048543691,8812.134615384615 L 14229.378640776698,7954.923076923076 L 14402.485436893201,7337.73076923077 L 14441.6,7238.06 z\" /></g></svg>"
      ],
      "text/plain": [
       "<shapely.geometry.polygon.Polygon at 0x7f823d8d0748>"
      ]
     },
     "execution_count": 23,
     "metadata": {},
     "output_type": "execute_result"
    }
   ],
   "source": [
    "poly10100['below'][0]"
   ]
  },
  {
   "cell_type": "code",
   "execution_count": 24,
   "metadata": {},
   "outputs": [
    {
     "data": {
      "image/svg+xml": [
       "<svg xmlns=\"http://www.w3.org/2000/svg\" xmlns:xlink=\"http://www.w3.org/1999/xlink\" width=\"300\" height=\"300\" viewBox=\"7992.644473786408 5614.13139686333 6728.279207766989 3618.644129350262\" preserveAspectRatio=\"xMinYMin meet\"><g transform=\"matrix(1,0,0,-1,0,14846.906923076924)\"><path fill-rule=\"evenodd\" fill=\"#66cc99\" stroke=\"#555555\" stroke-width=\"44.8551947184466\" opacity=\"0.6\" d=\"M 14441.6,7238.06 L 11944.4,8983.58 L 8241.84,6440.04 L 8724.582524271844,6480.519230769231 L 9140.038834951456,6651.961538461538 L 10247.922330097086,6857.692307692309 L 10801.8640776699,6926.269230769231 L 12082.854368932041,6754.826923076924 L 12498.31067961165,6549.096153846153 L 12913.766990291262,6171.923076923077 L 13329.22330097087,5897.615384615386 L 13848.543689320391,5863.326923076923 L 14264.0,6069.0576923076915 L 14471.728155339804,6583.384615384615 L 14441.6,7238.06 z\" /></g></svg>"
      ],
      "text/plain": [
       "<shapely.geometry.polygon.Polygon at 0x7f823d8d0390>"
      ]
     },
     "execution_count": 24,
     "metadata": {},
     "output_type": "execute_result"
    }
   ],
   "source": [
    "poly10100['above'][0]"
   ]
  },
  {
   "cell_type": "markdown",
   "metadata": {},
   "source": [
    "## Contour Area at 10200 ft TVDSS"
   ]
  },
  {
   "cell_type": "code",
   "execution_count": 25,
   "metadata": {},
   "outputs": [
    {
     "name": "stdout",
     "output_type": "stream",
     "text": [
      "Area (km^2) below the fault lines: 2.2909104146504484\n",
      "Area (km^2) above the fault lines: 1.0582197838886498\n"
     ]
    }
   ],
   "source": [
    "i10200.insert(1, (11944.4, 8983.58))\n",
    "poly10200 = getGRV(subset10200, i10200)\n",
    "\n",
    "print(\"Area (km^2) below the fault lines: {}\".format(poly10200['below'][1]/(3.28084**2)/(10**6)))\n",
    "print(\"Area (km^2) above the fault lines: {}\".format(poly10200['above'][1]/(3.28084**2)/(10**6)))"
   ]
  },
  {
   "cell_type": "code",
   "execution_count": 26,
   "metadata": {},
   "outputs": [
    {
     "data": {
      "image/svg+xml": [
       "<svg xmlns=\"http://www.w3.org/2000/svg\" xmlns:xlink=\"http://www.w3.org/1999/xlink\" width=\"300\" height=\"300\" viewBox=\"7333.12346527259 5819.4376923076925 8030.663457804333 8591.316923076924\" preserveAspectRatio=\"xMinYMin meet\"><g transform=\"matrix(1,0,0,-1,0,20230.19230769231)\"><path fill-rule=\"evenodd\" fill=\"#66cc99\" stroke=\"#555555\" stroke-width=\"57.275446153846154\" opacity=\"0.6\" d=\"M 15045.59,6725.56 L 11944.4,8983.58 L 7875.47,6189.09 L 7651.3203883495125,6137.634615384615 L 7685.941747572815,6754.826923076924 L 8066.776699029126,7509.173076923077 L 8482.233009708738,8332.096153846154 L 8863.067961165048,9155.01923076923 L 9313.145631067959,9875.076923076924 L 9867.087378640776,10629.423076923078 L 10351.786407766993,11280.903846153848 L 10732.621359223302,11829.51923076923 L 11113.456310679612,12652.442307692307 L 11598.155339805826,13338.21153846154 L 12359.825242718445,13715.384615384617 L 13225.35922330097,14092.557692307693 L 13571.57281553398,13818.25 L 13813.922330097084,12823.884615384617 L 13813.922330097084,11966.673076923078 L 13813.922330097084,11658.076923076924 L 13987.02912621359,10938.019230769232 L 14021.650485436892,10286.538461538465 L 14056.271844660192,9566.480769230771 L 14333.242718446603,8709.269230769232 L 14644.834951456309,7749.192307692307 L 14956.427184466018,7029.134615384615 L 15045.59,6725.56 z\" /></g></svg>"
      ],
      "text/plain": [
       "<shapely.geometry.polygon.Polygon at 0x7f823d8d0b00>"
      ]
     },
     "execution_count": 26,
     "metadata": {},
     "output_type": "execute_result"
    }
   ],
   "source": [
    "poly10200['below'][0]"
   ]
  },
  {
   "cell_type": "code",
   "execution_count": 27,
   "metadata": {},
   "outputs": [
    {
     "data": {
      "image/svg+xml": [
       "<svg xmlns=\"http://www.w3.org/2000/svg\" xmlns:xlink=\"http://www.w3.org/1999/xlink\" width=\"300\" height=\"300\" viewBox=\"7588.077149514564 5267.337918745334 7759.606963106797 4003.6349317401036\" preserveAspectRatio=\"xMinYMin meet\"><g transform=\"matrix(1,0,0,-1,0,14538.310769230771)\"><path fill-rule=\"evenodd\" fill=\"#66cc99\" stroke=\"#555555\" stroke-width=\"51.730713087378646\" opacity=\"0.6\" d=\"M 15045.59,6725.56 L 11944.4,8983.58 L 7875.47,6189.09 L 8170.64077669903,6034.769230769231 L 9243.902912621359,6240.500000000001 L 10213.300970873785,6377.653846153847 L 11321.184466019418,6549.096153846153 L 11771.262135922329,6446.23076923077 L 12602.174757281553,6000.48076923077 L 13259.980582524273,5726.173076923077 L 13779.300970873786,5623.3076923076915 L 14229.378640776698,5554.73076923077 L 14748.699029126214,5760.461538461539 L 15060.291262135923,6514.807692307693 L 15045.59,6725.56 z\" /></g></svg>"
      ],
      "text/plain": [
       "<shapely.geometry.polygon.Polygon at 0x7f823d8d0630>"
      ]
     },
     "execution_count": 27,
     "metadata": {},
     "output_type": "execute_result"
    }
   ],
   "source": [
    "poly10200['above'][0]"
   ]
  },
  {
   "cell_type": "markdown",
   "metadata": {},
   "source": [
    "## GRV 10300"
   ]
  },
  {
   "cell_type": "code",
   "execution_count": 28,
   "metadata": {},
   "outputs": [
    {
     "name": "stdout",
     "output_type": "stream",
     "text": [
      "Area (km^2) below the fault lines: 2.889045106500258\n",
      "Area (km^2) above the fault lines: 1.3752893602055312\n"
     ]
    }
   ],
   "source": [
    "i10300.insert(1, (11944.4, 8983.58))\n",
    "poly10300 = getGRV(subset10300, i10300)\n",
    "\n",
    "print(\"Area (km^2) below the fault lines: {}\".format(poly10300['below'][1]/(3.28084**2)/(10**6)))\n",
    "print(\"Area (km^2) above the fault lines: {}\".format(poly10300['above'][1]/(3.28084**2)/(10**6)))"
   ]
  },
  {
   "cell_type": "code",
   "execution_count": 29,
   "metadata": {},
   "outputs": [
    {
     "data": {
      "image/svg+xml": [
       "<svg xmlns=\"http://www.w3.org/2000/svg\" xmlns:xlink=\"http://www.w3.org/1999/xlink\" width=\"300\" height=\"300\" viewBox=\"6995.318370724422 5652.230215384616 8997.945782823 9299.064184615389\" preserveAspectRatio=\"xMinYMin meet\"><g transform=\"matrix(1,0,0,-1,0,20603.52461538462)\"><path fill-rule=\"evenodd\" fill=\"#66cc99\" stroke=\"#555555\" stroke-width=\"61.99376123076926\" opacity=\"0.6\" d=\"M 15597.5,6311.5 L 11944.4,8983.58 L 7509.05,5996.64 L 7339.728155339806,6000.48076923077 L 7339.728155339806,6514.807692307693 L 7685.941747572815,7166.288461538462 L 8136.019417475727,8194.94230769231 L 8412.990291262136,8846.423076923078 L 8655.339805825242,9292.173076923078 L 9105.417475728154,10012.23076923077 L 9278.524271844659,10149.384615384615 L 9555.495145631066,10560.846153846154 L 10109.436893203885,11246.615384615388 L 10282.543689320388,11658.076923076924 L 10317.16504854369,11898.096153846154 L 10836.485436893205,12618.153846153848 L 11182.699029126212,13132.480769230771 L 11251.941747572815,13406.788461538465 L 11598.155339805826,13578.230769230771 L 12255.961165048542,13955.403846153848 L 12567.553398058251,14264.000000000002 L 12740.660194174756,14504.019230769234 L 13813.922330097084,14606.884615384619 L 14229.378640776698,14195.423076923078 L 14056.271844660192,13406.788461538465 L 14229.378640776698,12755.307692307693 L 14194.757281553397,12069.538461538465 L 14160.135922330095,11589.500000000002 L 14264.0,10869.442307692309 L 14402.485436893201,10286.538461538465 L 14540.97087378641,9497.903846153846 L 14748.699029126214,8640.69230769231 L 14817.941747572815,8434.961538461539 L 15129.533980582522,7989.211538461539 L 15648.854368932038,6651.961538461538 L 15597.5,6311.5 z\" /></g></svg>"
      ],
      "text/plain": [
       "<shapely.geometry.polygon.Polygon at 0x7f823d8d0f28>"
      ]
     },
     "execution_count": 29,
     "metadata": {},
     "output_type": "execute_result"
    }
   ],
   "source": [
    "poly10300['below'][0]"
   ]
  },
  {
   "cell_type": "code",
   "execution_count": 30,
   "metadata": {},
   "outputs": [
    {
     "data": {
      "image/svg+xml": [
       "<svg xmlns=\"http://www.w3.org/2000/svg\" xmlns:xlink=\"http://www.w3.org/1999/xlink\" width=\"300\" height=\"300\" viewBox=\"7185.512000000001 4922.596615384617 8735.526 4384.521384615384\" preserveAspectRatio=\"xMinYMin meet\"><g transform=\"matrix(1,0,0,-1,0,14229.714615384617)\"><path fill-rule=\"evenodd\" fill=\"#66cc99\" stroke=\"#555555\" stroke-width=\"58.23684\" opacity=\"0.6\" d=\"M 15597.5,6311.5 L 11944.4,8983.58 L 7509.05,5996.64 L 7651.3203883495125,5726.173076923077 L 7997.533980582524,5691.884615384615 L 8586.097087378641,5760.461538461539 L 9243.902912621359,5863.326923076923 L 10109.436893203885,6069.0576923076915 L 11702.019417475727,5966.1923076923085 L 12429.067961165048,5726.173076923077 L 13156.11650485437,5486.153846153847 L 14056.271844660192,5246.134615384616 L 14748.699029126214,5383.288461538462 L 15302.640776699029,5623.3076923076915 L 15510.368932038835,5829.038461538461 L 15597.5,6311.5 z\" /></g></svg>"
      ],
      "text/plain": [
       "<shapely.geometry.polygon.Polygon at 0x7f823d8d0dd8>"
      ]
     },
     "execution_count": 30,
     "metadata": {},
     "output_type": "execute_result"
    }
   ],
   "source": [
    "poly10300['above'][0]"
   ]
  },
  {
   "cell_type": "markdown",
   "metadata": {},
   "source": [
    "### GRV 10400"
   ]
  },
  {
   "cell_type": "code",
   "execution_count": 31,
   "metadata": {},
   "outputs": [
    {
     "name": "stdout",
     "output_type": "stream",
     "text": [
      "Area (km^2) below the fault lines: 3.7327184840198186\n",
      "Area (km^2) above the fault lines: 1.703153926232696\n"
     ]
    }
   ],
   "source": [
    "i10400.insert(1, (11944.4, 8983.58))\n",
    "poly10400 = getGRV(subset10400, i10400)\n",
    "\n",
    "print(\"Area (km^2) below the fault lines: {}\".format(poly10400['below'][1]/(3.28084**2)/(10**6)))\n",
    "print(\"Area (km^2) above the fault lines: {}\".format(poly10400['above'][1]/(3.28084**2)/(10**6)))"
   ]
  },
  {
   "cell_type": "code",
   "execution_count": 32,
   "metadata": {},
   "outputs": [
    {
     "data": {
      "image/svg+xml": [
       "<svg xmlns=\"http://www.w3.org/2000/svg\" xmlns:xlink=\"http://www.w3.org/1999/xlink\" width=\"300\" height=\"300\" viewBox=\"6689.220358476476 5374.963076923077 10025.598117998506 10085.496923076927\" preserveAspectRatio=\"xMinYMin meet\"><g transform=\"matrix(1,0,0,-1,0,20835.42307692308)\"><path fill-rule=\"evenodd\" fill=\"#66cc99\" stroke=\"#555555\" stroke-width=\"67.23664615384618\" opacity=\"0.6\" d=\"M 16255.4,5869.92 L 11944.4,8983.58 L 7233.19,5748.5 L 7062.757281553399,5863.326923076923 L 7062.757281553399,6343.365384615385 L 7339.728155339806,7029.134615384615 L 7547.456310679612,7440.596153846155 L 7720.563106796117,7817.769230769232 L 7962.9126213592235,8297.807692307693 L 8274.504854368932,8915.0 L 8551.475728155341,9429.326923076924 L 9001.553398058253,10183.673076923078 L 9451.631067961165,10732.288461538465 L 9797.844660194174,11178.038461538465 L 10074.815533980582,11692.365384615388 L 10213.300970873785,12103.826923076926 L 10594.135922330097,12755.307692307693 L 11078.834951456309,13338.21153846154 L 11182.699029126212,13646.807692307695 L 11425.04854368932,13783.96153846154 L 12255.961165048542,14332.576923076926 L 12844.52427184466,15018.346153846154 L 13294.60194174757,14915.480769230771 L 13744.679611650488,15086.923076923082 L 14437.106796116504,14435.44230769231 L 14748.699029126214,14229.71153846154 L 14921.80582524272,13715.384615384617 L 14887.184466019417,13372.500000000002 L 14714.077669902916,12583.865384615388 L 14887.184466019417,11726.653846153848 L 14887.184466019417,11383.769230769229 L 14783.320388349512,10869.442307692309 L 14852.563106796115,10286.538461538465 L 15094.912621359224,9635.057692307691 L 15302.640776699029,9189.307692307691 L 16064.31067961165,8229.23076923077 L 16341.281553398057,7783.48076923077 L 16272.038834951454,5897.615384615386 L 16255.4,5869.92 z\" /></g></svg>"
      ],
      "text/plain": [
       "<shapely.geometry.polygon.Polygon at 0x7f823d398780>"
      ]
     },
     "execution_count": 32,
     "metadata": {},
     "output_type": "execute_result"
    }
   ],
   "source": [
    "poly10400['below'][0]"
   ]
  },
  {
   "cell_type": "code",
   "execution_count": 33,
   "metadata": {},
   "outputs": [
    {
     "data": {
      "image/svg+xml": [
       "<svg xmlns=\"http://www.w3.org/2000/svg\" xmlns:xlink=\"http://www.w3.org/1999/xlink\" width=\"300\" height=\"300\" viewBox=\"6872.3016 4610.938523076923 9743.986800000002 4733.529876923077\" preserveAspectRatio=\"xMinYMin meet\"><g transform=\"matrix(1,0,0,-1,0,13955.406923076924)\"><path fill-rule=\"evenodd\" fill=\"#66cc99\" stroke=\"#555555\" stroke-width=\"64.95991200000002\" opacity=\"0.6\" d=\"M 16255.4,5869.92 L 11944.4,8983.58 L 7233.19,5748.5 L 7339.728155339806,5520.4423076923085 L 7720.563106796117,5383.288461538462 L 8136.019417475727,5383.288461538462 L 8586.097087378641,5451.865384615385 L 9382.388349514564,5554.73076923077 L 10213.300970873785,5623.3076923076915 L 10732.621359223302,5589.019230769231 L 10767.2427184466,5589.019230769231 L 11182.699029126212,5554.73076923077 L 11667.398058252424,5486.153846153847 L 12325.203883495144,5349.0 L 13156.11650485437,5177.557692307692 L 13848.543689320391,5040.403846153847 L 14506.349514563102,4971.826923076923 L 14817.941747572815,5006.115384615385 L 15787.339805825244,5383.288461538462 L 16064.31067961165,5417.576923076924 L 16202.796116504851,5554.73076923077 L 16255.4,5869.92 z\" /></g></svg>"
      ],
      "text/plain": [
       "<shapely.geometry.polygon.Polygon at 0x7f823d3986a0>"
      ]
     },
     "execution_count": 33,
     "metadata": {},
     "output_type": "execute_result"
    }
   ],
   "source": [
    "poly10400['above'][0]"
   ]
  },
  {
   "cell_type": "markdown",
   "metadata": {},
   "source": [
    "## GRV 10500"
   ]
  },
  {
   "cell_type": "code",
   "execution_count": 34,
   "metadata": {},
   "outputs": [
    {
     "name": "stdout",
     "output_type": "stream",
     "text": [
      "Area (km^2) below the fault lines: 4.592715040935261\n",
      "Area (km^2) above the fault lines: 2.0737242606406694\n"
     ]
    }
   ],
   "source": [
    "i10500.insert(1, (11944.4, 8983.58))\n",
    "poly10500 = getGRV(subset10500, i10500)\n",
    "\n",
    "print(\"Area (km^2) below the fault lines: {}\".format(poly10500['below'][1]/(3.28084**2)/(10**6)))\n",
    "print(\"Area (km^2) above the fault lines: {}\".format(poly10500['above'][1]/(3.28084**2)/(10**6)))"
   ]
  },
  {
   "cell_type": "code",
   "execution_count": 35,
   "metadata": {},
   "outputs": [
    {
     "data": {
      "image/svg+xml": [
       "<svg xmlns=\"http://www.w3.org/2000/svg\" xmlns:xlink=\"http://www.w3.org/1999/xlink\" width=\"300\" height=\"300\" viewBox=\"6375.8695145631045 5072.103106796117 11067.756116504863 10733.333017177003\" preserveAspectRatio=\"xMinYMin meet\"><g transform=\"matrix(1,0,0,-1,0,20877.539230769235)\"><path fill-rule=\"evenodd\" fill=\"#66cc99\" stroke=\"#555555\" stroke-width=\"73.78504077669909\" opacity=\"0.6\" d=\"M 16753.9,5482.02 L 11944.4,8983.58 L 7013.99,5597.44 L 6785.786407766988,5794.750000000001 L 6855.0291262135925,6309.076923076923 L 7097.378640776698,7063.423076923077 L 7305.106796116504,7440.596153846155 L 7512.834951456311,7920.634615384617 L 7685.941747572815,8332.096153846154 L 7893.669902912621,8674.98076923077 L 8101.398058252426,9052.153846153848 L 8343.747572815533,9566.480769230771 L 8759.203883495145,10217.96153846154 L 9243.902912621359,10732.288461538465 L 9520.873786407768,11280.903846153848 L 9936.33009708738,11863.807692307693 L 10074.815533980582,12378.134615384619 L 10386.40776699029,12823.884615384617 L 10732.621359223302,13132.480769230771 L 10974.970873786408,13646.807692307695 L 11563.533980582522,14126.846153846154 L 12013.611650485436,14401.153846153846 L 12325.203883495144,14949.76923076923 L 12740.660194174756,15155.500000000002 L 13606.19417475728,15395.519230769234 L 14298.621359223302,15121.21153846154 L 14714.077669902916,14949.76923076923 L 15129.533980582522,14195.423076923078 L 15302.640776699029,13441.076923076926 L 15371.883495145628,12378.134615384619 L 15475.747572815531,11349.480769230771 L 15406.504854368934,10766.576923076924 L 15718.097087378641,10012.23076923077 L 15856.582524271844,9806.500000000002 L 16098.932038834952,9703.634615384615 L 16756.73786407767,8709.269230769232 L 16964.46601941748,8126.365384615385 L 17033.708737864083,7406.3076923076915 L 16964.46601941748,7029.134615384615 L 16791.35922330097,6446.23076923077 L 16722.116504854366,5623.3076923076915 L 16753.9,5482.02 z\" /></g></svg>"
      ],
      "text/plain": [
       "<shapely.geometry.polygon.Polygon at 0x7f823d3831d0>"
      ]
     },
     "execution_count": 35,
     "metadata": {},
     "output_type": "execute_result"
    }
   ],
   "source": [
    "poly10500['below'][0]"
   ]
  },
  {
   "cell_type": "code",
   "execution_count": 36,
   "metadata": {},
   "outputs": [
    {
     "data": {
      "image/svg+xml": [
       "<svg xmlns=\"http://www.w3.org/2000/svg\" xmlns:xlink=\"http://www.w3.org/1999/xlink\" width=\"300\" height=\"300\" viewBox=\"6531.0867184466015 4235.757181478715 10615.998407766994 5141.007944734876\" preserveAspectRatio=\"xMinYMin meet\"><g transform=\"matrix(1,0,0,-1,0,13612.522307692307)\"><path fill-rule=\"evenodd\" fill=\"#66cc99\" stroke=\"#555555\" stroke-width=\"70.77332271844662\" opacity=\"0.6\" d=\"M 16753.9,5482.02 L 11944.4,8983.58 L 7013.99,5597.44 L 6924.271844660194,5520.4423076923085 L 7305.106796116504,5211.846153846154 L 7720.563106796117,5108.98076923077 L 8274.504854368932,5108.98076923077 L 9001.553398058253,5177.557692307692 L 9970.95145631068,5177.557692307692 L 11598.155339805826,5074.6923076923085 L 12463.689320388346,4903.25 L 13156.11650485437,4800.384615384615 L 13744.679611650488,4697.519230769231 L 14229.378640776698,4663.23076923077 L 15025.669902912625,4628.942307692308 L 15510.368932038835,4800.384615384615 L 16098.932038834952,4766.096153846154 L 16583.631067961163,4971.826923076923 L 16753.9,5482.02 z\" /></g></svg>"
      ],
      "text/plain": [
       "<shapely.geometry.polygon.Polygon at 0x7f823d3830f0>"
      ]
     },
     "execution_count": 36,
     "metadata": {},
     "output_type": "execute_result"
    }
   ],
   "source": [
    "poly10500['above'][0]"
   ]
  },
  {
   "cell_type": "markdown",
   "metadata": {},
   "source": [
    "## GRV 10600"
   ]
  },
  {
   "cell_type": "code",
   "execution_count": 37,
   "metadata": {},
   "outputs": [
    {
     "name": "stdout",
     "output_type": "stream",
     "text": [
      "Area (km^2) below the fault lines: 5.485470755614554\n",
      "Area (km^2) above the fault lines: 2.5266115058569385\n"
     ]
    }
   ],
   "source": [
    "i10600.insert(1, (11944.4, 8983.58))\n",
    "poly10600 = getGRV(subset10600, i10600)\n",
    "\n",
    "print(\"Area (km^2) below the fault lines: {}\".format(poly10600['below'][1]/(3.28084**2)/(10**6)))\n",
    "print(\"Area (km^2) above the fault lines: {}\".format(poly10600['above'][1]/(3.28084**2)/(10**6)))"
   ]
  },
  {
   "cell_type": "code",
   "execution_count": 38,
   "metadata": {},
   "outputs": [
    {
     "data": {
      "image/svg+xml": [
       "<svg xmlns=\"http://www.w3.org/2000/svg\" xmlns:xlink=\"http://www.w3.org/1999/xlink\" width=\"300\" height=\"300\" viewBox=\"6175.065631067961 4616.936019417476 11815.57747572816 11524.793345780436\" preserveAspectRatio=\"xMinYMin meet\"><g transform=\"matrix(1,0,0,-1,0,20758.66538461539)\"><path fill-rule=\"evenodd\" fill=\"#66cc99\" stroke=\"#555555\" stroke-width=\"78.7705165048544\" opacity=\"0.6\" d=\"M 17341.1,5054.55 L 11944.4,8983.58 L 6692.64,5407.78 L 6681.922330097086,5417.576923076924 L 6612.679611650485,5897.615384615386 L 6647.300970873785,6343.365384615385 L 6751.165048543689,6720.538461538462 L 6993.514563106797,7303.442307692307 L 7132.0,7577.750000000001 L 7408.970873786407,8126.365384615385 L 7720.563106796117,8777.846153846156 L 8170.64077669903,9600.769230769232 L 8516.854368932041,10217.96153846154 L 8863.067961165048,10560.846153846154 L 9140.038834951456,10938.019230769232 L 9347.766990291262,11349.480769230771 L 9797.844660194174,11898.096153846154 L 9970.95145631068,12618.153846153848 L 10074.815533980582,12961.038461538465 L 10317.16504854369,13063.90384615385 L 10490.271844660194,13201.057692307693 L 10628.7572815534,13612.51923076923 L 10871.106796116504,14023.980769230771 L 11390.427184466018,14435.44230769231 L 11978.990291262136,14744.038461538465 L 12290.582524271846,15258.365384615383 L 12429.067961165048,15395.519230769234 L 12567.553398058251,15326.942307692307 L 13502.330097087375,15704.115384615388 L 13813.922330097084,15704.115384615388 L 14437.106796116504,15635.538461538465 L 15025.669902912625,15395.519230769234 L 15129.533980582522,15121.21153846154 L 15337.262135922329,14675.46153846154 L 15475.747572815531,14264.000000000002 L 15683.475728155337,13681.096153846154 L 15821.961165048546,13235.346153846154 L 15925.825242718447,12412.423076923078 L 16064.31067961165,11555.21153846154 L 16168.174757281553,11075.173076923078 L 16272.038834951454,10698.0 L 16583.631067961163,10320.826923076924 L 17102.951456310682,9326.46153846154 L 17483.786407766987,8469.25 L 17553.029126213594,8023.5 L 17553.029126213594,7337.73076923077 L 17449.16504854369,6206.211538461539 L 17341.1,5054.55 z\" /></g></svg>"
      ],
      "text/plain": [
       "<shapely.geometry.polygon.Polygon at 0x7f823d383c88>"
      ]
     },
     "execution_count": 38,
     "metadata": {},
     "output_type": "execute_result"
    }
   ],
   "source": [
    "poly10600['below'][0]"
   ]
  },
  {
   "cell_type": "markdown",
   "metadata": {},
   "source": [
    "## GRV 10700"
   ]
  },
  {
   "cell_type": "code",
   "execution_count": 39,
   "metadata": {},
   "outputs": [
    {
     "name": "stdout",
     "output_type": "stream",
     "text": [
      "Area (km^2) below the fault lines: 6.3813426287773805\n",
      "Area (km^2) above the fault lines: 2.954437305159408\n"
     ]
    }
   ],
   "source": [
    "i10700.insert(1, (11944.4, 8983.58))\n",
    "poly10700 = getGRV(subset10700, i10700)\n",
    "\n",
    "print(\"Area (km^2) below the fault lines: {}\".format(poly10700['below'][1]/(3.28084**2)/(10**6)))\n",
    "print(\"Area (km^2) above the fault lines: {}\".format(poly10700['above'][1]/(3.28084**2)/(10**6)))"
   ]
  },
  {
   "cell_type": "code",
   "execution_count": 40,
   "metadata": {},
   "outputs": [
    {
     "data": {
      "image/svg+xml": [
       "<svg xmlns=\"http://www.w3.org/2000/svg\" xmlns:xlink=\"http://www.w3.org/1999/xlink\" width=\"300\" height=\"300\" viewBox=\"6175.065631067961 4616.936019417476 11815.57747572816 11524.793345780436\" preserveAspectRatio=\"xMinYMin meet\"><g transform=\"matrix(1,0,0,-1,0,20758.66538461539)\"><path fill-rule=\"evenodd\" fill=\"#66cc99\" stroke=\"#555555\" stroke-width=\"78.7705165048544\" opacity=\"0.6\" d=\"M 17341.1,5054.55 L 11944.4,8983.58 L 6692.64,5407.78 L 6681.922330097086,5417.576923076924 L 6612.679611650485,5897.615384615386 L 6647.300970873785,6343.365384615385 L 6751.165048543689,6720.538461538462 L 6993.514563106797,7303.442307692307 L 7132.0,7577.750000000001 L 7408.970873786407,8126.365384615385 L 7720.563106796117,8777.846153846156 L 8170.64077669903,9600.769230769232 L 8516.854368932041,10217.96153846154 L 8863.067961165048,10560.846153846154 L 9140.038834951456,10938.019230769232 L 9347.766990291262,11349.480769230771 L 9797.844660194174,11898.096153846154 L 9970.95145631068,12618.153846153848 L 10074.815533980582,12961.038461538465 L 10317.16504854369,13063.90384615385 L 10490.271844660194,13201.057692307693 L 10628.7572815534,13612.51923076923 L 10871.106796116504,14023.980769230771 L 11390.427184466018,14435.44230769231 L 11978.990291262136,14744.038461538465 L 12290.582524271846,15258.365384615383 L 12429.067961165048,15395.519230769234 L 12567.553398058251,15326.942307692307 L 13502.330097087375,15704.115384615388 L 13813.922330097084,15704.115384615388 L 14437.106796116504,15635.538461538465 L 15025.669902912625,15395.519230769234 L 15129.533980582522,15121.21153846154 L 15337.262135922329,14675.46153846154 L 15475.747572815531,14264.000000000002 L 15683.475728155337,13681.096153846154 L 15821.961165048546,13235.346153846154 L 15925.825242718447,12412.423076923078 L 16064.31067961165,11555.21153846154 L 16168.174757281553,11075.173076923078 L 16272.038834951454,10698.0 L 16583.631067961163,10320.826923076924 L 17102.951456310682,9326.46153846154 L 17483.786407766987,8469.25 L 17553.029126213594,8023.5 L 17553.029126213594,7337.73076923077 L 17449.16504854369,6206.211538461539 L 17341.1,5054.55 z\" /></g></svg>"
      ],
      "text/plain": [
       "<shapely.geometry.polygon.Polygon at 0x7f823d383c88>"
      ]
     },
     "execution_count": 40,
     "metadata": {},
     "output_type": "execute_result"
    }
   ],
   "source": [
    "poly10600['below'][0]"
   ]
  },
  {
   "cell_type": "markdown",
   "metadata": {},
   "source": [
    "## GRV 10800"
   ]
  },
  {
   "cell_type": "code",
   "execution_count": 41,
   "metadata": {},
   "outputs": [
    {
     "name": "stdout",
     "output_type": "stream",
     "text": [
      "Area (km^2) below the fault lines: 7.4710521583092255\n",
      "Area (km^2) above the fault lines: 3.4445284117815795\n"
     ]
    }
   ],
   "source": [
    "i10800.insert(1, (11944.4, 8983.58))\n",
    "poly10800 = getGRV(subset10800, i10800)\n",
    "\n",
    "print(\"Area (km^2) below the fault lines: {}\".format(poly10800['below'][1]/(3.28084**2)/(10**6)))\n",
    "print(\"Area (km^2) above the fault lines: {}\".format(poly10800['above'][1]/(3.28084**2)/(10**6)))"
   ]
  },
  {
   "cell_type": "code",
   "execution_count": 42,
   "metadata": {},
   "outputs": [
    {
     "data": {
      "image/svg+xml": [
       "<svg xmlns=\"http://www.w3.org/2000/svg\" xmlns:xlink=\"http://www.w3.org/1999/xlink\" width=\"300\" height=\"300\" viewBox=\"5620.383805825244 3471.803223300971 13705.112970873786 13562.832014936526\" preserveAspectRatio=\"xMinYMin meet\"><g transform=\"matrix(1,0,0,-1,0,20506.43846153847)\"><path fill-rule=\"evenodd\" fill=\"#66cc99\" stroke=\"#555555\" stroke-width=\"91.36741980582524\" opacity=\"0.6\" d=\"M 18817.9,3979.4 L 11944.4,8983.58 L 6230.68,5058.43 L 6127.980582524273,5246.134615384616 L 6162.6019417475745,5794.750000000001 L 6439.572815533979,6651.961538461538 L 6716.543689320388,7474.884615384617 L 6924.271844660194,7954.923076923076 L 7235.864077669904,8640.69230769231 L 7478.213592233012,9155.01923076923 L 7962.9126213592235,10046.519230769232 L 8239.88349514563,10492.269230769232 L 8586.097087378641,10938.019230769232 L 8966.932038834952,11418.057692307693 L 9278.524271844659,11829.51923076923 L 9555.495145631066,12481.000000000002 L 9624.737864077671,12892.46153846154 L 9659.359223300971,13132.480769230771 L 9901.708737864075,13441.076923076926 L 10213.300970873785,14092.557692307693 L 10455.650485436894,14675.46153846154 L 10594.135922330097,14984.057692307695 L 10732.621359223302,15121.21153846154 L 11113.456310679612,15292.65384615385 L 11528.912621359224,15326.942307692307 L 12463.689320388346,16184.15384615385 L 12913.766990291262,16458.46153846154 L 14783.320388349512,16527.03846153847 L 15752.71844660194,16424.173076923078 L 16064.31067961165,16184.15384615385 L 16272.038834951454,15601.250000000002 L 16722.116504854366,14435.44230769231 L 16860.601941747576,13989.692307692307 L 16791.35922330097,13441.076923076926 L 16825.980582524273,13166.76923076923 L 16895.223300970873,12343.846153846154 L 17033.708737864083,11452.346153846154 L 17276.05825242718,10766.576923076924 L 17587.65048543689,10286.538461538465 L 17864.621359223303,9772.21153846154 L 18245.45631067961,8949.288461538463 L 18383.94174757281,8057.788461538463 L 18487.805825242714,7337.73076923077 L 18695.53398058252,6446.23076923077 L 18695.53398058252,5486.153846153847 L 18764.776699029127,4526.076923076924 L 18799.398058252424,4286.057692307692 L 18817.9,3979.4 z\" /></g></svg>"
      ],
      "text/plain": [
       "<shapely.geometry.polygon.Polygon at 0x7f823d3a29e8>"
      ]
     },
     "execution_count": 42,
     "metadata": {},
     "output_type": "execute_result"
    }
   ],
   "source": [
    "poly10800['below'][0]"
   ]
  },
  {
   "cell_type": "markdown",
   "metadata": {},
   "source": [
    "## GRV at OWC 1"
   ]
  },
  {
   "cell_type": "code",
   "execution_count": 43,
   "metadata": {},
   "outputs": [],
   "source": [
    "pOWC = getsegment_polygon(OWCsubset,[(0.687, 780.32), (-0.72, 17603.37)] )\n",
    "pOWC['below'].sort()"
   ]
  },
  {
   "cell_type": "code",
   "execution_count": 44,
   "metadata": {},
   "outputs": [],
   "source": [
    "iOWC.insert(1, (11944.4, 8983.58))\n",
    "pOWC['below'].insert(0,iOWC[0])\n",
    "pOWC['below'].insert(0,iOWC[1])\n",
    "pOWC['below'].insert(0,iOWC[2])"
   ]
  },
  {
   "cell_type": "code",
   "execution_count": 45,
   "metadata": {},
   "outputs": [],
   "source": [
    "polyOWC = geometry.Polygon(pOWC['below'])"
   ]
  },
  {
   "cell_type": "code",
   "execution_count": 46,
   "metadata": {},
   "outputs": [
    {
     "data": {
      "image/svg+xml": [
       "<svg xmlns=\"http://www.w3.org/2000/svg\" xmlns:xlink=\"http://www.w3.org/1999/xlink\" width=\"300\" height=\"300\" viewBox=\"5377.389514563107 2645.631112770725 15592.07533980583 14836.064697535474\" preserveAspectRatio=\"xMinYMin meet\"><g transform=\"matrix(1,0,0,-1,0,20127.326923076922)\"><path fill-rule=\"evenodd\" fill=\"#66cc99\" stroke=\"#555555\" stroke-width=\"103.94716893203886\" opacity=\"0.6\" d=\"M 19529.5,3461.27 L 11944.4,8983.58 L 5991.27,4893.96 L 5954.8737864077675,5383.288461538462 L 6162.6019417475745,6171.923076923077 L 6266.466019417476,6617.673076923077 L 6404.9514563106795,7063.423076923077 L 6612.679611650485,7577.750000000001 L 6924.271844660194,8297.807692307693 L 7062.757281553399,8572.115384615385 L 7201.242718446601,8812.134615384615 L 7270.485436893203,8915.0 L 7374.349514563108,9189.307692307691 L 7651.3203883495125,9669.346153846154 L 7962.9126213592235,10217.96153846154 L 8447.611650485438,10869.442307692309 L 8689.961165048542,11212.326923076924 L 8863.067961165048,11486.634615384617 L 9036.174757281551,11726.653846153848 L 9243.902912621359,12069.538461538465 L 9347.766990291262,12378.134615384619 L 9451.631067961165,12652.442307692307 L 9486.252427184469,12995.326923076926 L 9624.737864077671,13303.923076923078 L 9832.466019417476,13543.94230769231 L 9867.087378640776,13543.94230769231 L 10247.922330097086,14675.46153846154 L 10697.999999999998,15326.942307692307 L 11459.66990291262,15772.69230769231 L 11805.883495145632,16149.865384615388 L 12255.961165048542,16595.615384615383 L 13467.708737864077,16835.634615384617 L 14540.97087378641,16904.21153846154 L 15510.368932038835,16904.21153846154 L 16375.902912621359,16355.596153846158 L 16652.873786407763,15566.96153846154 L 16895.223300970873,14812.615384615388 L 17033.708737864083,13406.788461538465 L 17102.951456310682,12412.423076923078 L 17310.679611650485,11555.21153846154 L 17587.65048543689,10835.153846153848 L 18141.59223300971,9806.500000000002 L 18557.048543689318,8812.134615384615 L 18660.912621359224,7714.903846153847 L 18799.398058252424,6960.557692307693 L 19007.12621359223,6377.653846153847 L 19180.23300970874,5760.461538461539 L 19284.097087378635,5143.269230769231 L 19457.203883495145,4320.346153846153 L 20391.980582524277,3223.115384615385 L 19529.5,3461.27 z\" /></g></svg>"
      ],
      "text/plain": [
       "<shapely.geometry.polygon.Polygon at 0x7f823d3a2b70>"
      ]
     },
     "execution_count": 46,
     "metadata": {},
     "output_type": "execute_result"
    }
   ],
   "source": [
    "polyOWC"
   ]
  },
  {
   "cell_type": "code",
   "execution_count": 47,
   "metadata": {},
   "outputs": [
    {
     "data": {
      "text/plain": [
       "8.225857373685455"
      ]
     },
     "execution_count": 47,
     "metadata": {},
     "output_type": "execute_result"
    }
   ],
   "source": [
    "polyOWC.area/(3.28084**2)/(10**6)"
   ]
  },
  {
   "cell_type": "markdown",
   "metadata": {},
   "source": [
    "## GRV OWC2"
   ]
  },
  {
   "cell_type": "code",
   "execution_count": 48,
   "metadata": {},
   "outputs": [],
   "source": [
    "pOWC2 = getsegment_polygon(OWC2subset,[(0.687, 780.32), (-0.72, 17603.37)] )\n",
    "pOWC2['above'].sort()"
   ]
  },
  {
   "cell_type": "code",
   "execution_count": 49,
   "metadata": {},
   "outputs": [],
   "source": [
    "iOWC2.insert(1, (11944.4, 8983.58))\n",
    "pOWC2['above'].insert(0,iOWC2[0])\n",
    "pOWC2['above'].insert(0,iOWC2[1])\n",
    "pOWC2['above'].insert(0,iOWC2[2])"
   ]
  },
  {
   "cell_type": "code",
   "execution_count": 50,
   "metadata": {},
   "outputs": [],
   "source": [
    "polyOWC2 = geometry.Polygon(pOWC2['above'])"
   ]
  },
  {
   "cell_type": "code",
   "execution_count": 51,
   "metadata": {},
   "outputs": [
    {
     "data": {
      "image/svg+xml": [
       "<svg xmlns=\"http://www.w3.org/2000/svg\" xmlns:xlink=\"http://www.w3.org/1999/xlink\" width=\"300\" height=\"300\" viewBox=\"6460.030400000001 4014.981938461539 11022.1992 5376.827661538462\" preserveAspectRatio=\"xMinYMin meet\"><g transform=\"matrix(1,0,0,-1,0,13406.791538461539)\"><path fill-rule=\"evenodd\" fill=\"#66cc99\" stroke=\"#555555\" stroke-width=\"73.48132799999999\" opacity=\"0.6\" d=\"M 17074.0,5248.86 L 11944.4,8983.58 L 6868.26,5496.26 L 6993.514563106797,5211.846153846154 L 7616.699029126215,5006.115384615385 L 8620.71844660194,4971.826923076923 L 9278.524271844659,4971.826923076923 L 10178.679611650483,4971.826923076923 L 11148.077669902912,4903.25 L 12532.932038834952,4697.519230769231 L 13398.466019417476,4594.653846153847 L 14437.106796116504,4423.211538461539 L 15233.398058252424,4423.211538461539 L 15995.067961165048,4491.788461538461 L 16756.73786407767,4628.942307692308 L 16999.087378640776,5074.6923076923085 L 17074.0,5248.86 z\" /></g></svg>"
      ],
      "text/plain": [
       "<shapely.geometry.polygon.Polygon at 0x7f823d3a6dd8>"
      ]
     },
     "execution_count": 51,
     "metadata": {},
     "output_type": "execute_result"
    }
   ],
   "source": [
    "polyOWC2"
   ]
  },
  {
   "cell_type": "code",
   "execution_count": 52,
   "metadata": {},
   "outputs": [
    {
     "data": {
      "text/plain": [
       "2.2810217526869403"
      ]
     },
     "execution_count": 52,
     "metadata": {},
     "output_type": "execute_result"
    }
   ],
   "source": [
    "polyOWC2.area/(3.28084**2)/(10**6)"
   ]
  },
  {
   "cell_type": "markdown",
   "metadata": {},
   "source": [
    "## Gross Rock Volume Calculation"
   ]
  },
  {
   "cell_type": "code",
   "execution_count": 53,
   "metadata": {},
   "outputs": [],
   "source": [
    "from sklearn.metrics import auc"
   ]
  },
  {
   "cell_type": "code",
   "execution_count": 54,
   "metadata": {},
   "outputs": [],
   "source": [
    "areasbelow = np.array([poly9800['below'][1], poly9900['below'][1], poly10000['below'][1],\n",
    "                      poly10100['below'][1], poly10200['below'][1], poly10300['below'][1],\n",
    "                      poly10400['below'][1], poly10500['below'][1], poly10600['below'][1],\n",
    "                      poly10700['below'][1], poly10800['below'][1], polyOWC.area])\n",
    "\n",
    "areasabove = np.array([poly9800['above'][1], poly9900['above'][1], poly10000['above'][1],\n",
    "                      poly10100['above'][1], poly10200['above'][1], poly10300['above'][1],\n",
    "                      poly10400['above'][1], poly10500['above'][1], polyOWC2.area])\n",
    "\n",
    "depthbelow = np.array([9800, 9900,10000, 10100, 10200, 10300, 10400, 10500, 10600, 10700, 10800,\n",
    "                      10830])\n",
    "\n",
    "depthabove = np.array([9800, 9900,10000,10100, 10200, 10300, 10400, 10500, 10562])"
   ]
  },
  {
   "cell_type": "code",
   "execution_count": 55,
   "metadata": {},
   "outputs": [
    {
     "data": {
      "text/plain": [
       "array([  442639.76447349,  4089098.20206983, 11635363.40850282,\n",
       "       18119276.0725918 , 24659156.05419067, 31097424.70643746,\n",
       "       40178649.94421932, 49435576.43397921, 59045119.58580353,\n",
       "       68688204.79053554, 80417741.29734153, 88542397.53769451])"
      ]
     },
     "execution_count": 55,
     "metadata": {},
     "output_type": "execute_result"
    }
   ],
   "source": [
    "areasbelow"
   ]
  },
  {
   "cell_type": "code",
   "execution_count": 56,
   "metadata": {},
   "outputs": [
    {
     "data": {
      "text/plain": [
       "array([  41133.60939369,  379991.54553239, 1081250.56086695,\n",
       "       1683787.32388161, 2291525.01542108, 2889820.17362532,\n",
       "       3733719.89011679, 4593947.1651534 , 5486942.38651384,\n",
       "       6383054.60235446, 7473056.47693495, 8228064.18991392])"
      ]
     },
     "execution_count": 56,
     "metadata": {},
     "output_type": "execute_result"
    }
   ],
   "source": [
    "areasbelow/(3.2804**2)"
   ]
  },
  {
   "cell_type": "code",
   "execution_count": 57,
   "metadata": {},
   "outputs": [],
   "source": [
    "import sklearn"
   ]
  },
  {
   "cell_type": "code",
   "execution_count": 62,
   "metadata": {},
   "outputs": [
    {
     "name": "stdout",
     "output_type": "stream",
     "text": [
      "The gross rock volume (ft^3) in South block is 37.27220805544931\n"
     ]
    },
    {
     "data": {
      "image/png": "[encoded data removed]",
      "text/plain": [
       "<Figure size 432x288 with 1 Axes>"
      ]
     },
     "metadata": {
      "needs_background": "light"
     },
     "output_type": "display_data"
    }
   ],
   "source": [
    "%matplotlib inline\n",
    "plt.scatter(depthbelow, areasbelow, c = 'm')\n",
    "plt.plot(depthbelow, areasbelow, c = 'k')\n",
    "plt.gca().invert_yaxis()\n",
    "plt.gca().set_xlabel(\"Countour Areas (ft^2)\")\n",
    "plt.gca().set_ylabel(\"Countour Areas (ft^2)\")\n",
    "plt.gca().set_xlabel(\"Contour TVDSS (ft)\")\n",
    "plt.gca().grid(True)\n",
    "\n",
    "plt.gca().set_title(\"South Flank Contour Areas vs TVDSS\", c='r')\n",
    "print(\"The gross rock volume (ft^3) in South block is {}\".format(sklearn.metrics.auc(depthbelow, areasbelow)/10**9))"
   ]
  },
  {
   "cell_type": "code",
   "execution_count": 61,
   "metadata": {},
   "outputs": [
    {
     "name": "stdout",
     "output_type": "stream",
     "text": [
      "The gross rock volume (ft^3) in South block is 8.512844183310916\n"
     ]
    },
    {
     "data": {
      "image/png": "[encoded data removed]",
      "text/plain": [
       "<Figure size 432x288 with 1 Axes>"
      ]
     },
     "metadata": {
      "needs_background": "light"
     },
     "output_type": "display_data"
    }
   ],
   "source": [
    "plt.scatter(depthabove, areasabove, c = 'm')\n",
    "plt.plot(depthabove, areasabove, c = 'k')\n",
    "plt.gca().invert_yaxis()\n",
    "plt.gca().set_xlabel(\"Countour Areas (ft^2)\")\n",
    "plt.gca().set_ylabel(\"Countour Areas (ft^2)\")\n",
    "plt.gca().set_xlabel(\"Contour TVDSS (ft)\")\n",
    "plt.gca().grid(True)\n",
    "\n",
    "plt.gca().set_title(\"North Flank Contour Areas vs TVDSS\", c= 'r')\n",
    "print(\"The gross rock volume (ft^3) in South block is {}\".format(sklearn.metrics.auc(depthabove, areasabove)/10**9))"
   ]
  },
  {
   "cell_type": "code",
   "execution_count": 60,
   "metadata": {},
   "outputs": [
    {
     "name": "stdout",
     "output_type": "stream",
     "text": [
      "The area is in South block37.27220805544931\n",
      "The area is in North block8.512844183310916\n"
     ]
    }
   ],
   "source": [
    "print(\"The area is in South block{}\".format(auc(depthbelow, areasbelow)/10**9))\n",
    "print(\"The area is in North block{}\".format(auc(depthabove, areasabove)/10**9))"
   ]
  }
 ],
 "metadata": {
  "kernelspec": {
   "display_name": "Stdlog",
   "language": "python",
   "name": "stdlog"
  },
  "language_info": {
   "codemirror_mode": {
    "name": "ipython",
    "version": 3
   },
   "file_extension": ".py",
   "mimetype": "text/x-python",
   "name": "python",
   "nbconvert_exporter": "python",
   "pygments_lexer": "ipython3",
   "version": "3.6.8"
  }
 },
 "nbformat": 4,
 "nbformat_minor": 2
}
