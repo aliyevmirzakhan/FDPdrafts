{
 "cells": [
  {
   "cell_type": "code",
   "execution_count": 2,
   "metadata": {},
   "outputs": [],
   "source": [
    "basedir = 'Out/'"
   ]
  },
  {
   "cell_type": "code",
   "execution_count": 1,
   "metadata": {},
   "outputs": [],
   "source": [
    "import numpy as np\n",
    "import pandas as pd\n",
    "import matplotlib.pyplot as plt"
   ]
  },
  {
   "cell_type": "code",
   "execution_count": 3,
   "metadata": {},
   "outputs": [],
   "source": [
    "well1 = pd.read_csv(basedir + \"Well1-PorSw.csv\")\n",
    "well2 = pd.read_csv(basedir + \"Well2-PorSw.csv\")\n",
    "well3 = pd.read_csv(basedir + \"Well3-PorSw.csv\")\n",
    "well4 = pd.read_csv(basedir + \"Well4-PorSw.csv\")\n",
    "well5 = pd.read_csv(basedir + \"Well5-PorSw.csv\")\n",
    "well6 = pd.read_csv(basedir + \"Well6-PorSw.csv\")"
   ]
  },
  {
   "cell_type": "code",
   "execution_count": 4,
   "metadata": {},
   "outputs": [
    {
     "data": {
      "text/plain": [
       "(array([   4.,    9.,   21.,   75.,   56.,   33.,   35.,  104.,  161.,\n",
       "         260.,  366.,  488.,  812., 1062., 1196.,  597.,  262.,   96.,\n",
       "          43.,   17.]),\n",
       " array([0.02541436, 0.04151934, 0.05762431, 0.07372928, 0.08983425,\n",
       "        0.10593923, 0.1220442 , 0.13814917, 0.15425414, 0.17035912,\n",
       "        0.18646409, 0.20256906, 0.21867403, 0.23477901, 0.25088398,\n",
       "        0.26698895, 0.28309392, 0.2991989 , 0.31530387, 0.33140884,\n",
       "        0.34751381]),\n",
       " <a list of 20 Patch objects>)"
      ]
     },
     "execution_count": 4,
     "metadata": {},
     "output_type": "execute_result"
    },
    {
     "data": {
      "image/png": "[encoded data removed]",
      "text/plain": [
       "<Figure size 432x288 with 1 Axes>"
      ]
     },
     "metadata": {
      "needs_background": "light"
     },
     "output_type": "display_data"
    }
   ],
   "source": [
    "por = np.concatenate([well1['density_Porosity'], well2['density_porosity'], well3['density_porosity'],\n",
    "                      well4['density_porosity'], well5['density_porosity'], well6['density_porosity']])\n",
    "plt.gca().set_title(\"Porosity General Histogram\")\n",
    "plt.hist(por, edgecolor = 'black', bins = 20)"
   ]
  }
 ],
 "metadata": {
  "kernelspec": {
   "display_name": "Stdlog",
   "language": "python",
   "name": "stdlog"
  },
  "language_info": {
   "codemirror_mode": {
    "name": "ipython",
    "version": 3
   },
   "file_extension": ".py",
   "mimetype": "text/x-python",
   "name": "python",
   "nbconvert_exporter": "python",
   "pygments_lexer": "ipython3",
   "version": "3.6.8"
  }
 },
 "nbformat": 4,
 "nbformat_minor": 4
}
