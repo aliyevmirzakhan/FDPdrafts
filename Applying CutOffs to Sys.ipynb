{
 "cells": [
  {
   "cell_type": "code",
   "execution_count": 2,
   "metadata": {},
   "outputs": [],
   "source": [
    "import numpy as np\n",
    "import pandas as pd\n",
    "import matplotlib.pyplot as plt\n",
    "\n",
    "import random"
   ]
  },
  {
   "cell_type": "code",
   "execution_count": 3,
   "metadata": {},
   "outputs": [],
   "source": [
    "basedir = 'Out/'"
   ]
  },
  {
   "cell_type": "code",
   "execution_count": 4,
   "metadata": {},
   "outputs": [],
   "source": [
    "well1 = pd.read_csv(basedir + \"Well1-PorSw.csv\")\n",
    "well2 = pd.read_csv(basedir + \"Well2-PorSw.csv\")\n",
    "well3 = pd.read_csv(basedir + \"Well3-PorSw.csv\")\n",
    "well4 = pd.read_csv(basedir + \"Well4-PorSw.csv\")\n",
    "well5 = pd.read_csv(basedir + \"Well5-PorSw.csv\")\n",
    "well6 = pd.read_csv(basedir + \"Well6-PorSw.csv\")"
   ]
  },
  {
   "cell_type": "code",
   "execution_count": 5,
   "metadata": {},
   "outputs": [],
   "source": [
    "well1.rename(columns={'density_Porosity':'density_porosity'}, inplace = True)"
   ]
  },
  {
   "cell_type": "code",
   "execution_count": 6,
   "metadata": {},
   "outputs": [],
   "source": [
    "Vsh_cut = 0.45\n",
    "Por_cut = 0.125\n",
    "Sw_cut = 0.45"
   ]
  },
  {
   "cell_type": "code",
   "execution_count": 7,
   "metadata": {},
   "outputs": [],
   "source": [
    "cutoff = {\"Vsh\": Vsh_cut, \"Por\": Por_cut, \"Sw\": Sw_cut}"
   ]
  },
  {
   "cell_type": "markdown",
   "metadata": {},
   "source": [
    "### Main Function "
   ]
  },
  {
   "cell_type": "code",
   "execution_count": 8,
   "metadata": {},
   "outputs": [],
   "source": [
    "def apply_cut(df, cutOff):\n",
    "    \"\"\"Function that takes a cutOff subsurface poperty DataFrame and Applies Cut off\n",
    "       \n",
    "       Parameters:\n",
    "            df (pd.DataFrame) - DataFrame containing fluid and rock properties\n",
    "            cutOff (dict) - {property: cut-off value}     \n",
    "        Note:\n",
    "            Nan values should be removed before passing a DataFrame to the function to avoid conflicts\n",
    "    \"\"\" \n",
    "    Vsh = np.array(df['Vshale'])\n",
    "    por = np.array(df['density_porosity'])\n",
    "    Sw = np.array(df['Sw'])\n",
    "    TVD = np.array(df['TVD'])\n",
    "    gross_thickness = TVD[-1] - TVD[0]\n",
    "    Vsh_In = []\n",
    "    por_In = []\n",
    "    Sw_In = []\n",
    "    TVD_In = []\n",
    "    i = 0\n",
    "    Thickness = []\n",
    "    \n",
    "    while(TVD[i]!=TVD[-1]):\n",
    "        Vsh_In.append((Vsh[i] + Vsh[i+1]) * 0.5)\n",
    "        por_In.append((por[i] + por[i+1]) * 0.5)\n",
    "        Sw_In.append((Sw[i] + Sw[i+1]) * 0.5)\n",
    "        TVD_In.append((TVD[i+1] + TVD[i]) * 0.5)\n",
    "        Thickness.append(TVD[i+1] - TVD[i])\n",
    "        i+=1\n",
    "    data = {'TVD': TVD_In, 'Thickness': Thickness, 'Sw_In': Sw_In, 'por_In': por_In, 'Vsh_In': Vsh_In}    \n",
    "    modified = pd.DataFrame(data)\n",
    "    filtered = modified[(modified['Vsh_In'] < cutOff['Vsh']) & (modified['por_In'] > cutOff['Por']) & \n",
    "                                                               (modified['Sw_In'] < cutOff['Sw'])]\n",
    "    net_thickness = np.sum(filtered['Thickness'])\n",
    "    net2gross = net_thickness/gross_thickness\n",
    "    return (net2gross, filtered)\n",
    "    "
   ]
  },
  {
   "cell_type": "markdown",
   "metadata": {},
   "source": [
    "### Well 1 Cut Off appliance"
   ]
  },
  {
   "cell_type": "code",
   "execution_count": 12,
   "metadata": {},
   "outputs": [
    {
     "name": "stdout",
     "output_type": "stream",
     "text": [
      "Net to Gross: 0.9353711790393013\n",
      "\n",
      "Cut Off applied Properties:\n",
      "            TVD  Thickness     Sw_In    por_In    Vsh_In\n",
      "9     10259.75        0.5  0.390301  0.216298  0.365761\n",
      "10    10260.25        0.5  0.291450  0.234530  0.352681\n",
      "11    10260.75        0.5  0.229349  0.253039  0.345668\n",
      "12    10261.25        0.5  0.211087  0.262707  0.339726\n",
      "13    10261.75        0.5  0.220151  0.257459  0.328238\n",
      "...        ...        ...       ...       ...       ...\n",
      "1098  10804.25        0.5  0.364014  0.241160  0.408543\n",
      "1099  10804.75        0.5  0.368752  0.241989  0.348812\n",
      "1100  10805.25        0.5  0.375026  0.241713  0.379068\n",
      "1108  10809.25        0.5  0.428042  0.236740  0.301226\n",
      "1109  10809.75        0.5  0.444936  0.234530  0.144290\n",
      "\n",
      "[1071 rows x 5 columns]\n",
      "\n"
     ]
    }
   ],
   "source": [
    "well1_NTG, well1_cut = apply_cut(well1, cutoff) \n",
    "print(\"Net to Gross: {}\\n\".format(well1_NTG))\n",
    "print(\"Cut Off applied Properties:\\n {}\\n\".format(well1_cut))"
   ]
  },
  {
   "cell_type": "code",
   "execution_count": 11,
   "metadata": {},
   "outputs": [],
   "source": [
    "well1_cut.to_csv(\"cutoffapplied/well1Filtered.csv\")"
   ]
  },
  {
   "cell_type": "markdown",
   "metadata": {},
   "source": [
    "### Well 2 Cut Off applience"
   ]
  },
  {
   "cell_type": "code",
   "execution_count": 13,
   "metadata": {},
   "outputs": [],
   "source": [
    "well2_NTG, well2_cut = apply_cut(well2, cutoff)"
   ]
  },
  {
   "cell_type": "code",
   "execution_count": 14,
   "metadata": {},
   "outputs": [
    {
     "data": {
      "text/plain": [
       "0.42701525054466233"
      ]
     },
     "execution_count": 14,
     "metadata": {},
     "output_type": "execute_result"
    }
   ],
   "source": [
    "well2_NTG"
   ]
  },
  {
   "cell_type": "code",
   "execution_count": 15,
   "metadata": {},
   "outputs": [],
   "source": [
    "well2_cut.to_csv(\"cutoffapplied/well2Filtered.csv\")"
   ]
  },
  {
   "cell_type": "markdown",
   "metadata": {},
   "source": [
    "### Well 3 Cut Off applience"
   ]
  },
  {
   "cell_type": "code",
   "execution_count": 16,
   "metadata": {},
   "outputs": [],
   "source": [
    "well3_NTG, well3_cut = apply_cut(well3, cutoff)"
   ]
  },
  {
   "cell_type": "code",
   "execution_count": 17,
   "metadata": {},
   "outputs": [
    {
     "data": {
      "text/plain": [
       "0.747159058880523"
      ]
     },
     "execution_count": 17,
     "metadata": {},
     "output_type": "execute_result"
    }
   ],
   "source": [
    "well3_NTG"
   ]
  },
  {
   "cell_type": "code",
   "execution_count": 18,
   "metadata": {},
   "outputs": [],
   "source": [
    "well3_cut.to_csv(\"cutoffapplied/well3Filtered.csv\")"
   ]
  },
  {
   "cell_type": "markdown",
   "metadata": {},
   "source": [
    "### Well 4 Cut Off applience"
   ]
  },
  {
   "cell_type": "code",
   "execution_count": 19,
   "metadata": {},
   "outputs": [],
   "source": [
    "well4_NTG, well4_cut = apply_cut(well4, cutoff)"
   ]
  },
  {
   "cell_type": "code",
   "execution_count": 20,
   "metadata": {},
   "outputs": [
    {
     "data": {
      "text/plain": [
       "0.9930612593160283"
      ]
     },
     "execution_count": 20,
     "metadata": {},
     "output_type": "execute_result"
    }
   ],
   "source": [
    "well4_NTG"
   ]
  },
  {
   "cell_type": "code",
   "execution_count": 21,
   "metadata": {},
   "outputs": [],
   "source": [
    "well4_cut.to_csv(\"cutoffapplied/well4Filtered.csv\")"
   ]
  },
  {
   "cell_type": "markdown",
   "metadata": {},
   "source": [
    "### Well 5 Cut Off applience"
   ]
  },
  {
   "cell_type": "code",
   "execution_count": 22,
   "metadata": {},
   "outputs": [],
   "source": [
    "well5_NTG, well5_cut = apply_cut(well5,cutoff)"
   ]
  },
  {
   "cell_type": "code",
   "execution_count": 23,
   "metadata": {},
   "outputs": [
    {
     "data": {
      "text/plain": [
       "0.6807503432241916"
      ]
     },
     "execution_count": 23,
     "metadata": {},
     "output_type": "execute_result"
    }
   ],
   "source": [
    "well5_NTG"
   ]
  },
  {
   "cell_type": "code",
   "execution_count": 24,
   "metadata": {},
   "outputs": [],
   "source": [
    "well5_cut.to_csv(\"cutoffapplied/well5Filtered.csv\")"
   ]
  },
  {
   "cell_type": "markdown",
   "metadata": {},
   "source": [
    "### Well6 Cut Off applience"
   ]
  },
  {
   "cell_type": "code",
   "execution_count": 25,
   "metadata": {},
   "outputs": [],
   "source": [
    "well6_NTG, well6_cut = apply_cut(well6, cutoff)"
   ]
  },
  {
   "cell_type": "code",
   "execution_count": 26,
   "metadata": {},
   "outputs": [
    {
     "data": {
      "text/plain": [
       "0.4419206444668736"
      ]
     },
     "execution_count": 26,
     "metadata": {},
     "output_type": "execute_result"
    }
   ],
   "source": [
    "well6_NTG"
   ]
  },
  {
   "cell_type": "code",
   "execution_count": 27,
   "metadata": {},
   "outputs": [],
   "source": [
    "well6_cut.to_csv(\"cutoffapplied/well6Filtered.csv\")"
   ]
  },
  {
   "cell_type": "markdown",
   "metadata": {},
   "source": [
    "## Random Take"
   ]
  },
  {
   "cell_type": "code",
   "execution_count": 27,
   "metadata": {},
   "outputs": [],
   "source": [
    "# Porosity Distribution\n",
    "\n",
    "por = np.concatenate([np.array(well1_cut['por_In']), np.array(well2_cut['por_In']),\n",
    "                     np.array(well3_cut['por_In']), np.array(well4_cut['por_In']),\n",
    "                     np.array(well5_cut['por_In']), np.array(well6_cut['por_In'])])"
   ]
  },
  {
   "cell_type": "code",
   "execution_count": 30,
   "metadata": {},
   "outputs": [
    {
     "data": {
      "text/plain": [
       "(array([ 11.,  16.,  46.,  30.,  51.,  66.,  99., 179., 353., 475., 643.,\n",
       "        829., 649., 359., 237., 126.,  49.,  30.,  15.,  13.]),\n",
       " array([0.13121547, 0.14191989, 0.15262431, 0.16332873, 0.17403315,\n",
       "        0.18473757, 0.19544199, 0.20614641, 0.21685083, 0.22755525,\n",
       "        0.23825967, 0.24896409, 0.25966851, 0.27037293, 0.28107735,\n",
       "        0.29178177, 0.30248619, 0.31319061, 0.32389503, 0.33459945,\n",
       "        0.34530387]),\n",
       " <a list of 20 Patch objects>)"
      ]
     },
     "execution_count": 30,
     "metadata": {},
     "output_type": "execute_result"
    },
    {
     "data": {
      "image/png": "[encoded data removed]",
      "text/plain": [
       "<Figure size 432x288 with 1 Axes>"
      ]
     },
     "metadata": {
      "needs_background": "light"
     },
     "output_type": "display_data"
    }
   ],
   "source": [
    "plt.gca().set_title(\"Porosity General Histogram\")\n",
    "plt.hist(por, edgecolor = 'black', bins = 20)"
   ]
  },
  {
   "cell_type": "code",
   "execution_count": 32,
   "metadata": {},
   "outputs": [],
   "source": [
    "# Sw Distribution\n",
    "\n",
    "Sw = np.concatenate([np.array(well1_cut['Sw_In']), np.array(well2_cut['Sw_In']),\n",
    "                     np.array(well3_cut['Sw_In']), np.array(well4_cut['Sw_In']),\n",
    "                     np.array(well5_cut['Sw_In']), np.array(well6_cut['Sw_In'])])"
   ]
  },
  {
   "cell_type": "code",
   "execution_count": 39,
   "metadata": {},
   "outputs": [
    {
     "data": {
      "text/plain": [
       "4276"
      ]
     },
     "execution_count": 39,
     "metadata": {},
     "output_type": "execute_result"
    }
   ],
   "source": [
    "len(por)"
   ]
  },
  {
   "cell_type": "code",
   "execution_count": 35,
   "metadata": {},
   "outputs": [
    {
     "data": {
      "text/plain": [
       "(array([425., 455., 596., 782., 766., 500., 344., 181., 134.,  93.]),\n",
       " array([0.05831881, 0.09744186, 0.13656492, 0.17568798, 0.21481103,\n",
       "        0.25393409, 0.29305715, 0.33218021, 0.37130326, 0.41042632,\n",
       "        0.44954938]),\n",
       " <a list of 10 Patch objects>)"
      ]
     },
     "execution_count": 35,
     "metadata": {},
     "output_type": "execute_result"
    },
    {
     "data": {
      "image/png": "[encoded data removed]",
      "text/plain": [
       "<Figure size 432x288 with 1 Axes>"
      ]
     },
     "metadata": {
      "needs_background": "light"
     },
     "output_type": "display_data"
    }
   ],
   "source": [
    "plt.gca().set_title(\"Porosity General Histogram\")\n",
    "plt.hist(Sw, edgecolor = 'black', bins = 10)"
   ]
  },
  {
   "cell_type": "markdown",
   "metadata": {},
   "source": [
    "### Monte Fucking Carlo"
   ]
  },
  {
   "cell_type": "code",
   "execution_count": 40,
   "metadata": {},
   "outputs": [
    {
     "ename": "AttributeError",
     "evalue": "'int' object has no attribute 'randint'",
     "output_type": "error",
     "traceback": [
      "\u001b[0;31m---------------------------------------------------------------------------\u001b[0m",
      "\u001b[0;31mAttributeError\u001b[0m                            Traceback (most recent call last)",
      "\u001b[0;32m<ipython-input-40-c7c06dddf39f>\u001b[0m in \u001b[0;36m<module>\u001b[0;34m\u001b[0m\n\u001b[1;32m      1\u001b[0m \u001b[0mmc\u001b[0m \u001b[0;34m=\u001b[0m \u001b[0;34m[\u001b[0m\u001b[0;34m]\u001b[0m\u001b[0;34m\u001b[0m\u001b[0;34m\u001b[0m\u001b[0m\n\u001b[1;32m      2\u001b[0m \u001b[0;32mfor\u001b[0m \u001b[0mi\u001b[0m \u001b[0;32min\u001b[0m \u001b[0mrange\u001b[0m\u001b[0;34m(\u001b[0m\u001b[0;36m1000000\u001b[0m\u001b[0;34m)\u001b[0m\u001b[0;34m:\u001b[0m\u001b[0;34m\u001b[0m\u001b[0;34m\u001b[0m\u001b[0m\n\u001b[0;32m----> 3\u001b[0;31m     \u001b[0mrandom\u001b[0m \u001b[0;34m=\u001b[0m \u001b[0mrandom\u001b[0m\u001b[0;34m.\u001b[0m\u001b[0mrandint\u001b[0m\u001b[0;34m(\u001b[0m\u001b[0;36m0\u001b[0m\u001b[0;34m,\u001b[0m \u001b[0;36m4276\u001b[0m\u001b[0;34m)\u001b[0m\u001b[0;34m\u001b[0m\u001b[0;34m\u001b[0m\u001b[0m\n\u001b[0m\u001b[1;32m      4\u001b[0m     \u001b[0mSw_random\u001b[0m \u001b[0;34m=\u001b[0m \u001b[0mSw\u001b[0m\u001b[0;34m[\u001b[0m\u001b[0mrandom\u001b[0m\u001b[0;34m]\u001b[0m\u001b[0;34m\u001b[0m\u001b[0;34m\u001b[0m\u001b[0m\n\u001b[1;32m      5\u001b[0m     \u001b[0mpor_random\u001b[0m \u001b[0;34m=\u001b[0m \u001b[0mpor\u001b[0m\u001b[0;34m[\u001b[0m\u001b[0mrandom\u001b[0m\u001b[0;34m]\u001b[0m\u001b[0;34m\u001b[0m\u001b[0;34m\u001b[0m\u001b[0m\n",
      "\u001b[0;31mAttributeError\u001b[0m: 'int' object has no attribute 'randint'"
     ]
    }
   ],
   "source": [
    "mc = []\n",
    "for i in range(1000000):\n",
    "    random = random.ra\n",
    "    Sw_random = Sw[random]\n",
    "    por_random = por[random]\n",
    "    \n",
    "    mc.append(Sw_random*por_random)"
   ]
  }
 ],
 "metadata": {
  "kernelspec": {
   "display_name": "Stdlog",
   "language": "python",
   "name": "stdlog"
  },
  "language_info": {
   "codemirror_mode": {
    "name": "ipython",
    "version": 3
   },
   "file_extension": ".py",
   "mimetype": "text/x-python",
   "name": "python",
   "nbconvert_exporter": "python",
   "pygments_lexer": "ipython3",
   "version": "3.6.8"
  }
 },
 "nbformat": 4,
 "nbformat_minor": 4
}
